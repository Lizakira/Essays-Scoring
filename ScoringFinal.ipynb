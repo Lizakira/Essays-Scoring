{
 "cells": [
  {
   "cell_type": "markdown",
   "metadata": {
    "id": "K_dGS6prDJtf"
   },
   "source": [
    "**Chargement du dataset**"
   ]
  },
  {
   "cell_type": "code",
   "execution_count": 1,
   "metadata": {
    "id": "UnVbYIPMDPZq"
   },
   "outputs": [],
   "source": [
    "import pandas as pd\n",
    "import traceback\n",
    "import matplotlib.pyplot as plt\n",
    "import re\n",
    "import seaborn as sns\n",
    "from nltk.corpus import stopwords\n",
    "from nltk.tokenize import word_tokenize\n",
    "\n",
    "try:\n",
    "    data = pd.read_csv('train.csv')\n",
    "    df = data.copy()\n",
    "\n",
    "except Exception as e:\n",
    "    traceback.print_exc()"
   ]
  },
  {
   "cell_type": "markdown",
   "metadata": {
    "id": "qrZYCysfkrOo"
   },
   "source": [
    "**Visualisation des données**"
   ]
  },
  {
   "cell_type": "code",
   "execution_count": 3,
   "metadata": {
    "colab": {
     "base_uri": "https://localhost:8080/",
     "height": 206
    },
    "id": "3PbCLC_BZArF",
    "outputId": "d7ae56ba-593b-4bbf-cf02-4e3281c53bd9"
   },
   "outputs": [
    {
     "data": {
      "application/vnd.google.colaboratory.intrinsic+json": {
       "summary": "{\n  \"name\": \"data\",\n  \"rows\": 17307,\n  \"fields\": [\n    {\n      \"column\": \"essay_id\",\n      \"properties\": {\n        \"dtype\": \"string\",\n        \"num_unique_values\": 17307,\n        \"samples\": [\n          \"bb4c434\",\n          \"44e88b0\",\n          \"0ba78ec\"\n        ],\n        \"semantic_type\": \"\",\n        \"description\": \"\"\n      }\n    },\n    {\n      \"column\": \"full_text\",\n      \"properties\": {\n        \"dtype\": \"string\",\n        \"num_unique_values\": 17307,\n        \"samples\": [\n          \"People tend to use there cars so much, they basically can't live or get through the day with out their car. We use the car to go every where rather it's to the grocery store , work or just to go hang out with friends and family! Just traveling in general. Well imagine if we limited the usage of cars in our community! I strongly believe that doing this would have many advantages to our community for many reasons like it will make people less stressful all the time, there would be less accidents and it would definitly be better for the environment.\\n\\nOMG I ran out of gas or OH my i have to take my car to the shop to get it fixed is usually the two main things you hear people stay when the word \\\"car\\\" comes up. Having a car comes with alot of stress because it of expenses and having to take of its every need and usually when someone is stressed they are not the best person you wanna have a conversation with. I think that if we limit the usage of cars a lot of people in the community will be alot happier. According to the article\\n\\n\\\"Car-free Cities\\\"\\n\\nby\\n\\nElisabeth Rosenthal in source 2 a lady name Heidrun Walter says \\\" When i had a car i was always tense. I'm much happier this way.\\\" and i think that is a perfect example of limited car usauage can make a person happier.\\n\\nIn addition, I feel that if that if we limit the car usage in our community it will make this community a much safer environment. We hear and see about many car accidents in our country and community and cars can be very very dangerous. People often get injuried and/or die in car recks to. So limitting the car usage in the communitry will keep people more safe and most importantly alive . Kids will be able to run aroumd the neighborhood and play with their friends and also cross the street safely without the disruption of a car coming and stopping them from what they are doing\\u00a0 because they do not wants to get hurt from the car coming because they do not know who is driving the car.\\n\\nLast but not least limiting the use of car usage in the community because it would definitly be better for the environment. In science class we often talk about how cars polute the air and just mess up the waehter in the car and me my self i can also feel the car changing the more i see cars more cars in the streets. I think that it makes the days hotter and i also think that it makes the winters come around earlier and it makes it alot more colder. I live in the Sunshine florida and in the south. So all year round its usually hot extremly hot but has i realize more people are driving around the winers seem ALOT more cold then it usually is and the cold last for longer periods of time.\\n\\nIn conclusion, I belive that if we limit the car usuage in our community it will make it a better place for many reasons. Like it will make people less stressful and\\u00a0 be happier, there will be less accidents on the road and it will also help the environment a lot. \\u00a0\\u00a0\\u00a0\\u00a0\\u00a0\\u00a0\\u00a0\\u00a0\\u00a0\\u00a0\\u00a0\\u00a0\\u00a0 \\u00a0\\u00a0\\u00a0\\u00a0\\u00a0    \",\n          \"Imagine being a top scientist at NASA and Viking 1 spacecraft \\\"spotted the shadowy likeness of a human face.\\\" A lot of people thought of alien life possibility, but others thought it to be just a natural landform. What would your thoughts be about the image? The face of Mars is a natural landform. There's similar landforms on Earth, high pixel photos taken, and not enough reliable information to support the alien life theory.\\n\\nTo begin, there are similar landforms on Earth to the one on Mars. As stated in the text, \\\"what the picture actually shows is the Martian equivalent of a butte or mesa- landforms common around the American West.\\\" Also stated in the text is Garvin giving his opinion, \\\"it reminds me most of Middle Butte in the Snake River Plain of Idaho.\\\"\\n\\nAnother issue with the alien life theory is the fact that NASA has high quality cameras. Quoting the text, \\\"each pixel in the 2001 image spans 1.56 meters, compared to 43 meters per pixel in the best 1976 Viking photo.\\\" In the result of having high quality pictures you could see small details clearly. As stated in the article Garvin said, \\\" 'so, if there were objects in this picture like airplanes on the ground or Egyptian-style pyramids or even small shacks, you could see what they were!' \\\" Concluding that statement nothing other than the landform that had resembled a face was seen on Mars.\\n\\nFinally, there wasn't enough evidence to support the claim of alien life on Mars. The first pictures were blurry and had haze or cloud coverage. This theory was more popular on the online world than in the science world. As stated in the text, \\\"the 'Face on Mars' has since become a pop icon. It has starred in a Hollywood film, appeared in books, magazines, radio talk shows-even haunted grocery store checkout lines for 25 years!\\\" This proves that this might be just for publicity and attention. There has been many conspiracy theorists.\\n\\nUltimately, the face on Mars is just a natural landform. There's similar landforms on Earth, high pixel photos taken, and not enough reliable information to support the alien life theory.       \",\n          \"The face of Mars could not be created by aliens. It is a land form created by the conditions of mars and looks like a face only by coincidence. Mesa's are common in this area of Mars and there are many others like this one just without the same shadows which makes the appearance of a human's face.\\n\\nOut of so many different land forms in Cydonia why should this be any different. In the second paragrapgh of the article, it stated that the Cydonia region is known for its buttes and mesas. The face of Mars is just another mesa no different that any other one except for its unique shadows. It is strange to see a formation on an supposedly uninhabited planet that depicts a \\\"human\\\" face. Espescially when no human has ever set foot on the planet of Mars before. But at the same time, that is all the more reason to believe that this is nothing more that a weird coincidence since no person has ever been there.\\n\\nTo conspiracy theorists dismay, this strange landform is nothing more than martian butte or mesa and a weird coincidence. It is an interesting formation that stumped and puzzled scientests all over the world. But we now know the formation is not anything that will reveal alien lifeforms or alien activity.        \"\n        ],\n        \"semantic_type\": \"\",\n        \"description\": \"\"\n      }\n    },\n    {\n      \"column\": \"score\",\n      \"properties\": {\n        \"dtype\": \"number\",\n        \"std\": 1,\n        \"min\": 1,\n        \"max\": 6,\n        \"num_unique_values\": 6,\n        \"samples\": [\n          3,\n          4,\n          6\n        ],\n        \"semantic_type\": \"\",\n        \"description\": \"\"\n      }\n    }\n  ]\n}",
       "type": "dataframe",
       "variable_name": "data"
      },
      "text/html": [
       "\n",
       "  <div id=\"df-13cef911-3732-4aff-974b-f1a1ed385d48\" class=\"colab-df-container\">\n",
       "    <div>\n",
       "<style scoped>\n",
       "    .dataframe tbody tr th:only-of-type {\n",
       "        vertical-align: middle;\n",
       "    }\n",
       "\n",
       "    .dataframe tbody tr th {\n",
       "        vertical-align: top;\n",
       "    }\n",
       "\n",
       "    .dataframe thead th {\n",
       "        text-align: right;\n",
       "    }\n",
       "</style>\n",
       "<table border=\"1\" class=\"dataframe\">\n",
       "  <thead>\n",
       "    <tr style=\"text-align: right;\">\n",
       "      <th></th>\n",
       "      <th>essay_id</th>\n",
       "      <th>full_text</th>\n",
       "      <th>score</th>\n",
       "    </tr>\n",
       "  </thead>\n",
       "  <tbody>\n",
       "    <tr>\n",
       "      <th>0</th>\n",
       "      <td>000d118</td>\n",
       "      <td>Many people have car where they live. The thin...</td>\n",
       "      <td>3</td>\n",
       "    </tr>\n",
       "    <tr>\n",
       "      <th>1</th>\n",
       "      <td>000fe60</td>\n",
       "      <td>I am a scientist at NASA that is discussing th...</td>\n",
       "      <td>3</td>\n",
       "    </tr>\n",
       "    <tr>\n",
       "      <th>2</th>\n",
       "      <td>001ab80</td>\n",
       "      <td>People always wish they had the same technolog...</td>\n",
       "      <td>4</td>\n",
       "    </tr>\n",
       "    <tr>\n",
       "      <th>3</th>\n",
       "      <td>001bdc0</td>\n",
       "      <td>We all heard about Venus, the planet without a...</td>\n",
       "      <td>4</td>\n",
       "    </tr>\n",
       "    <tr>\n",
       "      <th>4</th>\n",
       "      <td>002ba53</td>\n",
       "      <td>Dear, State Senator\\n\\nThis is a letter to arg...</td>\n",
       "      <td>3</td>\n",
       "    </tr>\n",
       "  </tbody>\n",
       "</table>\n",
       "</div>\n",
       "    <div class=\"colab-df-buttons\">\n",
       "\n",
       "  <div class=\"colab-df-container\">\n",
       "    <button class=\"colab-df-convert\" onclick=\"convertToInteractive('df-13cef911-3732-4aff-974b-f1a1ed385d48')\"\n",
       "            title=\"Convert this dataframe to an interactive table.\"\n",
       "            style=\"display:none;\">\n",
       "\n",
       "  <svg xmlns=\"http://www.w3.org/2000/svg\" height=\"24px\" viewBox=\"0 -960 960 960\">\n",
       "    <path d=\"M120-120v-720h720v720H120Zm60-500h600v-160H180v160Zm220 220h160v-160H400v160Zm0 220h160v-160H400v160ZM180-400h160v-160H180v160Zm440 0h160v-160H620v160ZM180-180h160v-160H180v160Zm440 0h160v-160H620v160Z\"/>\n",
       "  </svg>\n",
       "    </button>\n",
       "\n",
       "  <style>\n",
       "    .colab-df-container {\n",
       "      display:flex;\n",
       "      gap: 12px;\n",
       "    }\n",
       "\n",
       "    .colab-df-convert {\n",
       "      background-color: #E8F0FE;\n",
       "      border: none;\n",
       "      border-radius: 50%;\n",
       "      cursor: pointer;\n",
       "      display: none;\n",
       "      fill: #1967D2;\n",
       "      height: 32px;\n",
       "      padding: 0 0 0 0;\n",
       "      width: 32px;\n",
       "    }\n",
       "\n",
       "    .colab-df-convert:hover {\n",
       "      background-color: #E2EBFA;\n",
       "      box-shadow: 0px 1px 2px rgba(60, 64, 67, 0.3), 0px 1px 3px 1px rgba(60, 64, 67, 0.15);\n",
       "      fill: #174EA6;\n",
       "    }\n",
       "\n",
       "    .colab-df-buttons div {\n",
       "      margin-bottom: 4px;\n",
       "    }\n",
       "\n",
       "    [theme=dark] .colab-df-convert {\n",
       "      background-color: #3B4455;\n",
       "      fill: #D2E3FC;\n",
       "    }\n",
       "\n",
       "    [theme=dark] .colab-df-convert:hover {\n",
       "      background-color: #434B5C;\n",
       "      box-shadow: 0px 1px 3px 1px rgba(0, 0, 0, 0.15);\n",
       "      filter: drop-shadow(0px 1px 2px rgba(0, 0, 0, 0.3));\n",
       "      fill: #FFFFFF;\n",
       "    }\n",
       "  </style>\n",
       "\n",
       "    <script>\n",
       "      const buttonEl =\n",
       "        document.querySelector('#df-13cef911-3732-4aff-974b-f1a1ed385d48 button.colab-df-convert');\n",
       "      buttonEl.style.display =\n",
       "        google.colab.kernel.accessAllowed ? 'block' : 'none';\n",
       "\n",
       "      async function convertToInteractive(key) {\n",
       "        const element = document.querySelector('#df-13cef911-3732-4aff-974b-f1a1ed385d48');\n",
       "        const dataTable =\n",
       "          await google.colab.kernel.invokeFunction('convertToInteractive',\n",
       "                                                    [key], {});\n",
       "        if (!dataTable) return;\n",
       "\n",
       "        const docLinkHtml = 'Like what you see? Visit the ' +\n",
       "          '<a target=\"_blank\" href=https://colab.research.google.com/notebooks/data_table.ipynb>data table notebook</a>'\n",
       "          + ' to learn more about interactive tables.';\n",
       "        element.innerHTML = '';\n",
       "        dataTable['output_type'] = 'display_data';\n",
       "        await google.colab.output.renderOutput(dataTable, element);\n",
       "        const docLink = document.createElement('div');\n",
       "        docLink.innerHTML = docLinkHtml;\n",
       "        element.appendChild(docLink);\n",
       "      }\n",
       "    </script>\n",
       "  </div>\n",
       "\n",
       "\n",
       "<div id=\"df-1b26bade-124a-4da0-8851-f79ddce031c3\">\n",
       "  <button class=\"colab-df-quickchart\" onclick=\"quickchart('df-1b26bade-124a-4da0-8851-f79ddce031c3')\"\n",
       "            title=\"Suggest charts\"\n",
       "            style=\"display:none;\">\n",
       "\n",
       "<svg xmlns=\"http://www.w3.org/2000/svg\" height=\"24px\"viewBox=\"0 0 24 24\"\n",
       "     width=\"24px\">\n",
       "    <g>\n",
       "        <path d=\"M19 3H5c-1.1 0-2 .9-2 2v14c0 1.1.9 2 2 2h14c1.1 0 2-.9 2-2V5c0-1.1-.9-2-2-2zM9 17H7v-7h2v7zm4 0h-2V7h2v10zm4 0h-2v-4h2v4z\"/>\n",
       "    </g>\n",
       "</svg>\n",
       "  </button>\n",
       "\n",
       "<style>\n",
       "  .colab-df-quickchart {\n",
       "      --bg-color: #E8F0FE;\n",
       "      --fill-color: #1967D2;\n",
       "      --hover-bg-color: #E2EBFA;\n",
       "      --hover-fill-color: #174EA6;\n",
       "      --disabled-fill-color: #AAA;\n",
       "      --disabled-bg-color: #DDD;\n",
       "  }\n",
       "\n",
       "  [theme=dark] .colab-df-quickchart {\n",
       "      --bg-color: #3B4455;\n",
       "      --fill-color: #D2E3FC;\n",
       "      --hover-bg-color: #434B5C;\n",
       "      --hover-fill-color: #FFFFFF;\n",
       "      --disabled-bg-color: #3B4455;\n",
       "      --disabled-fill-color: #666;\n",
       "  }\n",
       "\n",
       "  .colab-df-quickchart {\n",
       "    background-color: var(--bg-color);\n",
       "    border: none;\n",
       "    border-radius: 50%;\n",
       "    cursor: pointer;\n",
       "    display: none;\n",
       "    fill: var(--fill-color);\n",
       "    height: 32px;\n",
       "    padding: 0;\n",
       "    width: 32px;\n",
       "  }\n",
       "\n",
       "  .colab-df-quickchart:hover {\n",
       "    background-color: var(--hover-bg-color);\n",
       "    box-shadow: 0 1px 2px rgba(60, 64, 67, 0.3), 0 1px 3px 1px rgba(60, 64, 67, 0.15);\n",
       "    fill: var(--button-hover-fill-color);\n",
       "  }\n",
       "\n",
       "  .colab-df-quickchart-complete:disabled,\n",
       "  .colab-df-quickchart-complete:disabled:hover {\n",
       "    background-color: var(--disabled-bg-color);\n",
       "    fill: var(--disabled-fill-color);\n",
       "    box-shadow: none;\n",
       "  }\n",
       "\n",
       "  .colab-df-spinner {\n",
       "    border: 2px solid var(--fill-color);\n",
       "    border-color: transparent;\n",
       "    border-bottom-color: var(--fill-color);\n",
       "    animation:\n",
       "      spin 1s steps(1) infinite;\n",
       "  }\n",
       "\n",
       "  @keyframes spin {\n",
       "    0% {\n",
       "      border-color: transparent;\n",
       "      border-bottom-color: var(--fill-color);\n",
       "      border-left-color: var(--fill-color);\n",
       "    }\n",
       "    20% {\n",
       "      border-color: transparent;\n",
       "      border-left-color: var(--fill-color);\n",
       "      border-top-color: var(--fill-color);\n",
       "    }\n",
       "    30% {\n",
       "      border-color: transparent;\n",
       "      border-left-color: var(--fill-color);\n",
       "      border-top-color: var(--fill-color);\n",
       "      border-right-color: var(--fill-color);\n",
       "    }\n",
       "    40% {\n",
       "      border-color: transparent;\n",
       "      border-right-color: var(--fill-color);\n",
       "      border-top-color: var(--fill-color);\n",
       "    }\n",
       "    60% {\n",
       "      border-color: transparent;\n",
       "      border-right-color: var(--fill-color);\n",
       "    }\n",
       "    80% {\n",
       "      border-color: transparent;\n",
       "      border-right-color: var(--fill-color);\n",
       "      border-bottom-color: var(--fill-color);\n",
       "    }\n",
       "    90% {\n",
       "      border-color: transparent;\n",
       "      border-bottom-color: var(--fill-color);\n",
       "    }\n",
       "  }\n",
       "</style>\n",
       "\n",
       "  <script>\n",
       "    async function quickchart(key) {\n",
       "      const quickchartButtonEl =\n",
       "        document.querySelector('#' + key + ' button');\n",
       "      quickchartButtonEl.disabled = true;  // To prevent multiple clicks.\n",
       "      quickchartButtonEl.classList.add('colab-df-spinner');\n",
       "      try {\n",
       "        const charts = await google.colab.kernel.invokeFunction(\n",
       "            'suggestCharts', [key], {});\n",
       "      } catch (error) {\n",
       "        console.error('Error during call to suggestCharts:', error);\n",
       "      }\n",
       "      quickchartButtonEl.classList.remove('colab-df-spinner');\n",
       "      quickchartButtonEl.classList.add('colab-df-quickchart-complete');\n",
       "    }\n",
       "    (() => {\n",
       "      let quickchartButtonEl =\n",
       "        document.querySelector('#df-1b26bade-124a-4da0-8851-f79ddce031c3 button');\n",
       "      quickchartButtonEl.style.display =\n",
       "        google.colab.kernel.accessAllowed ? 'block' : 'none';\n",
       "    })();\n",
       "  </script>\n",
       "</div>\n",
       "    </div>\n",
       "  </div>\n"
      ],
      "text/plain": [
       "  essay_id                                          full_text  score\n",
       "0  000d118  Many people have car where they live. The thin...      3\n",
       "1  000fe60  I am a scientist at NASA that is discussing th...      3\n",
       "2  001ab80  People always wish they had the same technolog...      4\n",
       "3  001bdc0  We all heard about Venus, the planet without a...      4\n",
       "4  002ba53  Dear, State Senator\\n\\nThis is a letter to arg...      3"
      ]
     },
     "execution_count": 3,
     "metadata": {},
     "output_type": "execute_result"
    }
   ],
   "source": [
    "data.head()"
   ]
  },
  {
   "cell_type": "code",
   "execution_count": 4,
   "metadata": {
    "colab": {
     "base_uri": "https://localhost:8080/",
     "height": 363
    },
    "id": "HTfEXoXDbRL0",
    "outputId": "d80c008a-b935-456f-c9e9-29b7c987c33f"
   },
   "outputs": [
    {
     "data": {
      "application/vnd.google.colaboratory.intrinsic+json": {
       "summary": "{\n  \"name\": \"data\",\n  \"rows\": 10,\n  \"fields\": [\n    {\n      \"column\": \"essay_id\",\n      \"properties\": {\n        \"dtype\": \"string\",\n        \"num_unique_values\": 10,\n        \"samples\": [\n          \"fffb49b\",\n          \"ffc11a8\",\n          \"ffd378d\"\n        ],\n        \"semantic_type\": \"\",\n        \"description\": \"\"\n      }\n    },\n    {\n      \"column\": \"full_text\",\n      \"properties\": {\n        \"dtype\": \"string\",\n        \"num_unique_values\": 10,\n        \"samples\": [\n          \"In \\\"The Challenge of Exporing Venus,\\\" the author suggests that studying Venus is a worthy pursuit despite the dangers it presents because Venus is sometimes called the \\\" Evening Star\\\" this is in paragraph 1 the first sentence. Sometimes referred as Earth's \\\"twin,\\\" Venus is the closest planet to Earth in terms of density and size, and occasionally the closest in distance too. Earth, Venus, and Mars, our other planetary neighbor, orbit the sun at different speeds. These differences in speed mean that sometimes we are closer to Mars and other times to Venus because Venus is sometimes right around the the corner-in space terms-humans have sent numerous spacecraft to land on this cloud-draped world. A thick atmosphere of almost 97 percent carbon dioxixde blankets Venus. Even more challenging are the cloudds of highly corrosive sulfuric acid in Venu's atmosphere. On the planet's surface, temperatures average over 800 degrees fahrenheit, and the atmospheric pressure is 90 times greater than what we experience on our own planet. Venus was probably covered largely with oceans and cloud have supported various forms of life, just like Earth. Today, Venus still has some features that are analogous to those on Earth. Venus can sometimes be our nearest option for a planetary visit. this is why the author suggests that studying the \\\"The Challenge of Exploring Venus,\\\" is a worthy pursuit despite the dangers it presents.\",\n          \"You should join the Seagoing Cowboys because you get to have free time on the upper deck of the ship. You could play cool games and you get to stay active. You get to watch and feed the horses on the ship. You also get to help a lot of people if you join the Seagoping Cowboys.\\n\\nSecond, you have a lot of fun by playing baseball, volleyball, fencing, boxing, and you could also read a book. On the way there you could give the horses there oats or there hay if they we're hungry. You can also take a tour around a castle in all types of cities and towns. If you want to get off of the ship you can take a boat ride in Italy with the streets of water.\\n\\nThird, you also have to be careful when you do the job cause you can slip off of a ladder and fall into the water. You could also lose the horses and they could fall into the water. He had done more than 9 trips back and forth to a lot of countries and cities. It makes you more aware of people and other cities and countries.\\n\\nFourth, you could go and see any capital you what of your favorite place. You could do the job after you graduate high school you give the people supplies and you give them animals. You have to travel around the sea 16 times or more depending on how long you want to do it. More than 44 countries went together to form the UNRRA the United Nations relief and Rehabilitation.\\n\\nIn conclusion, being a Seagoing Cowboy opens up the world for some people. It is hard work so you have to have strength and skills. You can't join the military when doing the job.\\n\\nYou always stay aware if someone is having trouble you think back to your job and help them.\",\n          \"the story \\\" The Challenge of Exploing Venus \\\" is an informative piece about the dangers and the risks of traviling to Venus. The author breaks down what the exploration would be and he decribes it as a very hard task humans have never done before. The author talks abou hovering above the planet to try and research ground level things, He decribes that task as hard because of the lack of visbility and light but he was certin it ws possible.\\n\\nThe author proceeds to go on about the dificulities of this space exploreation but is still driven to research. he said venus is a twin planet to earth. Also known as the siser planet or the evening star. the planet is very similar in size and was once a canadate for life.\\n\\nIm concluding that this was a very informative piece and the author supports the idea well. venus should be our next universal conquest.\"\n        ],\n        \"semantic_type\": \"\",\n        \"description\": \"\"\n      }\n    },\n    {\n      \"column\": \"score\",\n      \"properties\": {\n        \"dtype\": \"number\",\n        \"std\": 0,\n        \"min\": 1,\n        \"max\": 4,\n        \"num_unique_values\": 4,\n        \"samples\": [\n          3,\n          1,\n          2\n        ],\n        \"semantic_type\": \"\",\n        \"description\": \"\"\n      }\n    }\n  ]\n}",
       "type": "dataframe"
      },
      "text/html": [
       "\n",
       "  <div id=\"df-4bf90357-7495-47c2-8e00-ca197bc72e99\" class=\"colab-df-container\">\n",
       "    <div>\n",
       "<style scoped>\n",
       "    .dataframe tbody tr th:only-of-type {\n",
       "        vertical-align: middle;\n",
       "    }\n",
       "\n",
       "    .dataframe tbody tr th {\n",
       "        vertical-align: top;\n",
       "    }\n",
       "\n",
       "    .dataframe thead th {\n",
       "        text-align: right;\n",
       "    }\n",
       "</style>\n",
       "<table border=\"1\" class=\"dataframe\">\n",
       "  <thead>\n",
       "    <tr style=\"text-align: right;\">\n",
       "      <th></th>\n",
       "      <th>essay_id</th>\n",
       "      <th>full_text</th>\n",
       "      <th>score</th>\n",
       "    </tr>\n",
       "  </thead>\n",
       "  <tbody>\n",
       "    <tr>\n",
       "      <th>17297</th>\n",
       "      <td>ffbd0b4</td>\n",
       "      <td>Do you think you could suvive in another plane...</td>\n",
       "      <td>2</td>\n",
       "    </tr>\n",
       "    <tr>\n",
       "      <th>17298</th>\n",
       "      <td>ffc11a8</td>\n",
       "      <td>You should join the Seagoing Cowboys because y...</td>\n",
       "      <td>3</td>\n",
       "    </tr>\n",
       "    <tr>\n",
       "      <th>17299</th>\n",
       "      <td>ffc9095</td>\n",
       "      <td>Venus, an extraordinary planet because of many...</td>\n",
       "      <td>3</td>\n",
       "    </tr>\n",
       "    <tr>\n",
       "      <th>17300</th>\n",
       "      <td>ffcb061</td>\n",
       "      <td>Becoming a Seagoing Cowboy is a once in a life...</td>\n",
       "      <td>3</td>\n",
       "    </tr>\n",
       "    <tr>\n",
       "      <th>17301</th>\n",
       "      <td>ffcb264</td>\n",
       "      <td>Using technology is a good way to help other i...</td>\n",
       "      <td>2</td>\n",
       "    </tr>\n",
       "    <tr>\n",
       "      <th>17302</th>\n",
       "      <td>ffd378d</td>\n",
       "      <td>the story \" The Challenge of Exploing Venus \" ...</td>\n",
       "      <td>2</td>\n",
       "    </tr>\n",
       "    <tr>\n",
       "      <th>17303</th>\n",
       "      <td>ffddf1f</td>\n",
       "      <td>Technology has changed a lot of ways that we l...</td>\n",
       "      <td>4</td>\n",
       "    </tr>\n",
       "    <tr>\n",
       "      <th>17304</th>\n",
       "      <td>fff016d</td>\n",
       "      <td>If you don't like sitting around all day than ...</td>\n",
       "      <td>2</td>\n",
       "    </tr>\n",
       "    <tr>\n",
       "      <th>17305</th>\n",
       "      <td>fffb49b</td>\n",
       "      <td>In \"The Challenge of Exporing Venus,\" the auth...</td>\n",
       "      <td>1</td>\n",
       "    </tr>\n",
       "    <tr>\n",
       "      <th>17306</th>\n",
       "      <td>fffed3e</td>\n",
       "      <td>Venus is worthy place to study but dangerous. ...</td>\n",
       "      <td>2</td>\n",
       "    </tr>\n",
       "  </tbody>\n",
       "</table>\n",
       "</div>\n",
       "    <div class=\"colab-df-buttons\">\n",
       "\n",
       "  <div class=\"colab-df-container\">\n",
       "    <button class=\"colab-df-convert\" onclick=\"convertToInteractive('df-4bf90357-7495-47c2-8e00-ca197bc72e99')\"\n",
       "            title=\"Convert this dataframe to an interactive table.\"\n",
       "            style=\"display:none;\">\n",
       "\n",
       "  <svg xmlns=\"http://www.w3.org/2000/svg\" height=\"24px\" viewBox=\"0 -960 960 960\">\n",
       "    <path d=\"M120-120v-720h720v720H120Zm60-500h600v-160H180v160Zm220 220h160v-160H400v160Zm0 220h160v-160H400v160ZM180-400h160v-160H180v160Zm440 0h160v-160H620v160ZM180-180h160v-160H180v160Zm440 0h160v-160H620v160Z\"/>\n",
       "  </svg>\n",
       "    </button>\n",
       "\n",
       "  <style>\n",
       "    .colab-df-container {\n",
       "      display:flex;\n",
       "      gap: 12px;\n",
       "    }\n",
       "\n",
       "    .colab-df-convert {\n",
       "      background-color: #E8F0FE;\n",
       "      border: none;\n",
       "      border-radius: 50%;\n",
       "      cursor: pointer;\n",
       "      display: none;\n",
       "      fill: #1967D2;\n",
       "      height: 32px;\n",
       "      padding: 0 0 0 0;\n",
       "      width: 32px;\n",
       "    }\n",
       "\n",
       "    .colab-df-convert:hover {\n",
       "      background-color: #E2EBFA;\n",
       "      box-shadow: 0px 1px 2px rgba(60, 64, 67, 0.3), 0px 1px 3px 1px rgba(60, 64, 67, 0.15);\n",
       "      fill: #174EA6;\n",
       "    }\n",
       "\n",
       "    .colab-df-buttons div {\n",
       "      margin-bottom: 4px;\n",
       "    }\n",
       "\n",
       "    [theme=dark] .colab-df-convert {\n",
       "      background-color: #3B4455;\n",
       "      fill: #D2E3FC;\n",
       "    }\n",
       "\n",
       "    [theme=dark] .colab-df-convert:hover {\n",
       "      background-color: #434B5C;\n",
       "      box-shadow: 0px 1px 3px 1px rgba(0, 0, 0, 0.15);\n",
       "      filter: drop-shadow(0px 1px 2px rgba(0, 0, 0, 0.3));\n",
       "      fill: #FFFFFF;\n",
       "    }\n",
       "  </style>\n",
       "\n",
       "    <script>\n",
       "      const buttonEl =\n",
       "        document.querySelector('#df-4bf90357-7495-47c2-8e00-ca197bc72e99 button.colab-df-convert');\n",
       "      buttonEl.style.display =\n",
       "        google.colab.kernel.accessAllowed ? 'block' : 'none';\n",
       "\n",
       "      async function convertToInteractive(key) {\n",
       "        const element = document.querySelector('#df-4bf90357-7495-47c2-8e00-ca197bc72e99');\n",
       "        const dataTable =\n",
       "          await google.colab.kernel.invokeFunction('convertToInteractive',\n",
       "                                                    [key], {});\n",
       "        if (!dataTable) return;\n",
       "\n",
       "        const docLinkHtml = 'Like what you see? Visit the ' +\n",
       "          '<a target=\"_blank\" href=https://colab.research.google.com/notebooks/data_table.ipynb>data table notebook</a>'\n",
       "          + ' to learn more about interactive tables.';\n",
       "        element.innerHTML = '';\n",
       "        dataTable['output_type'] = 'display_data';\n",
       "        await google.colab.output.renderOutput(dataTable, element);\n",
       "        const docLink = document.createElement('div');\n",
       "        docLink.innerHTML = docLinkHtml;\n",
       "        element.appendChild(docLink);\n",
       "      }\n",
       "    </script>\n",
       "  </div>\n",
       "\n",
       "\n",
       "<div id=\"df-02c6c1c6-942d-46e1-8601-c7ea434f2b9a\">\n",
       "  <button class=\"colab-df-quickchart\" onclick=\"quickchart('df-02c6c1c6-942d-46e1-8601-c7ea434f2b9a')\"\n",
       "            title=\"Suggest charts\"\n",
       "            style=\"display:none;\">\n",
       "\n",
       "<svg xmlns=\"http://www.w3.org/2000/svg\" height=\"24px\"viewBox=\"0 0 24 24\"\n",
       "     width=\"24px\">\n",
       "    <g>\n",
       "        <path d=\"M19 3H5c-1.1 0-2 .9-2 2v14c0 1.1.9 2 2 2h14c1.1 0 2-.9 2-2V5c0-1.1-.9-2-2-2zM9 17H7v-7h2v7zm4 0h-2V7h2v10zm4 0h-2v-4h2v4z\"/>\n",
       "    </g>\n",
       "</svg>\n",
       "  </button>\n",
       "\n",
       "<style>\n",
       "  .colab-df-quickchart {\n",
       "      --bg-color: #E8F0FE;\n",
       "      --fill-color: #1967D2;\n",
       "      --hover-bg-color: #E2EBFA;\n",
       "      --hover-fill-color: #174EA6;\n",
       "      --disabled-fill-color: #AAA;\n",
       "      --disabled-bg-color: #DDD;\n",
       "  }\n",
       "\n",
       "  [theme=dark] .colab-df-quickchart {\n",
       "      --bg-color: #3B4455;\n",
       "      --fill-color: #D2E3FC;\n",
       "      --hover-bg-color: #434B5C;\n",
       "      --hover-fill-color: #FFFFFF;\n",
       "      --disabled-bg-color: #3B4455;\n",
       "      --disabled-fill-color: #666;\n",
       "  }\n",
       "\n",
       "  .colab-df-quickchart {\n",
       "    background-color: var(--bg-color);\n",
       "    border: none;\n",
       "    border-radius: 50%;\n",
       "    cursor: pointer;\n",
       "    display: none;\n",
       "    fill: var(--fill-color);\n",
       "    height: 32px;\n",
       "    padding: 0;\n",
       "    width: 32px;\n",
       "  }\n",
       "\n",
       "  .colab-df-quickchart:hover {\n",
       "    background-color: var(--hover-bg-color);\n",
       "    box-shadow: 0 1px 2px rgba(60, 64, 67, 0.3), 0 1px 3px 1px rgba(60, 64, 67, 0.15);\n",
       "    fill: var(--button-hover-fill-color);\n",
       "  }\n",
       "\n",
       "  .colab-df-quickchart-complete:disabled,\n",
       "  .colab-df-quickchart-complete:disabled:hover {\n",
       "    background-color: var(--disabled-bg-color);\n",
       "    fill: var(--disabled-fill-color);\n",
       "    box-shadow: none;\n",
       "  }\n",
       "\n",
       "  .colab-df-spinner {\n",
       "    border: 2px solid var(--fill-color);\n",
       "    border-color: transparent;\n",
       "    border-bottom-color: var(--fill-color);\n",
       "    animation:\n",
       "      spin 1s steps(1) infinite;\n",
       "  }\n",
       "\n",
       "  @keyframes spin {\n",
       "    0% {\n",
       "      border-color: transparent;\n",
       "      border-bottom-color: var(--fill-color);\n",
       "      border-left-color: var(--fill-color);\n",
       "    }\n",
       "    20% {\n",
       "      border-color: transparent;\n",
       "      border-left-color: var(--fill-color);\n",
       "      border-top-color: var(--fill-color);\n",
       "    }\n",
       "    30% {\n",
       "      border-color: transparent;\n",
       "      border-left-color: var(--fill-color);\n",
       "      border-top-color: var(--fill-color);\n",
       "      border-right-color: var(--fill-color);\n",
       "    }\n",
       "    40% {\n",
       "      border-color: transparent;\n",
       "      border-right-color: var(--fill-color);\n",
       "      border-top-color: var(--fill-color);\n",
       "    }\n",
       "    60% {\n",
       "      border-color: transparent;\n",
       "      border-right-color: var(--fill-color);\n",
       "    }\n",
       "    80% {\n",
       "      border-color: transparent;\n",
       "      border-right-color: var(--fill-color);\n",
       "      border-bottom-color: var(--fill-color);\n",
       "    }\n",
       "    90% {\n",
       "      border-color: transparent;\n",
       "      border-bottom-color: var(--fill-color);\n",
       "    }\n",
       "  }\n",
       "</style>\n",
       "\n",
       "  <script>\n",
       "    async function quickchart(key) {\n",
       "      const quickchartButtonEl =\n",
       "        document.querySelector('#' + key + ' button');\n",
       "      quickchartButtonEl.disabled = true;  // To prevent multiple clicks.\n",
       "      quickchartButtonEl.classList.add('colab-df-spinner');\n",
       "      try {\n",
       "        const charts = await google.colab.kernel.invokeFunction(\n",
       "            'suggestCharts', [key], {});\n",
       "      } catch (error) {\n",
       "        console.error('Error during call to suggestCharts:', error);\n",
       "      }\n",
       "      quickchartButtonEl.classList.remove('colab-df-spinner');\n",
       "      quickchartButtonEl.classList.add('colab-df-quickchart-complete');\n",
       "    }\n",
       "    (() => {\n",
       "      let quickchartButtonEl =\n",
       "        document.querySelector('#df-02c6c1c6-942d-46e1-8601-c7ea434f2b9a button');\n",
       "      quickchartButtonEl.style.display =\n",
       "        google.colab.kernel.accessAllowed ? 'block' : 'none';\n",
       "    })();\n",
       "  </script>\n",
       "</div>\n",
       "    </div>\n",
       "  </div>\n"
      ],
      "text/plain": [
       "      essay_id                                          full_text  score\n",
       "17297  ffbd0b4  Do you think you could suvive in another plane...      2\n",
       "17298  ffc11a8  You should join the Seagoing Cowboys because y...      3\n",
       "17299  ffc9095  Venus, an extraordinary planet because of many...      3\n",
       "17300  ffcb061  Becoming a Seagoing Cowboy is a once in a life...      3\n",
       "17301  ffcb264  Using technology is a good way to help other i...      2\n",
       "17302  ffd378d  the story \" The Challenge of Exploing Venus \" ...      2\n",
       "17303  ffddf1f  Technology has changed a lot of ways that we l...      4\n",
       "17304  fff016d  If you don't like sitting around all day than ...      2\n",
       "17305  fffb49b  In \"The Challenge of Exporing Venus,\" the auth...      1\n",
       "17306  fffed3e  Venus is worthy place to study but dangerous. ...      2"
      ]
     },
     "execution_count": 4,
     "metadata": {},
     "output_type": "execute_result"
    }
   ],
   "source": [
    "data.tail(10)"
   ]
  },
  {
   "cell_type": "markdown",
   "metadata": {
    "id": "pryHwX5ck4LE"
   },
   "source": [
    "**Analyse des données**"
   ]
  },
  {
   "cell_type": "code",
   "execution_count": 5,
   "metadata": {
    "colab": {
     "base_uri": "https://localhost:8080/",
     "height": 300
    },
    "id": "0ZAZZryOXmWv",
    "outputId": "48e39e40-a22e-4a56-b747-7b5d86b7b20c"
   },
   "outputs": [
    {
     "data": {
      "application/vnd.google.colaboratory.intrinsic+json": {
       "summary": "{\n  \"name\": \"data\",\n  \"rows\": 8,\n  \"fields\": [\n    {\n      \"column\": \"score\",\n      \"properties\": {\n        \"dtype\": \"number\",\n        \"std\": 6117.938934893873,\n        \"min\": 1.0,\n        \"max\": 17307.0,\n        \"num_unique_values\": 8,\n        \"samples\": [\n          2.948402380539666,\n          3.0,\n          17307.0\n        ],\n        \"semantic_type\": \"\",\n        \"description\": \"\"\n      }\n    }\n  ]\n}",
       "type": "dataframe"
      },
      "text/html": [
       "\n",
       "  <div id=\"df-9f3f30ec-fe41-403c-bc47-9d0cb0a67173\" class=\"colab-df-container\">\n",
       "    <div>\n",
       "<style scoped>\n",
       "    .dataframe tbody tr th:only-of-type {\n",
       "        vertical-align: middle;\n",
       "    }\n",
       "\n",
       "    .dataframe tbody tr th {\n",
       "        vertical-align: top;\n",
       "    }\n",
       "\n",
       "    .dataframe thead th {\n",
       "        text-align: right;\n",
       "    }\n",
       "</style>\n",
       "<table border=\"1\" class=\"dataframe\">\n",
       "  <thead>\n",
       "    <tr style=\"text-align: right;\">\n",
       "      <th></th>\n",
       "      <th>score</th>\n",
       "    </tr>\n",
       "  </thead>\n",
       "  <tbody>\n",
       "    <tr>\n",
       "      <th>count</th>\n",
       "      <td>17307.000000</td>\n",
       "    </tr>\n",
       "    <tr>\n",
       "      <th>mean</th>\n",
       "      <td>2.948402</td>\n",
       "    </tr>\n",
       "    <tr>\n",
       "      <th>std</th>\n",
       "      <td>1.044899</td>\n",
       "    </tr>\n",
       "    <tr>\n",
       "      <th>min</th>\n",
       "      <td>1.000000</td>\n",
       "    </tr>\n",
       "    <tr>\n",
       "      <th>25%</th>\n",
       "      <td>2.000000</td>\n",
       "    </tr>\n",
       "    <tr>\n",
       "      <th>50%</th>\n",
       "      <td>3.000000</td>\n",
       "    </tr>\n",
       "    <tr>\n",
       "      <th>75%</th>\n",
       "      <td>4.000000</td>\n",
       "    </tr>\n",
       "    <tr>\n",
       "      <th>max</th>\n",
       "      <td>6.000000</td>\n",
       "    </tr>\n",
       "  </tbody>\n",
       "</table>\n",
       "</div>\n",
       "    <div class=\"colab-df-buttons\">\n",
       "\n",
       "  <div class=\"colab-df-container\">\n",
       "    <button class=\"colab-df-convert\" onclick=\"convertToInteractive('df-9f3f30ec-fe41-403c-bc47-9d0cb0a67173')\"\n",
       "            title=\"Convert this dataframe to an interactive table.\"\n",
       "            style=\"display:none;\">\n",
       "\n",
       "  <svg xmlns=\"http://www.w3.org/2000/svg\" height=\"24px\" viewBox=\"0 -960 960 960\">\n",
       "    <path d=\"M120-120v-720h720v720H120Zm60-500h600v-160H180v160Zm220 220h160v-160H400v160Zm0 220h160v-160H400v160ZM180-400h160v-160H180v160Zm440 0h160v-160H620v160ZM180-180h160v-160H180v160Zm440 0h160v-160H620v160Z\"/>\n",
       "  </svg>\n",
       "    </button>\n",
       "\n",
       "  <style>\n",
       "    .colab-df-container {\n",
       "      display:flex;\n",
       "      gap: 12px;\n",
       "    }\n",
       "\n",
       "    .colab-df-convert {\n",
       "      background-color: #E8F0FE;\n",
       "      border: none;\n",
       "      border-radius: 50%;\n",
       "      cursor: pointer;\n",
       "      display: none;\n",
       "      fill: #1967D2;\n",
       "      height: 32px;\n",
       "      padding: 0 0 0 0;\n",
       "      width: 32px;\n",
       "    }\n",
       "\n",
       "    .colab-df-convert:hover {\n",
       "      background-color: #E2EBFA;\n",
       "      box-shadow: 0px 1px 2px rgba(60, 64, 67, 0.3), 0px 1px 3px 1px rgba(60, 64, 67, 0.15);\n",
       "      fill: #174EA6;\n",
       "    }\n",
       "\n",
       "    .colab-df-buttons div {\n",
       "      margin-bottom: 4px;\n",
       "    }\n",
       "\n",
       "    [theme=dark] .colab-df-convert {\n",
       "      background-color: #3B4455;\n",
       "      fill: #D2E3FC;\n",
       "    }\n",
       "\n",
       "    [theme=dark] .colab-df-convert:hover {\n",
       "      background-color: #434B5C;\n",
       "      box-shadow: 0px 1px 3px 1px rgba(0, 0, 0, 0.15);\n",
       "      filter: drop-shadow(0px 1px 2px rgba(0, 0, 0, 0.3));\n",
       "      fill: #FFFFFF;\n",
       "    }\n",
       "  </style>\n",
       "\n",
       "    <script>\n",
       "      const buttonEl =\n",
       "        document.querySelector('#df-9f3f30ec-fe41-403c-bc47-9d0cb0a67173 button.colab-df-convert');\n",
       "      buttonEl.style.display =\n",
       "        google.colab.kernel.accessAllowed ? 'block' : 'none';\n",
       "\n",
       "      async function convertToInteractive(key) {\n",
       "        const element = document.querySelector('#df-9f3f30ec-fe41-403c-bc47-9d0cb0a67173');\n",
       "        const dataTable =\n",
       "          await google.colab.kernel.invokeFunction('convertToInteractive',\n",
       "                                                    [key], {});\n",
       "        if (!dataTable) return;\n",
       "\n",
       "        const docLinkHtml = 'Like what you see? Visit the ' +\n",
       "          '<a target=\"_blank\" href=https://colab.research.google.com/notebooks/data_table.ipynb>data table notebook</a>'\n",
       "          + ' to learn more about interactive tables.';\n",
       "        element.innerHTML = '';\n",
       "        dataTable['output_type'] = 'display_data';\n",
       "        await google.colab.output.renderOutput(dataTable, element);\n",
       "        const docLink = document.createElement('div');\n",
       "        docLink.innerHTML = docLinkHtml;\n",
       "        element.appendChild(docLink);\n",
       "      }\n",
       "    </script>\n",
       "  </div>\n",
       "\n",
       "\n",
       "<div id=\"df-a752de48-cf99-4fca-a2dd-5c15b3891c62\">\n",
       "  <button class=\"colab-df-quickchart\" onclick=\"quickchart('df-a752de48-cf99-4fca-a2dd-5c15b3891c62')\"\n",
       "            title=\"Suggest charts\"\n",
       "            style=\"display:none;\">\n",
       "\n",
       "<svg xmlns=\"http://www.w3.org/2000/svg\" height=\"24px\"viewBox=\"0 0 24 24\"\n",
       "     width=\"24px\">\n",
       "    <g>\n",
       "        <path d=\"M19 3H5c-1.1 0-2 .9-2 2v14c0 1.1.9 2 2 2h14c1.1 0 2-.9 2-2V5c0-1.1-.9-2-2-2zM9 17H7v-7h2v7zm4 0h-2V7h2v10zm4 0h-2v-4h2v4z\"/>\n",
       "    </g>\n",
       "</svg>\n",
       "  </button>\n",
       "\n",
       "<style>\n",
       "  .colab-df-quickchart {\n",
       "      --bg-color: #E8F0FE;\n",
       "      --fill-color: #1967D2;\n",
       "      --hover-bg-color: #E2EBFA;\n",
       "      --hover-fill-color: #174EA6;\n",
       "      --disabled-fill-color: #AAA;\n",
       "      --disabled-bg-color: #DDD;\n",
       "  }\n",
       "\n",
       "  [theme=dark] .colab-df-quickchart {\n",
       "      --bg-color: #3B4455;\n",
       "      --fill-color: #D2E3FC;\n",
       "      --hover-bg-color: #434B5C;\n",
       "      --hover-fill-color: #FFFFFF;\n",
       "      --disabled-bg-color: #3B4455;\n",
       "      --disabled-fill-color: #666;\n",
       "  }\n",
       "\n",
       "  .colab-df-quickchart {\n",
       "    background-color: var(--bg-color);\n",
       "    border: none;\n",
       "    border-radius: 50%;\n",
       "    cursor: pointer;\n",
       "    display: none;\n",
       "    fill: var(--fill-color);\n",
       "    height: 32px;\n",
       "    padding: 0;\n",
       "    width: 32px;\n",
       "  }\n",
       "\n",
       "  .colab-df-quickchart:hover {\n",
       "    background-color: var(--hover-bg-color);\n",
       "    box-shadow: 0 1px 2px rgba(60, 64, 67, 0.3), 0 1px 3px 1px rgba(60, 64, 67, 0.15);\n",
       "    fill: var(--button-hover-fill-color);\n",
       "  }\n",
       "\n",
       "  .colab-df-quickchart-complete:disabled,\n",
       "  .colab-df-quickchart-complete:disabled:hover {\n",
       "    background-color: var(--disabled-bg-color);\n",
       "    fill: var(--disabled-fill-color);\n",
       "    box-shadow: none;\n",
       "  }\n",
       "\n",
       "  .colab-df-spinner {\n",
       "    border: 2px solid var(--fill-color);\n",
       "    border-color: transparent;\n",
       "    border-bottom-color: var(--fill-color);\n",
       "    animation:\n",
       "      spin 1s steps(1) infinite;\n",
       "  }\n",
       "\n",
       "  @keyframes spin {\n",
       "    0% {\n",
       "      border-color: transparent;\n",
       "      border-bottom-color: var(--fill-color);\n",
       "      border-left-color: var(--fill-color);\n",
       "    }\n",
       "    20% {\n",
       "      border-color: transparent;\n",
       "      border-left-color: var(--fill-color);\n",
       "      border-top-color: var(--fill-color);\n",
       "    }\n",
       "    30% {\n",
       "      border-color: transparent;\n",
       "      border-left-color: var(--fill-color);\n",
       "      border-top-color: var(--fill-color);\n",
       "      border-right-color: var(--fill-color);\n",
       "    }\n",
       "    40% {\n",
       "      border-color: transparent;\n",
       "      border-right-color: var(--fill-color);\n",
       "      border-top-color: var(--fill-color);\n",
       "    }\n",
       "    60% {\n",
       "      border-color: transparent;\n",
       "      border-right-color: var(--fill-color);\n",
       "    }\n",
       "    80% {\n",
       "      border-color: transparent;\n",
       "      border-right-color: var(--fill-color);\n",
       "      border-bottom-color: var(--fill-color);\n",
       "    }\n",
       "    90% {\n",
       "      border-color: transparent;\n",
       "      border-bottom-color: var(--fill-color);\n",
       "    }\n",
       "  }\n",
       "</style>\n",
       "\n",
       "  <script>\n",
       "    async function quickchart(key) {\n",
       "      const quickchartButtonEl =\n",
       "        document.querySelector('#' + key + ' button');\n",
       "      quickchartButtonEl.disabled = true;  // To prevent multiple clicks.\n",
       "      quickchartButtonEl.classList.add('colab-df-spinner');\n",
       "      try {\n",
       "        const charts = await google.colab.kernel.invokeFunction(\n",
       "            'suggestCharts', [key], {});\n",
       "      } catch (error) {\n",
       "        console.error('Error during call to suggestCharts:', error);\n",
       "      }\n",
       "      quickchartButtonEl.classList.remove('colab-df-spinner');\n",
       "      quickchartButtonEl.classList.add('colab-df-quickchart-complete');\n",
       "    }\n",
       "    (() => {\n",
       "      let quickchartButtonEl =\n",
       "        document.querySelector('#df-a752de48-cf99-4fca-a2dd-5c15b3891c62 button');\n",
       "      quickchartButtonEl.style.display =\n",
       "        google.colab.kernel.accessAllowed ? 'block' : 'none';\n",
       "    })();\n",
       "  </script>\n",
       "</div>\n",
       "    </div>\n",
       "  </div>\n"
      ],
      "text/plain": [
       "              score\n",
       "count  17307.000000\n",
       "mean       2.948402\n",
       "std        1.044899\n",
       "min        1.000000\n",
       "25%        2.000000\n",
       "50%        3.000000\n",
       "75%        4.000000\n",
       "max        6.000000"
      ]
     },
     "execution_count": 5,
     "metadata": {},
     "output_type": "execute_result"
    }
   ],
   "source": [
    "data.describe()"
   ]
  },
  {
   "cell_type": "code",
   "execution_count": 6,
   "metadata": {
    "colab": {
     "base_uri": "https://localhost:8080/"
    },
    "id": "8VUrJBzQap1L",
    "outputId": "158a913d-95c4-49b1-e67d-5e608f5f6f41"
   },
   "outputs": [
    {
     "name": "stdout",
     "output_type": "stream",
     "text": [
      "<class 'pandas.core.frame.DataFrame'>\n",
      "RangeIndex: 17307 entries, 0 to 17306\n",
      "Data columns (total 3 columns):\n",
      " #   Column     Non-Null Count  Dtype \n",
      "---  ------     --------------  ----- \n",
      " 0   essay_id   17307 non-null  object\n",
      " 1   full_text  17307 non-null  object\n",
      " 2   score      17307 non-null  int64 \n",
      "dtypes: int64(1), object(2)\n",
      "memory usage: 405.8+ KB\n"
     ]
    }
   ],
   "source": [
    "data.info()"
   ]
  },
  {
   "cell_type": "code",
   "execution_count": 7,
   "metadata": {
    "colab": {
     "base_uri": "https://localhost:8080/"
    },
    "id": "_MDF-BzhasMn",
    "outputId": "ece24913-d8b5-492e-cc10-66284ffa280e"
   },
   "outputs": [
    {
     "data": {
      "text/plain": [
       "count    17307.000000\n",
       "mean         2.948402\n",
       "std          1.044899\n",
       "min          1.000000\n",
       "25%          2.000000\n",
       "50%          3.000000\n",
       "75%          4.000000\n",
       "max          6.000000\n",
       "Name: score, dtype: float64"
      ]
     },
     "execution_count": 7,
     "metadata": {},
     "output_type": "execute_result"
    }
   ],
   "source": [
    "\n",
    "data['score'].describe()"
   ]
  },
  {
   "cell_type": "code",
   "execution_count": 8,
   "metadata": {
    "colab": {
     "base_uri": "https://localhost:8080/"
    },
    "id": "iaeYDsHOhm33",
    "outputId": "705404ff-8520-4cc3-8105-e31e283b4f1e"
   },
   "outputs": [
    {
     "name": "stdout",
     "output_type": "stream",
     "text": [
      "11332\n",
      "5975\n",
      "0\n"
     ]
    }
   ],
   "source": [
    "mean_score = data['score'].mean()\n",
    "# Nombre de scores au-dessus de la moyenne\n",
    "above_mean = (data['score'] > mean_score).sum()\n",
    "print(above_mean)\n",
    "# Nombre de scores en dessous de la moyenne\n",
    "below_mean = (data['score'] < mean_score).sum()\n",
    "print(below_mean)\n",
    "\n",
    "#Nombre de scores qui sont à la moyenne\n",
    "on_mean = (data['score'] == mean_score).sum()\n",
    "print(on_mean)"
   ]
  },
  {
   "cell_type": "code",
   "execution_count": 9,
   "metadata": {
    "colab": {
     "base_uri": "https://localhost:8080/",
     "height": 472
    },
    "id": "YJAPhxxOjeOj",
    "outputId": "26db3ea0-a2c7-4728-f280-8de5730c3124"
   },
   "outputs": [
    {
     "data": {
      "image/png": "[encoded data removed]",
      "text/plain": [
       "<Figure size 640x480 with 1 Axes>"
      ]
     },
     "metadata": {},
     "output_type": "display_data"
    }
   ],
   "source": [
    "sns.histplot(data['score'], bins=10, kde=True)\n",
    "plt.title('Distribution des Scores')\n",
    "plt.xlabel('Score')\n",
    "plt.ylabel('Fréquence')\n",
    "plt.show()"
   ]
  },
  {
   "cell_type": "code",
   "execution_count": 10,
   "metadata": {
    "colab": {
     "base_uri": "https://localhost:8080/",
     "height": 472
    },
    "id": "oDipXtMtjsJ5",
    "outputId": "909eb456-6ef4-49cb-f856-0e8cc2aa6dad"
   },
   "outputs": [
    {
     "data": {
      "image/png": "[encoded data removed]",
      "text/plain": [
       "<Figure size 640x480 with 1 Axes>"
      ]
     },
     "metadata": {},
     "output_type": "display_data"
    }
   ],
   "source": [
    "sns.boxplot(x=data['score'])\n",
    "plt.title('Boite à moustache des scores')\n",
    "plt.xlabel('Score')\n",
    "plt.show()"
   ]
  },
  {
   "cell_type": "markdown",
   "metadata": {
    "id": "fi1ILpWSlGb-"
   },
   "source": [
    "**Remarques tirées de l'analyse sur la distribution des scores:**"
   ]
  },
  {
   "cell_type": "markdown",
   "metadata": {
    "id": "UdNchCmnlRkV"
   },
   "source": [
    "\n",
    "\n",
    "1.   Il y a plus de scores au dessus de la moyenne que de scores au dessous( le double)\n",
    "2.   Peut-ềtre que cela nous causera un problème lors de l'entraînement du model, il va apprendre plus sur les bons essais que les mauvais ( On verra comment traiter ça)\n",
    "\n"
   ]
  },
  {
   "cell_type": "markdown",
   "metadata": {
    "id": "tRBQB_2flCXl"
   },
   "source": [
    "Une autre analyse que nous souhaitons réaliser est:\n",
    "Comme nous ne connaissons pas le thème de ces rédactions( on ne sait pas s'il y a un seul thème ou plusieurs), nous allons essayer de faire un clustering d'abord pour voir ça"
   ]
  },
  {
   "cell_type": "markdown",
   "metadata": {
    "id": "DM7FtPzTnvDy"
   },
   "source": [
    "Pour faire cela, nous allons taiter d'abord nos données\n"
   ]
  },
  {
   "cell_type": "markdown",
   "metadata": {
    "id": "rMOzbRHjn7ps"
   },
   "source": [
    "**Pre Processing**"
   ]
  },
  {
   "cell_type": "markdown",
   "metadata": {
    "id": "B7uGbPyBDnwZ"
   },
   "source": [
    "La fonction preprocess_text nettoie le texte en le convertissant en minuscules, en supprimant les chiffres et en remplaçant les caractères non alphabétiques par des espaces, puis est appliquée à chaque entrée de la colonne 'full_text' du DataFrame data"
   ]
  },
  {
   "cell_type": "code",
   "execution_count": 12,
   "metadata": {
    "id": "KQULAIDIoAFE"
   },
   "outputs": [],
   "source": [
    "def preprocess_text(text):\n",
    "    text = text.lower()\n",
    "    text = re.sub(r'\\d+', '', text)  # Remove numbers\n",
    "    text = re.sub(r'\\W+', ' ', text)  # Remove non-word characters\n",
    "    return text\n",
    "\n",
    "data['full_text'] = data['full_text'].apply(preprocess_text)\n"
   ]
  },
  {
   "cell_type": "code",
   "execution_count": 13,
   "metadata": {
    "colab": {
     "base_uri": "https://localhost:8080/"
    },
    "id": "O24-eYarof81",
    "outputId": "546b9ae1-666a-4785-de97-0332a44ddba2"
   },
   "outputs": [
    {
     "data": {
      "text/plain": [
       "0        many people have car where they live the thing...\n",
       "1        i am a scientist at nasa that is discussing th...\n",
       "2        people always wish they had the same technolog...\n",
       "3        we all heard about venus the planet without al...\n",
       "4        dear state senator this is a letter to argue i...\n",
       "                               ...                        \n",
       "17302    the story the challenge of exploing venus is a...\n",
       "17303    technology has changed a lot of ways that we l...\n",
       "17304    if you don t like sitting around all day than ...\n",
       "17305    in the challenge of exporing venus the author ...\n",
       "17306    venus is worthy place to study but dangerous t...\n",
       "Name: full_text, Length: 17307, dtype: object"
      ]
     },
     "execution_count": 13,
     "metadata": {},
     "output_type": "execute_result"
    }
   ],
   "source": [
    "data['full_text']"
   ]
  },
  {
   "cell_type": "markdown",
   "metadata": {
    "id": "lFkFuMBeERVL"
   },
   "source": [
    "La fonction remove_puncs nettoie le texte en supprimant tous les caractères qui ne sont pas des lettres ou des espaces"
   ]
  },
  {
   "cell_type": "code",
   "execution_count": 14,
   "metadata": {
    "id": "nMzkOg9OopZW"
   },
   "outputs": [],
   "source": [
    "def remove_puncs(text):\n",
    "    essay = re.sub(\"[^A-Za-z ]\",\"\",text)\n",
    "    return essay\n",
    "\n",
    "data['full_text'] = data['full_text'].apply(remove_puncs)"
   ]
  },
  {
   "cell_type": "code",
   "execution_count": 15,
   "metadata": {
    "colab": {
     "base_uri": "https://localhost:8080/"
    },
    "id": "_Myfm1pRppgR",
    "outputId": "232e72f9-7942-490c-fce5-4c623be1c211"
   },
   "outputs": [
    {
     "data": {
      "text/plain": [
       "0        many people have car where they live the thing...\n",
       "1        i am a scientist at nasa that is discussing th...\n",
       "2        people always wish they had the same technolog...\n",
       "3        we all heard about venus the planet without al...\n",
       "4        dear state senator this is a letter to argue i...\n",
       "                               ...                        \n",
       "17302    the story the challenge of exploing venus is a...\n",
       "17303    technology has changed a lot of ways that we l...\n",
       "17304    if you don t like sitting around all day than ...\n",
       "17305    in the challenge of exporing venus the author ...\n",
       "17306    venus is worthy place to study but dangerous t...\n",
       "Name: full_text, Length: 17307, dtype: object"
      ]
     },
     "execution_count": 15,
     "metadata": {},
     "output_type": "execute_result"
    }
   ],
   "source": [
    "data['full_text']"
   ]
  },
  {
   "cell_type": "code",
   "execution_count": 16,
   "metadata": {
    "colab": {
     "base_uri": "https://localhost:8080/"
    },
    "id": "4rW3jJ_Cqisl",
    "outputId": "3d834992-b002-4ab6-b452-02fa521ae1fe"
   },
   "outputs": [
    {
     "name": "stderr",
     "output_type": "stream",
     "text": [
      "[nltk_data] Downloading package stopwords to /root/nltk_data...\n",
      "[nltk_data]   Unzipping corpora/stopwords.zip.\n",
      "[nltk_data] Downloading package punkt to /root/nltk_data...\n",
      "[nltk_data]   Unzipping tokenizers/punkt.zip.\n"
     ]
    },
    {
     "data": {
      "text/plain": [
       "True"
      ]
     },
     "execution_count": 16,
     "metadata": {},
     "output_type": "execute_result"
    }
   ],
   "source": [
    "import nltk\n",
    "nltk.download('stopwords')\n",
    "nltk.download('punkt')"
   ]
  },
  {
   "cell_type": "code",
   "execution_count": 17,
   "metadata": {
    "id": "XPUyib-RrHuw"
   },
   "outputs": [],
   "source": [
    "from nltk.corpus import stopwords"
   ]
  },
  {
   "cell_type": "markdown",
   "metadata": {
    "id": "U0l17FDyEvJJ"
   },
   "source": [
    "La fonction remove_stop_words retire les mots vides (stop words) du texte en anglais, utilisant une liste préétablie"
   ]
  },
  {
   "cell_type": "code",
   "execution_count": 18,
   "metadata": {
    "id": "VAZKHmc4pswK"
   },
   "outputs": [],
   "source": [
    "stop_words = set(stopwords.words('english'))\n",
    "\n",
    "def remove_stop_words(essay):\n",
    "    word_tokens = word_tokenize(essay)\n",
    "    filtered_sentence = []\n",
    "    for w in word_tokens:\n",
    "        if w not in stop_words:\n",
    "            filtered_sentence.append(w)\n",
    "    return ' '.join(filtered_sentence)\n",
    "\n",
    "data['full_text'] = data['full_text'].apply(lambda x:remove_stop_words(x))"
   ]
  },
  {
   "cell_type": "code",
   "execution_count": 40,
   "metadata": {
    "id": "pVBT-eBWqQ3n"
   },
   "outputs": [],
   "source": [
    "data['full_text']\n",
    "df1 = data.copy()"
   ]
  },
  {
   "cell_type": "markdown",
   "metadata": {
    "id": "jLscvJw4E-LO"
   },
   "source": [
    " TfidfVectorizer de scikit-learn pour convertir le texte de la colonne 'full_text' du DataFrame data en une matrice de caractéristiques TF-IDF, qui quantifie l'importance des mots dans les documents tout en tenant compte de leur fréquence dans l'ensemble du corpus."
   ]
  },
  {
   "cell_type": "code",
   "execution_count": 41,
   "metadata": {
    "id": "B91gMeymrnTJ"
   },
   "outputs": [],
   "source": [
    "from sklearn.feature_extraction.text import TfidfVectorizer\n",
    "\n",
    "tfidf_vectorizer = TfidfVectorizer()\n",
    "X = tfidf_vectorizer.fit_transform(data['full_text'])\n"
   ]
  },
  {
   "cell_type": "code",
   "execution_count": 42,
   "metadata": {
    "colab": {
     "base_uri": "https://localhost:8080/"
    },
    "id": "GoQSXtObsFly",
    "outputId": "05120f60-bd20-4337-e417-236b9e010215"
   },
   "outputs": [
    {
     "data": {
      "text/plain": [
       "<17307x63732 sparse matrix of type '<class 'numpy.float64'>'\n",
       "\twith 2025359 stored elements in Compressed Sparse Row format>"
      ]
     },
     "execution_count": 42,
     "metadata": {},
     "output_type": "execute_result"
    }
   ],
   "source": [
    "X"
   ]
  },
  {
   "cell_type": "markdown",
   "metadata": {
    "id": "4-UO4UoO4Dw_"
   },
   "source": [
    "Ce que nous proposons est de faire un clustring sur les rédactions avec k means pour voir s'il y  a des thèmes différents de textes et si cela peut être utile dans notre cas d'usage"
   ]
  },
  {
   "cell_type": "markdown",
   "metadata": {
    "id": "hH-pujAD5PYS"
   },
   "source": [
    "**K-means**"
   ]
  },
  {
   "cell_type": "code",
   "execution_count": 43,
   "metadata": {
    "colab": {
     "base_uri": "https://localhost:8080/"
    },
    "id": "DPsoLO0vsHuw",
    "outputId": "e67bb995-783b-4099-cc62-43302e66078f"
   },
   "outputs": [
    {
     "name": "stderr",
     "output_type": "stream",
     "text": [
      "/usr/local/lib/python3.10/dist-packages/sklearn/cluster/_kmeans.py:870: FutureWarning: The default value of `n_init` will change from 10 to 'auto' in 1.4. Set the value of `n_init` explicitly to suppress the warning\n",
      "  warnings.warn(\n"
     ]
    }
   ],
   "source": [
    "from sklearn.cluster import KMeans\n",
    "\n",
    "k = 5\n",
    "model = KMeans(n_clusters=k, random_state=42)\n",
    "model.fit(X)\n",
    "labels = model.labels_\n"
   ]
  },
  {
   "cell_type": "code",
   "execution_count": 44,
   "metadata": {
    "colab": {
     "base_uri": "https://localhost:8080/"
    },
    "id": "gXg16h_ms0nS",
    "outputId": "dbaf0c63-265e-4c7d-8d00-fc9424049508"
   },
   "outputs": [
    {
     "name": "stdout",
     "output_type": "stream",
     "text": [
      "\n",
      "Cluster 0:\n",
      "luke,could,computer,student,technology,facial,seagoing,help,emotions,students\n",
      "\n",
      "Cluster 1:\n",
      "usage,could,drive,people,would,driver,driving,driverless,car,cars\n",
      "\n",
      "Cluster 2:\n",
      "created,mesa,picture,nasa,alien,natural,aliens,landform,mars,face\n",
      "\n",
      "Cluster 3:\n",
      "voting,state,election,popular,votes,electors,president,college,vote,electoral\n",
      "\n",
      "Cluster 4:\n",
      "conditions,nasa,studying,study,dangers,surface,author,earth,planet,venus\n"
     ]
    }
   ],
   "source": [
    "import numpy as np\n",
    "def get_top_keywords(data, clusters, labels, n_terms):\n",
    "    df = pd.DataFrame(data.todense()).groupby(labels).mean()\n",
    "\n",
    "    terms = tfidf_vectorizer.get_feature_names_out()\n",
    "    for i, r in df.iterrows():\n",
    "        print('\\nCluster {}:'.format(i))\n",
    "        print(','.join([terms[t] for t in np.argsort(r)[-n_terms:]]))\n",
    "\n",
    "get_top_keywords(X, model, labels, 10)\n"
   ]
  },
  {
   "cell_type": "markdown",
   "metadata": {
    "id": "fXue7Qll0R4E"
   },
   "source": [
    "Avec 5 clusters, on voit déja qu'il y un cluser particulier(3) parlant d'éléctions, le(1) parlant de conduite/voitures, le (0) de téchnologie et ordinateur et les 2 autres se rapprochent un peu ( nana, planet, mars, venus)"
   ]
  },
  {
   "cell_type": "markdown",
   "metadata": {
    "id": "AE7eZhrr02Wz"
   },
   "source": [
    "On va diminuer le nombre de clusters à 4"
   ]
  },
  {
   "cell_type": "code",
   "execution_count": 45,
   "metadata": {
    "colab": {
     "base_uri": "https://localhost:8080/"
    },
    "id": "sceCZyXr01WC",
    "outputId": "c7b86eba-52bf-45ed-f922-efcd33a19b4d"
   },
   "outputs": [
    {
     "name": "stderr",
     "output_type": "stream",
     "text": [
      "/usr/local/lib/python3.10/dist-packages/sklearn/cluster/_kmeans.py:870: FutureWarning: The default value of `n_init` will change from 10 to 'auto' in 1.4. Set the value of `n_init` explicitly to suppress the warning\n",
      "  warnings.warn(\n"
     ]
    },
    {
     "name": "stdout",
     "output_type": "stream",
     "text": [
      "[1 2 1 ... 2 0 2]\n"
     ]
    }
   ],
   "source": [
    "k = 4\n",
    "model = KMeans(n_clusters=k, random_state=42)\n",
    "model.fit(X)\n",
    "labels = model.labels_\n",
    "print(labels)"
   ]
  },
  {
   "cell_type": "code",
   "execution_count": 25,
   "metadata": {
    "colab": {
     "base_uri": "https://localhost:8080/"
    },
    "id": "oITuPAUwJmsU",
    "outputId": "8fe2367a-02f7-4175-b1e7-75c5a5609969"
   },
   "outputs": [
    {
     "data": {
      "text/plain": [
       "17307"
      ]
     },
     "execution_count": 25,
     "metadata": {},
     "output_type": "execute_result"
    }
   ],
   "source": [
    "len(labels)"
   ]
  },
  {
   "cell_type": "code",
   "execution_count": 26,
   "metadata": {
    "colab": {
     "base_uri": "https://localhost:8080/"
    },
    "id": "fQBblF7G0_wS",
    "outputId": "7e9c7d4f-05df-44c4-db1e-8461a8295b90"
   },
   "outputs": [
    {
     "name": "stdout",
     "output_type": "stream",
     "text": [
      "\n",
      "Cluster 0:\n",
      "conditions,nasa,studying,study,dangers,surface,author,earth,planet,venus\n",
      "\n",
      "Cluster 1:\n",
      "usage,could,drive,people,would,driver,driving,driverless,car,cars\n",
      "\n",
      "Cluster 2:\n",
      "would,technology,facial,could,seagoing,help,emotions,students,mars,face\n",
      "\n",
      "Cluster 3:\n",
      "voting,state,election,popular,votes,electors,president,college,vote,electoral\n"
     ]
    }
   ],
   "source": [
    "import numpy as np\n",
    "def get_top_keywords(data, clusters, labels, n_terms):\n",
    "    df = pd.DataFrame(data.todense()).groupby(labels).mean()\n",
    "    # Use get_feature_names_out() instead of get_feature_names()\n",
    "    terms = tfidf_vectorizer.get_feature_names_out()\n",
    "    for i, r in df.iterrows():\n",
    "        print('\\nCluster {}:'.format(i))\n",
    "        print(','.join([terms[t] for t in np.argsort(r)[-n_terms:]]))\n",
    "\n",
    "get_top_keywords(X, model, labels, 10)"
   ]
  },
  {
   "cell_type": "markdown",
   "metadata": {
    "id": "fK0LLSAbFTSo"
   },
   "source": [
    "ici , nous construisons un autre dataframe, qui va avoir une nouvele colonne (theme) où assigne à chaque texte une classe par theme"
   ]
  },
  {
   "cell_type": "code",
   "execution_count": 46,
   "metadata": {
    "colab": {
     "base_uri": "https://localhost:8080/",
     "height": 424
    },
    "id": "b8NEJz5tHtBQ",
    "outputId": "234e72a6-72d1-4b42-d7b8-d751ea02659e"
   },
   "outputs": [
    {
     "data": {
      "application/vnd.google.colaboratory.intrinsic+json": {
       "summary": "{\n  \"name\": \"df1\",\n  \"rows\": 17307,\n  \"fields\": [\n    {\n      \"column\": \"essay_id\",\n      \"properties\": {\n        \"dtype\": \"string\",\n        \"num_unique_values\": 17307,\n        \"samples\": [\n          \"bb4c434\",\n          \"44e88b0\",\n          \"0ba78ec\"\n        ],\n        \"semantic_type\": \"\",\n        \"description\": \"\"\n      }\n    },\n    {\n      \"column\": \"full_text\",\n      \"properties\": {\n        \"dtype\": \"string\",\n        \"num_unique_values\": 17307,\n        \"samples\": [\n          \"people tend use cars much basically live get day car use car go every rather grocery store work go hang friends family traveling general well imagine limited usage cars community strongly believe would many advantages community many reasons like make people less stressful time would less accidents would definitly better environment omg ran gas oh take car shop get fixed usually two main things hear people stay word car comes car comes alot stress expenses take every need usually someone stressed best person wan na conversation think limit usage cars lot people community alot happier according article car free cities elisabeth rosenthal source lady name heidrun walter says car always tense much happier way think perfect example limited car usauage make person happier addition feel limit car usage community make community much safer environment hear see many car accidents country community cars dangerous people often get injuried die car recks limitting car usage communitry keep people safe importantly alive kids able run aroumd neighborhood play friends also cross street safely without disruption car coming stopping wants get hurt car coming know driving car last least limiting use car usage community would definitly better environment science class often talk cars polute air mess waehter car self also feel car changing see cars cars streets think makes days hotter also think makes winters come around earlier makes alot colder live sunshine florida south year round usually hot extremly hot realize people driving around winers seem alot cold usually cold last longer periods time conclusion belive limit car usuage community make better place many reasons like make people less stressful happier less accidents road also help environment lot\",\n          \"imagine top scientist nasa viking spacecraft spotted shadowy likeness human face lot people thought alien life possibility others thought natural landform would thoughts image face mars natural landform similar landforms earth high pixel photos taken enough reliable information support alien life theory begin similar landforms earth one mars stated text picture actually shows martian equivalent butte mesa landforms common around american west also stated text garvin giving opinion reminds middle butte snake river plain idaho another issue alien life theory fact nasa high quality cameras quoting text pixel image spans meters compared meters per pixel best viking photo result high quality pictures could see small details clearly stated article garvin said objects picture like airplanes ground egyptian style pyramids even small shacks could see concluding statement nothing landform resembled face seen mars finally enough evidence support claim alien life mars first pictures blurry haze cloud coverage theory popular online world science world stated text face mars since become pop icon starred hollywood film appeared books magazines radio talk shows even haunted grocery store checkout lines years proves might publicity attention many conspiracy theorists ultimately face mars natural landform similar landforms earth high pixel photos taken enough reliable information support alien life theory\",\n          \"face mars could created aliens land form created conditions mars looks like face coincidence mesa common area mars many others like one without shadows makes appearance human face many different land forms cydonia different second paragrapgh article stated cydonia region known buttes mesas face mars another mesa different one except unique shadows strange see formation supposedly uninhabited planet depicts human face espescially human ever set foot planet mars time reason believe nothing weird coincidence since person ever conspiracy theorists dismay strange landform nothing martian butte mesa weird coincidence interesting formation stumped puzzled scientests world know formation anything reveal alien lifeforms alien activity\"\n        ],\n        \"semantic_type\": \"\",\n        \"description\": \"\"\n      }\n    },\n    {\n      \"column\": \"score\",\n      \"properties\": {\n        \"dtype\": \"number\",\n        \"std\": 1,\n        \"min\": 1,\n        \"max\": 6,\n        \"num_unique_values\": 6,\n        \"samples\": [\n          3,\n          4,\n          6\n        ],\n        \"semantic_type\": \"\",\n        \"description\": \"\"\n      }\n    },\n    {\n      \"column\": \"theme\",\n      \"properties\": {\n        \"dtype\": \"int32\",\n        \"num_unique_values\": 4,\n        \"samples\": [\n          3,\n          4,\n          2\n        ],\n        \"semantic_type\": \"\",\n        \"description\": \"\"\n      }\n    }\n  ]\n}",
       "type": "dataframe",
       "variable_name": "df1"
      },
      "text/html": [
       "\n",
       "  <div id=\"df-7f040560-5638-49a3-a352-2f0e9f769834\" class=\"colab-df-container\">\n",
       "    <div>\n",
       "<style scoped>\n",
       "    .dataframe tbody tr th:only-of-type {\n",
       "        vertical-align: middle;\n",
       "    }\n",
       "\n",
       "    .dataframe tbody tr th {\n",
       "        vertical-align: top;\n",
       "    }\n",
       "\n",
       "    .dataframe thead th {\n",
       "        text-align: right;\n",
       "    }\n",
       "</style>\n",
       "<table border=\"1\" class=\"dataframe\">\n",
       "  <thead>\n",
       "    <tr style=\"text-align: right;\">\n",
       "      <th></th>\n",
       "      <th>essay_id</th>\n",
       "      <th>full_text</th>\n",
       "      <th>score</th>\n",
       "      <th>theme</th>\n",
       "    </tr>\n",
       "  </thead>\n",
       "  <tbody>\n",
       "    <tr>\n",
       "      <th>0</th>\n",
       "      <td>000d118</td>\n",
       "      <td>many people car live thing know use car alot t...</td>\n",
       "      <td>3</td>\n",
       "      <td>2</td>\n",
       "    </tr>\n",
       "    <tr>\n",
       "      <th>1</th>\n",
       "      <td>000fe60</td>\n",
       "      <td>scientist nasa discussing face mars explaining...</td>\n",
       "      <td>3</td>\n",
       "      <td>3</td>\n",
       "    </tr>\n",
       "    <tr>\n",
       "      <th>2</th>\n",
       "      <td>001ab80</td>\n",
       "      <td>people always wish technology seen movies best...</td>\n",
       "      <td>4</td>\n",
       "      <td>2</td>\n",
       "    </tr>\n",
       "    <tr>\n",
       "      <th>3</th>\n",
       "      <td>001bdc0</td>\n",
       "      <td>heard venus planet without almost oxygen earth...</td>\n",
       "      <td>4</td>\n",
       "      <td>1</td>\n",
       "    </tr>\n",
       "    <tr>\n",
       "      <th>4</th>\n",
       "      <td>002ba53</td>\n",
       "      <td>dear state senator letter argue favor keeping ...</td>\n",
       "      <td>3</td>\n",
       "      <td>4</td>\n",
       "    </tr>\n",
       "    <tr>\n",
       "      <th>...</th>\n",
       "      <td>...</td>\n",
       "      <td>...</td>\n",
       "      <td>...</td>\n",
       "      <td>...</td>\n",
       "    </tr>\n",
       "    <tr>\n",
       "      <th>17302</th>\n",
       "      <td>ffd378d</td>\n",
       "      <td>story challenge exploing venus informative pie...</td>\n",
       "      <td>2</td>\n",
       "      <td>1</td>\n",
       "    </tr>\n",
       "    <tr>\n",
       "      <th>17303</th>\n",
       "      <td>ffddf1f</td>\n",
       "      <td>technology changed lot ways live today nowaday...</td>\n",
       "      <td>4</td>\n",
       "      <td>3</td>\n",
       "    </tr>\n",
       "    <tr>\n",
       "      <th>17304</th>\n",
       "      <td>fff016d</td>\n",
       "      <td>like sitting around day great opportunity part...</td>\n",
       "      <td>2</td>\n",
       "      <td>3</td>\n",
       "    </tr>\n",
       "    <tr>\n",
       "      <th>17305</th>\n",
       "      <td>fffb49b</td>\n",
       "      <td>challenge exporing venus author suggests study...</td>\n",
       "      <td>1</td>\n",
       "      <td>1</td>\n",
       "    </tr>\n",
       "    <tr>\n",
       "      <th>17306</th>\n",
       "      <td>fffed3e</td>\n",
       "      <td>venus worthy place study dangerous reaosn thei...</td>\n",
       "      <td>2</td>\n",
       "      <td>3</td>\n",
       "    </tr>\n",
       "  </tbody>\n",
       "</table>\n",
       "<p>17307 rows × 4 columns</p>\n",
       "</div>\n",
       "    <div class=\"colab-df-buttons\">\n",
       "\n",
       "  <div class=\"colab-df-container\">\n",
       "    <button class=\"colab-df-convert\" onclick=\"convertToInteractive('df-7f040560-5638-49a3-a352-2f0e9f769834')\"\n",
       "            title=\"Convert this dataframe to an interactive table.\"\n",
       "            style=\"display:none;\">\n",
       "\n",
       "  <svg xmlns=\"http://www.w3.org/2000/svg\" height=\"24px\" viewBox=\"0 -960 960 960\">\n",
       "    <path d=\"M120-120v-720h720v720H120Zm60-500h600v-160H180v160Zm220 220h160v-160H400v160Zm0 220h160v-160H400v160ZM180-400h160v-160H180v160Zm440 0h160v-160H620v160ZM180-180h160v-160H180v160Zm440 0h160v-160H620v160Z\"/>\n",
       "  </svg>\n",
       "    </button>\n",
       "\n",
       "  <style>\n",
       "    .colab-df-container {\n",
       "      display:flex;\n",
       "      gap: 12px;\n",
       "    }\n",
       "\n",
       "    .colab-df-convert {\n",
       "      background-color: #E8F0FE;\n",
       "      border: none;\n",
       "      border-radius: 50%;\n",
       "      cursor: pointer;\n",
       "      display: none;\n",
       "      fill: #1967D2;\n",
       "      height: 32px;\n",
       "      padding: 0 0 0 0;\n",
       "      width: 32px;\n",
       "    }\n",
       "\n",
       "    .colab-df-convert:hover {\n",
       "      background-color: #E2EBFA;\n",
       "      box-shadow: 0px 1px 2px rgba(60, 64, 67, 0.3), 0px 1px 3px 1px rgba(60, 64, 67, 0.15);\n",
       "      fill: #174EA6;\n",
       "    }\n",
       "\n",
       "    .colab-df-buttons div {\n",
       "      margin-bottom: 4px;\n",
       "    }\n",
       "\n",
       "    [theme=dark] .colab-df-convert {\n",
       "      background-color: #3B4455;\n",
       "      fill: #D2E3FC;\n",
       "    }\n",
       "\n",
       "    [theme=dark] .colab-df-convert:hover {\n",
       "      background-color: #434B5C;\n",
       "      box-shadow: 0px 1px 3px 1px rgba(0, 0, 0, 0.15);\n",
       "      filter: drop-shadow(0px 1px 2px rgba(0, 0, 0, 0.3));\n",
       "      fill: #FFFFFF;\n",
       "    }\n",
       "  </style>\n",
       "\n",
       "    <script>\n",
       "      const buttonEl =\n",
       "        document.querySelector('#df-7f040560-5638-49a3-a352-2f0e9f769834 button.colab-df-convert');\n",
       "      buttonEl.style.display =\n",
       "        google.colab.kernel.accessAllowed ? 'block' : 'none';\n",
       "\n",
       "      async function convertToInteractive(key) {\n",
       "        const element = document.querySelector('#df-7f040560-5638-49a3-a352-2f0e9f769834');\n",
       "        const dataTable =\n",
       "          await google.colab.kernel.invokeFunction('convertToInteractive',\n",
       "                                                    [key], {});\n",
       "        if (!dataTable) return;\n",
       "\n",
       "        const docLinkHtml = 'Like what you see? Visit the ' +\n",
       "          '<a target=\"_blank\" href=https://colab.research.google.com/notebooks/data_table.ipynb>data table notebook</a>'\n",
       "          + ' to learn more about interactive tables.';\n",
       "        element.innerHTML = '';\n",
       "        dataTable['output_type'] = 'display_data';\n",
       "        await google.colab.output.renderOutput(dataTable, element);\n",
       "        const docLink = document.createElement('div');\n",
       "        docLink.innerHTML = docLinkHtml;\n",
       "        element.appendChild(docLink);\n",
       "      }\n",
       "    </script>\n",
       "  </div>\n",
       "\n",
       "\n",
       "<div id=\"df-76f81aa9-e17d-4c21-bca0-05194524056f\">\n",
       "  <button class=\"colab-df-quickchart\" onclick=\"quickchart('df-76f81aa9-e17d-4c21-bca0-05194524056f')\"\n",
       "            title=\"Suggest charts\"\n",
       "            style=\"display:none;\">\n",
       "\n",
       "<svg xmlns=\"http://www.w3.org/2000/svg\" height=\"24px\"viewBox=\"0 0 24 24\"\n",
       "     width=\"24px\">\n",
       "    <g>\n",
       "        <path d=\"M19 3H5c-1.1 0-2 .9-2 2v14c0 1.1.9 2 2 2h14c1.1 0 2-.9 2-2V5c0-1.1-.9-2-2-2zM9 17H7v-7h2v7zm4 0h-2V7h2v10zm4 0h-2v-4h2v4z\"/>\n",
       "    </g>\n",
       "</svg>\n",
       "  </button>\n",
       "\n",
       "<style>\n",
       "  .colab-df-quickchart {\n",
       "      --bg-color: #E8F0FE;\n",
       "      --fill-color: #1967D2;\n",
       "      --hover-bg-color: #E2EBFA;\n",
       "      --hover-fill-color: #174EA6;\n",
       "      --disabled-fill-color: #AAA;\n",
       "      --disabled-bg-color: #DDD;\n",
       "  }\n",
       "\n",
       "  [theme=dark] .colab-df-quickchart {\n",
       "      --bg-color: #3B4455;\n",
       "      --fill-color: #D2E3FC;\n",
       "      --hover-bg-color: #434B5C;\n",
       "      --hover-fill-color: #FFFFFF;\n",
       "      --disabled-bg-color: #3B4455;\n",
       "      --disabled-fill-color: #666;\n",
       "  }\n",
       "\n",
       "  .colab-df-quickchart {\n",
       "    background-color: var(--bg-color);\n",
       "    border: none;\n",
       "    border-radius: 50%;\n",
       "    cursor: pointer;\n",
       "    display: none;\n",
       "    fill: var(--fill-color);\n",
       "    height: 32px;\n",
       "    padding: 0;\n",
       "    width: 32px;\n",
       "  }\n",
       "\n",
       "  .colab-df-quickchart:hover {\n",
       "    background-color: var(--hover-bg-color);\n",
       "    box-shadow: 0 1px 2px rgba(60, 64, 67, 0.3), 0 1px 3px 1px rgba(60, 64, 67, 0.15);\n",
       "    fill: var(--button-hover-fill-color);\n",
       "  }\n",
       "\n",
       "  .colab-df-quickchart-complete:disabled,\n",
       "  .colab-df-quickchart-complete:disabled:hover {\n",
       "    background-color: var(--disabled-bg-color);\n",
       "    fill: var(--disabled-fill-color);\n",
       "    box-shadow: none;\n",
       "  }\n",
       "\n",
       "  .colab-df-spinner {\n",
       "    border: 2px solid var(--fill-color);\n",
       "    border-color: transparent;\n",
       "    border-bottom-color: var(--fill-color);\n",
       "    animation:\n",
       "      spin 1s steps(1) infinite;\n",
       "  }\n",
       "\n",
       "  @keyframes spin {\n",
       "    0% {\n",
       "      border-color: transparent;\n",
       "      border-bottom-color: var(--fill-color);\n",
       "      border-left-color: var(--fill-color);\n",
       "    }\n",
       "    20% {\n",
       "      border-color: transparent;\n",
       "      border-left-color: var(--fill-color);\n",
       "      border-top-color: var(--fill-color);\n",
       "    }\n",
       "    30% {\n",
       "      border-color: transparent;\n",
       "      border-left-color: var(--fill-color);\n",
       "      border-top-color: var(--fill-color);\n",
       "      border-right-color: var(--fill-color);\n",
       "    }\n",
       "    40% {\n",
       "      border-color: transparent;\n",
       "      border-right-color: var(--fill-color);\n",
       "      border-top-color: var(--fill-color);\n",
       "    }\n",
       "    60% {\n",
       "      border-color: transparent;\n",
       "      border-right-color: var(--fill-color);\n",
       "    }\n",
       "    80% {\n",
       "      border-color: transparent;\n",
       "      border-right-color: var(--fill-color);\n",
       "      border-bottom-color: var(--fill-color);\n",
       "    }\n",
       "    90% {\n",
       "      border-color: transparent;\n",
       "      border-bottom-color: var(--fill-color);\n",
       "    }\n",
       "  }\n",
       "</style>\n",
       "\n",
       "  <script>\n",
       "    async function quickchart(key) {\n",
       "      const quickchartButtonEl =\n",
       "        document.querySelector('#' + key + ' button');\n",
       "      quickchartButtonEl.disabled = true;  // To prevent multiple clicks.\n",
       "      quickchartButtonEl.classList.add('colab-df-spinner');\n",
       "      try {\n",
       "        const charts = await google.colab.kernel.invokeFunction(\n",
       "            'suggestCharts', [key], {});\n",
       "      } catch (error) {\n",
       "        console.error('Error during call to suggestCharts:', error);\n",
       "      }\n",
       "      quickchartButtonEl.classList.remove('colab-df-spinner');\n",
       "      quickchartButtonEl.classList.add('colab-df-quickchart-complete');\n",
       "    }\n",
       "    (() => {\n",
       "      let quickchartButtonEl =\n",
       "        document.querySelector('#df-76f81aa9-e17d-4c21-bca0-05194524056f button');\n",
       "      quickchartButtonEl.style.display =\n",
       "        google.colab.kernel.accessAllowed ? 'block' : 'none';\n",
       "    })();\n",
       "  </script>\n",
       "</div>\n",
       "    </div>\n",
       "  </div>\n"
      ],
      "text/plain": [
       "      essay_id                                          full_text  score  \\\n",
       "0      000d118  many people car live thing know use car alot t...      3   \n",
       "1      000fe60  scientist nasa discussing face mars explaining...      3   \n",
       "2      001ab80  people always wish technology seen movies best...      4   \n",
       "3      001bdc0  heard venus planet without almost oxygen earth...      4   \n",
       "4      002ba53  dear state senator letter argue favor keeping ...      3   \n",
       "...        ...                                                ...    ...   \n",
       "17302  ffd378d  story challenge exploing venus informative pie...      2   \n",
       "17303  ffddf1f  technology changed lot ways live today nowaday...      4   \n",
       "17304  fff016d  like sitting around day great opportunity part...      2   \n",
       "17305  fffb49b  challenge exporing venus author suggests study...      1   \n",
       "17306  fffed3e  venus worthy place study dangerous reaosn thei...      2   \n",
       "\n",
       "       theme  \n",
       "0          2  \n",
       "1          3  \n",
       "2          2  \n",
       "3          1  \n",
       "4          4  \n",
       "...      ...  \n",
       "17302      1  \n",
       "17303      3  \n",
       "17304      3  \n",
       "17305      1  \n",
       "17306      3  \n",
       "\n",
       "[17307 rows x 4 columns]"
      ]
     },
     "execution_count": 46,
     "metadata": {},
     "output_type": "execute_result"
    }
   ],
   "source": [
    "df1\n",
    "df1['theme'] = labels + 1\n",
    "df1"
   ]
  },
  {
   "cell_type": "code",
   "execution_count": 28,
   "metadata": {
    "colab": {
     "base_uri": "https://localhost:8080/"
    },
    "id": "F2Ybku97NjNV",
    "outputId": "e4124ac7-eb8e-407d-cc8a-97f81c22529c"
   },
   "outputs": [
    {
     "name": "stdout",
     "output_type": "stream",
     "text": [
      "      essay_id                                          full_text  score  \\\n",
      "3      001bdc0  heard venus planet without almost oxygen earth...      4   \n",
      "8      0036253  challenge exploring venus storie challeng expl...      2   \n",
      "20     0079f2a  text author uses facts people know like close ...      2   \n",
      "25     0087059  challenge exploring venus informative text ven...      1   \n",
      "27     00a3575  challege exploring venus great idea studying v...      2   \n",
      "...        ...                                                ...    ...   \n",
      "17296  ffb732c  story challenge exploring venus author talks p...      3   \n",
      "17297  ffbd0b4  think could suvive another planet like venus w...      2   \n",
      "17299  ffc9095  venus extraordinary planet many reasons fascin...      3   \n",
      "17302  ffd378d  story challenge exploing venus informative pie...      2   \n",
      "17305  fffb49b  challenge exporing venus author suggests study...      1   \n",
      "\n",
      "       theme  \n",
      "3          1  \n",
      "8          1  \n",
      "20         1  \n",
      "25         1  \n",
      "27         1  \n",
      "...      ...  \n",
      "17296      1  \n",
      "17297      1  \n",
      "17299      1  \n",
      "17302      1  \n",
      "17305      1  \n",
      "\n",
      "[2953 rows x 4 columns]\n"
     ]
    }
   ],
   "source": [
    "theme_1 = df1.loc[df1['theme'] == 1]\n",
    "\n",
    "print(theme_1)"
   ]
  },
  {
   "cell_type": "code",
   "execution_count": 29,
   "metadata": {
    "colab": {
     "base_uri": "https://localhost:8080/"
    },
    "id": "w03qsc9MOaMh",
    "outputId": "fcf3753d-af72-4377-ec93-db0bad6ab95b"
   },
   "outputs": [
    {
     "name": "stdout",
     "output_type": "stream",
     "text": [
      "      essay_id                                          full_text  score  \\\n",
      "0      000d118  many people car live thing know use car alot t...      3   \n",
      "2      001ab80  people always wish technology seen movies best...      4   \n",
      "10     004229b  think driverless cars good idea believe could ...      2   \n",
      "11     0047cb3  good oppurtunity take away stress lower air po...      2   \n",
      "12     005a72e  agree driverless cars developing idea like fac...      4   \n",
      "...        ...                                                ...    ...   \n",
      "17285  ff988c9  countries started limit usage cars limitation ...      3   \n",
      "17286  ff98dbe  google field tested driverless car drove five ...      4   \n",
      "17288  ff9bb09  automobiles people relay without cars alot peo...      3   \n",
      "17291  ffab5f8  driverless cars coming thats good since google...      3   \n",
      "17295  ffb595e  walking jogging even riding bike ways transpor...      3   \n",
      "\n",
      "       theme  \n",
      "0          2  \n",
      "2          2  \n",
      "10         2  \n",
      "11         2  \n",
      "12         2  \n",
      "...      ...  \n",
      "17285      2  \n",
      "17286      2  \n",
      "17288      2  \n",
      "17291      2  \n",
      "17295      2  \n",
      "\n",
      "[5431 rows x 4 columns]\n"
     ]
    }
   ],
   "source": [
    "theme_2 = df1.loc[df1['theme'] == 2]\n",
    "\n",
    "print(theme_2)"
   ]
  },
  {
   "cell_type": "code",
   "execution_count": 30,
   "metadata": {
    "colab": {
     "base_uri": "https://localhost:8080/"
    },
    "id": "r-NGpT3fOnp6",
    "outputId": "96ca0f0f-c143-4bda-f6ba-7ec8ce7162d6"
   },
   "outputs": [
    {
     "name": "stdout",
     "output_type": "stream",
     "text": [
      "      essay_id                                          full_text  score  \\\n",
      "1      000fe60  scientist nasa discussing face mars explaining...      3   \n",
      "6      0033037  posibilty face reconizing computer would helpf...      2   \n",
      "7      0033bf4  seagoing cowboys progam help many countries sc...      3   \n",
      "9      0040e27  many reasons join seagoing cowboys program wou...      3   \n",
      "16     006c931  could tell people us without even asking peopl...      3   \n",
      "...        ...                                                ...    ...   \n",
      "17300  ffcb061  becoming seagoing cowboy lifetime chance take ...      3   \n",
      "17301  ffcb264  using technology good way help classroom suffe...      2   \n",
      "17303  ffddf1f  technology changed lot ways live today nowaday...      4   \n",
      "17304  fff016d  like sitting around day great opportunity part...      2   \n",
      "17306  fffed3e  venus worthy place study dangerous reaosn thei...      2   \n",
      "\n",
      "       theme  \n",
      "1          3  \n",
      "6          3  \n",
      "7          3  \n",
      "9          3  \n",
      "16         3  \n",
      "...      ...  \n",
      "17300      3  \n",
      "17301      3  \n",
      "17303      3  \n",
      "17304      3  \n",
      "17306      3  \n",
      "\n",
      "[6921 rows x 4 columns]\n"
     ]
    }
   ],
   "source": [
    "theme_3 = df1.loc[df1['theme'] == 3]\n",
    "\n",
    "print(theme_3)"
   ]
  },
  {
   "cell_type": "code",
   "execution_count": 31,
   "metadata": {
    "colab": {
     "base_uri": "https://localhost:8080/"
    },
    "id": "HYPeE9F6Ox5w",
    "outputId": "fc4fb8f8-5e88-41ab-f20a-d5c028c6461f"
   },
   "outputs": [
    {
     "name": "stdout",
     "output_type": "stream",
     "text": [
      "      essay_id                                          full_text  score  \\\n",
      "4      002ba53  dear state senator letter argue favor keeping ...      3   \n",
      "5      0030e86  choose keeping electoral college abolishing wo...      4   \n",
      "13     00613e3  election popular vote citizens government hire...      3   \n",
      "40     00d4911  senator florida believe electoral college abol...      4   \n",
      "41     00d576b  well favor would electoral college reason keep...      1   \n",
      "...        ...                                                ...    ...   \n",
      "17230  feba238  people want people want idea supported towards...      3   \n",
      "17253  fef8172  many people across country would believe elect...      4   \n",
      "17260  ff0aba9  electoral college good thing majority would sa...      4   \n",
      "17278  ff74f94  votes president united states counted election...      5   \n",
      "17289  ffa6b95  believe people able vote want president always...      4   \n",
      "\n",
      "       theme  \n",
      "4          4  \n",
      "5          4  \n",
      "13         4  \n",
      "40         4  \n",
      "41         4  \n",
      "...      ...  \n",
      "17230      4  \n",
      "17253      4  \n",
      "17260      4  \n",
      "17278      4  \n",
      "17289      4  \n",
      "\n",
      "[2002 rows x 4 columns]\n"
     ]
    }
   ],
   "source": [
    "theme_4 = df1.loc[df1['theme'] == 4]\n",
    "\n",
    "print(theme_4)"
   ]
  },
  {
   "cell_type": "markdown",
   "metadata": {
    "id": "Dyb7g8RQ1Ugt"
   },
   "source": [
    "Voilà, il semble que 4 clusters et le bon nombre de clusters pour nos données"
   ]
  },
  {
   "cell_type": "markdown",
   "metadata": {
    "id": "aNyKByAy4Ule"
   },
   "source": [
    "Mainteanant, nous allons procéder comme suit:\n",
    "\n",
    "1.   Appliquer des models de maching learning simples( regression linéaire, svm ou autre), évaluer le model sans prendre en considération le clustering\n",
    "2.   Faire la même chose mais cette fois en prenant en considération les 4 clusters trouvés\n",
    "\n",
    "Puis, nous allons chercher des models NLP, et les appliquer à nos données\n",
    "\n",
    "Afin de pouvoir les comparer à la fin\n",
    "\n",
    "\n",
    "\n"
   ]
  },
  {
   "cell_type": "markdown",
   "metadata": {
    "id": "aG_jOc9F67v_"
   },
   "source": [
    "Séparation en x train, x test , y train, et y test:"
   ]
  },
  {
   "cell_type": "code",
   "execution_count": 32,
   "metadata": {
    "id": "bnHuXA977oKr"
   },
   "outputs": [],
   "source": [
    "from sklearn.ensemble import RandomForestRegressor\n",
    "from sklearn.svm import SVR\n",
    "from sklearn.metrics import mean_squared_error, r2_score\n",
    "from sklearn.linear_model import LinearRegression\n",
    "import pickle"
   ]
  },
  {
   "cell_type": "code",
   "execution_count": 33,
   "metadata": {
    "id": "xZcvb2G87Dek"
   },
   "outputs": [],
   "source": [
    "y = data['score']\n"
   ]
  },
  {
   "cell_type": "code",
   "execution_count": 34,
   "metadata": {
    "id": "GsnJnis67IfR"
   },
   "outputs": [],
   "source": [
    "from sklearn.model_selection import train_test_split\n",
    "\n",
    "X_train, X_test, y_train, y_test = train_test_split(X, y, test_size=0.2, random_state=42)\n",
    "\n"
   ]
  },
  {
   "cell_type": "markdown",
   "metadata": {
    "id": "hTNRFd11O-NL"
   },
   "source": [
    "**Modèles ML simples**"
   ]
  },
  {
   "cell_type": "markdown",
   "metadata": {
    "id": "2EojvKOtok7u"
   },
   "source": [
    "**Linear Regression**"
   ]
  },
  {
   "cell_type": "code",
   "execution_count": 35,
   "metadata": {
    "id": "APvMyD__7QSP"
   },
   "outputs": [],
   "source": [
    "linear_regressor = LinearRegression()\n",
    "linear_regressor.fit(X_train, y_train)\n",
    "y_pred = linear_regressor.predict(X_test)"
   ]
  },
  {
   "cell_type": "code",
   "execution_count": 53,
   "metadata": {
    "colab": {
     "base_uri": "https://localhost:8080/"
    },
    "id": "lIcYZVFX7qYJ",
    "outputId": "8fdd907f-ed49-4e9f-8ab4-47733f92a8ea"
   },
   "outputs": [
    {
     "name": "stdout",
     "output_type": "stream",
     "text": [
      "Mean Squared Error: 0.9610250912290094\n",
      "R² Score: 0.12896131768136498\n"
     ]
    }
   ],
   "source": [
    "mse = mean_squared_error(y_test, y_pred)\n",
    "r2 = r2_score(y_test, y_pred)\n",
    "print(\"Mean Squared Error:\", mse)\n",
    "print(\"R² Score:\", r2)"
   ]
  },
  {
   "cell_type": "code",
   "execution_count": 54,
   "metadata": {
    "colab": {
     "base_uri": "https://localhost:8080/"
    },
    "id": "C_5pGWko8dZy",
    "outputId": "10a9e514-6bb3-47c0-dd73-559dc49f43ee"
   },
   "outputs": [
    {
     "name": "stdout",
     "output_type": "stream",
     "text": [
      "Accuracy: 0.3934142114384749\n",
      "Precision: 0.22400730778004874\n",
      "Recall: 0.22585321479051046\n"
     ]
    },
    {
     "name": "stderr",
     "output_type": "stream",
     "text": [
      "/usr/local/lib/python3.10/dist-packages/sklearn/metrics/_classification.py:1344: UndefinedMetricWarning: Recall is ill-defined and being set to 0.0 in labels with no true samples. Use `zero_division` parameter to control this behavior.\n",
      "  _warn_prf(average, modifier, msg_start, len(result))\n"
     ]
    }
   ],
   "source": [
    "from sklearn.metrics import accuracy_score, precision_score, recall_score\n",
    "\n",
    "# Converting continuous predictions to categorical\n",
    "y_pred_rounded = np.round(y_pred)\n",
    "y_test_rounded = np.round(y_test)\n",
    "\n",
    "accuracy = accuracy_score(y_test_rounded, y_pred_rounded)\n",
    "precision = precision_score(y_test_rounded, y_pred_rounded, average='macro')\n",
    "recall = recall_score(y_test_rounded, y_pred_rounded, average='macro')\n",
    "\n",
    "print(\"Accuracy:\", accuracy)\n",
    "print(\"Precision:\", precision)\n",
    "print(\"Recall:\", recall)\n"
   ]
  },
  {
   "cell_type": "code",
   "execution_count": 55,
   "metadata": {
    "colab": {
     "base_uri": "https://localhost:8080/"
    },
    "id": "mIENlgWNhPX-",
    "outputId": "76ab3096-9bad-4b91-c4b9-4ccedb979ce0"
   },
   "outputs": [
    {
     "name": "stdout",
     "output_type": "stream",
     "text": [
      "Quadratic Weighted Kappa: 0.567275506599652\n"
     ]
    }
   ],
   "source": [
    "from sklearn.metrics import cohen_kappa_score\n",
    "kappa = cohen_kappa_score(y_test_rounded, y_pred_rounded, weights='quadratic')\n",
    "print('Quadratic Weighted Kappa:', kappa)\n"
   ]
  },
  {
   "cell_type": "markdown",
   "metadata": {
    "id": "DUW3XsJq9-uP"
   },
   "source": [
    "La valeur de l'erreur moyenne quadratique est très élevée, ce model n'est pas efficace pour notre cas,on va essayer un autre model"
   ]
  },
  {
   "cell_type": "markdown",
   "metadata": {
    "id": "4AYcYbMOFzYV"
   },
   "source": [
    "Ici, on pense que l'accuracy ne reflète pas vraiment la performance du model, du coup on utilise le kappa score qui prend en considération le rapprochement entre les données de test et ce qui est prédit, par exemple, si le score est 4 et qu'on prédit 5 ou 3, on le prend en considération car c'est proche, c'est pas comme si le score est 1 et on a prédit 5"
   ]
  },
  {
   "cell_type": "markdown",
   "metadata": {
    "id": "j09b3Su3ori9"
   },
   "source": [
    "**SVR**"
   ]
  },
  {
   "cell_type": "code",
   "execution_count": null,
   "metadata": {
    "id": "sOgHWUPDMp2B"
   },
   "outputs": [],
   "source": [
    "from sklearn.svm import SVR\n",
    "\n",
    "# Create the SVR model with a specific kernel\n",
    "svr_model = SVR(kernel='linear')\n",
    "\n",
    "\n",
    "svr_model.fit(X_train, y_train)\n",
    "\n",
    "\n",
    "y_pred_svr = svr_model.predict(X_test)\n",
    "\n",
    "\n",
    "mse_svr = mean_squared_error(y_test, y_pred_svr)\n",
    "r2_svr = r2_score(y_test, y_pred_svr)\n",
    "print(\"Mean Squared Error for SVR:\", mse_svr)\n",
    "print(\"R² Score for SVR:\", r2_svr)\n"
   ]
  },
  {
   "cell_type": "code",
   "execution_count": null,
   "metadata": {
    "id": "r0Tl-Kw_MW4x"
   },
   "outputs": [],
   "source": [
    "y_pred_rounded = np.round(y_pred_svr)\n",
    "y_test_rounded = np.round(y_test)\n",
    "\n",
    "accuracy = accuracy_score(y_test_rounded, y_pred_rounded)\n",
    "precision = precision_score(y_test_rounded, y_pred_rounded, average='macro')\n",
    "recall = recall_score(y_test_rounded, y_pred_rounded, average='macro')"
   ]
  },
  {
   "cell_type": "code",
   "execution_count": 8,
   "metadata": {
    "colab": {
     "base_uri": "https://localhost:8080/"
    },
    "id": "wK-K5TyfMZqV",
    "outputId": "64c773b8-687a-4dfb-fcb4-a0c2f3a0a97c"
   },
   "outputs": [
    {
     "name": "stdout",
     "output_type": "stream",
     "text": [
      "Accuracy: 0.511265164644714\n",
      "Precision: 0.42737373750491187\n",
      "Recall: 0.30461600524185145\n"
     ]
    }
   ],
   "source": [
    "print(\"Accuracy:\", accuracy)\n",
    "print(\"Precision:\", precision)\n",
    "print(\"Recall:\", recall)"
   ]
  },
  {
   "cell_type": "code",
   "execution_count": 110,
   "metadata": {
    "colab": {
     "base_uri": "https://localhost:8080/"
    },
    "id": "3XZBycIbjIj1",
    "outputId": "2cef137a-e471-4f98-c44c-036568ac50e6"
   },
   "outputs": [
    {
     "name": "stdout",
     "output_type": "stream",
     "text": [
      "Quadratic Weighted Kappa: 0.6743532075368763\n"
     ]
    }
   ],
   "source": [
    "from sklearn.metrics import cohen_kappa_score\n",
    "kappa = cohen_kappa_score(y_test_rounded, y_pred_rounded, weights='quadratic')\n",
    "print('Quadratic Weighted Kappa:', kappa)\n"
   ]
  },
  {
   "cell_type": "markdown",
   "metadata": {
    "id": "gMiaXZQFAPpI"
   },
   "source": [
    "Nous remarquons que avec ce model, l'erreur a diminué, la précision à augmenter, mais ça reste toujours pas suffisant"
   ]
  },
  {
   "cell_type": "markdown",
   "metadata": {
    "id": "VO8t94qvGX0Y"
   },
   "source": [
    "On voit qu'avec le kappa score les résulats sont mieux car on a pris en considération le rapprochement"
   ]
  },
  {
   "cell_type": "markdown",
   "metadata": {
    "id": "xqW-DnMtAcVM"
   },
   "source": [
    "Nous allons tenter le model random forest juste pour voir:"
   ]
  },
  {
   "cell_type": "code",
   "execution_count": null,
   "metadata": {
    "id": "zhttnMOxANhT"
   },
   "outputs": [],
   "source": [
    "#from sklearn.ensemble import RandomForestRegressor\n",
    "\n",
    "#rf_model = RandomForestRegressor(n_estimators=100, random_state=42)\n",
    "\n",
    "#rf_model.fit(X_train, y_train)\n",
    "\n",
    "# Predict\n",
    "#y_pred_rf = rf_model.predict(X_test)\n",
    "\n",
    "# Evaluate the model\n",
    "#mse_rf = mean_squared_error(y_test, y_pred_rf)\n",
    "#r2_rf = r2_score(y_test, y_pred_rf)\n",
    "#print(\"Mean Squared Error for Random Forest:\", mse_rf)\n",
    "#print(\"R² Score for Random Forest:\", r2_rf)\n"
   ]
  },
  {
   "cell_type": "markdown",
   "metadata": {
    "id": "OkYanH_oGjYF"
   },
   "source": [
    "Ce modèle prend enormément de temps, on a pas pu l'executer"
   ]
  },
  {
   "cell_type": "markdown",
   "metadata": {
    "id": "-Jqpa0GAfHGJ"
   },
   "source": [
    "Maintenant, nous allons procéder différemment, nous allons trouvé qu'il y a un model qui s'appelle BERT, qui utilisant des transformers peut etre adéquat à notre cas"
   ]
  },
  {
   "cell_type": "markdown",
   "metadata": {
    "id": "AfZT71UhPMMD"
   },
   "source": [
    "**BERT**"
   ]
  },
  {
   "cell_type": "markdown",
   "metadata": {
    "id": "V7ChJ3YoPKM2"
   },
   "source": []
  },
  {
   "cell_type": "code",
   "execution_count": 20,
   "metadata": {
    "colab": {
     "base_uri": "https://localhost:8080/",
     "height": 269,
     "referenced_widgets": [
      "201870c31b7b485eb602343c4d2a173b",
      "31103f9bc92d4056a9e0ea8767a32e6c",
      "637a0e73364743e095f27a149a16eb7d",
      "7cea2a5f7b4c4d95944f5c0c320a18a2",
      "b67f0acffc48428cb664d665d001dda6",
      "9b20943d19794216b5328934b6dad351",
      "cff03d61d7c74c98a50735c2f3165c0c",
      "f76a27c04fb74a088019e44456fa2209",
      "9ecaa4ee928f4b64be2756beead8d0a5",
      "ef72bb05e9e5442ebbae48e2fd8ea28b",
      "42f8856b3c27405a84db1a838dd4482d",
      "e279577e328548a6a134c496b4959309",
      "dbf1b6aec6104eb9b977d1d2ec1a0137",
      "03c40c7054ae4917906cd90d36b5c705",
      "a02d92b97fe942bbab93c784cbd76279",
      "6c20ea0dbfbd4ef298ad97bac8ec24b9",
      "2d3b3ee1639c457bb12b1d96e53dfedc",
      "591d5f131cc948f2a50742772c5fb75d",
      "6330ed8bd01e4a3992464931491d04f6",
      "ae0d15b93f544d8d88ff233a397a2718",
      "6d3baa6da0504412912f6258d9a4d2a4",
      "c53fca8df87d40f4b4019ba269f25806",
      "3e4675a757ab48bf96df015f93f7d276",
      "3951b32ae7db437abdfb7f798d2377c8",
      "f52d50b062d74be88cb7b95b6c0bf5a9",
      "cd535cd7a3c5418290420d5127293f3e",
      "cde19e1fb624491282d32ca074abfa85",
      "41834d7ef1744f8c83956e83cef0d698",
      "d6f9bf958b334ffca295c5b74a50a745",
      "7ffffcf545d34bc1bbda8e2ced5825bc",
      "812a8900677b4c7ba1da7ec9e1be9741",
      "5ba20ab4693b406fa465fef3aa4c27c7",
      "da0b2c9588054c9baafbbbf5375b5ebe",
      "ccabf33edff24447903b7fb14c2c678a",
      "33e6e512fad74d78b88dfad61ed96470",
      "ae047c0834474efa95d0c89b91326674",
      "fee61b8a973a46d398ddd5ea47f35a33",
      "025bf2182347431c8d3470d6d93d09ff",
      "841bb01336264cbe86d54e99874cbba5",
      "811e6b51c8ba42f2899c0d67bd7aeb9e",
      "014612a41b544d6e8efc4e4abb61a8d8",
      "7fbcc1216fe74a2aa54a3278df759ee5",
      "3beb4d03d43848428023f6c6becbca73",
      "c7a437105b9846b7bcfaacc6e80a6216"
     ]
    },
    "id": "B_4O2ilAnh_c",
    "outputId": "dc9c36fd-25bf-4edb-bebe-51f6224d60eb"
   },
   "outputs": [
    {
     "name": "stderr",
     "output_type": "stream",
     "text": [
      "/usr/local/lib/python3.10/dist-packages/huggingface_hub/utils/_token.py:88: UserWarning: \n",
      "The secret `HF_TOKEN` does not exist in your Colab secrets.\n",
      "To authenticate with the Hugging Face Hub, create a token in your settings tab (https://huggingface.co/settings/tokens), set it as secret in your Google Colab and restart your session.\n",
      "You will be able to reuse this secret in all of your notebooks.\n",
      "Please note that authentication is recommended but still optional to access public models or datasets.\n",
      "  warnings.warn(\n"
     ]
    },
    {
     "data": {
      "application/vnd.jupyter.widget-view+json": {
       "model_id": "201870c31b7b485eb602343c4d2a173b",
       "version_major": 2,
       "version_minor": 0
      },
      "text/plain": [
       "tokenizer_config.json:   0%|          | 0.00/48.0 [00:00<?, ?B/s]"
      ]
     },
     "metadata": {},
     "output_type": "display_data"
    },
    {
     "data": {
      "application/vnd.jupyter.widget-view+json": {
       "model_id": "e279577e328548a6a134c496b4959309",
       "version_major": 2,
       "version_minor": 0
      },
      "text/plain": [
       "vocab.txt:   0%|          | 0.00/232k [00:00<?, ?B/s]"
      ]
     },
     "metadata": {},
     "output_type": "display_data"
    },
    {
     "data": {
      "application/vnd.jupyter.widget-view+json": {
       "model_id": "3e4675a757ab48bf96df015f93f7d276",
       "version_major": 2,
       "version_minor": 0
      },
      "text/plain": [
       "tokenizer.json:   0%|          | 0.00/466k [00:00<?, ?B/s]"
      ]
     },
     "metadata": {},
     "output_type": "display_data"
    },
    {
     "data": {
      "application/vnd.jupyter.widget-view+json": {
       "model_id": "ccabf33edff24447903b7fb14c2c678a",
       "version_major": 2,
       "version_minor": 0
      },
      "text/plain": [
       "config.json:   0%|          | 0.00/570 [00:00<?, ?B/s]"
      ]
     },
     "metadata": {},
     "output_type": "display_data"
    }
   ],
   "source": [
    "import pandas as pd\n",
    "from transformers import BertTokenizer\n",
    "from sklearn.model_selection import train_test_split\n",
    "\n",
    "# Initialize the BERT tokenizer\n",
    "tokenizer = BertTokenizer.from_pretrained('bert-base-uncased')\n",
    "\n",
    "# Tokenize and encode the essays in the DataFrame\n",
    "def encode_essays(tokenizer, essays, max_length):\n",
    "    return tokenizer(essays, padding=True, truncation=True, max_length=max_length, return_tensors=\"pt\")\n",
    "\n",
    "# Assuming the maximum length of an essay to be 512 words\n",
    "encoded_data = encode_essays(tokenizer, df['full_text'].tolist(), max_length=512)\n",
    "\n",
    "# Split the data into training and testing sets\n",
    "X_train, X_test, y_train, y_test = train_test_split(encoded_data['input_ids'], df['score'], test_size=0.2, random_state=42)\n"
   ]
  },
  {
   "cell_type": "code",
   "execution_count": 21,
   "metadata": {
    "colab": {
     "base_uri": "https://localhost:8080/",
     "height": 104,
     "referenced_widgets": [
      "6e8f60bd2a2c414394c19d8991eae2d8",
      "410e62e5ac944a59bc4868eea09490d1",
      "5a100f74d98e46c0b302159bad9d152a",
      "03b2dfb2b7c045079e6ffe36cfe20236",
      "4cf4807c464b41f3b4669222fbfede0b",
      "d1fcfedeceb34007885e1e4489a8894d",
      "e5a8a0f4d32b4fde8bc7fa393c72e21a",
      "39ab5cdb5a394c419e7360bc46e88fdd",
      "9b4d5f8e89e149f798b56812ef8841fd",
      "3e6f47b1c25c4b2ead7c2de6e312e777",
      "d65be6ab7c504f028d618496d855f56c"
     ]
    },
    "id": "6V9XdN-rfl3i",
    "outputId": "072a15e8-210d-4df4-ac8c-bde982dbdffb"
   },
   "outputs": [
    {
     "data": {
      "application/vnd.jupyter.widget-view+json": {
       "model_id": "6e8f60bd2a2c414394c19d8991eae2d8",
       "version_major": 2,
       "version_minor": 0
      },
      "text/plain": [
       "model.safetensors:   0%|          | 0.00/440M [00:00<?, ?B/s]"
      ]
     },
     "metadata": {},
     "output_type": "display_data"
    },
    {
     "name": "stderr",
     "output_type": "stream",
     "text": [
      "Some weights of BertForSequenceClassification were not initialized from the model checkpoint at bert-base-uncased and are newly initialized: ['classifier.bias', 'classifier.weight']\n",
      "You should probably TRAIN this model on a down-stream task to be able to use it for predictions and inference.\n"
     ]
    }
   ],
   "source": [
    "from transformers import BertForSequenceClassification\n",
    "\n",
    "model = BertForSequenceClassification.from_pretrained('bert-base-uncased', num_labels=1)  # num_labels=1 for regression\n"
   ]
  },
  {
   "cell_type": "code",
   "execution_count": null,
   "metadata": {},
   "outputs": [],
   "source": [
    "import torch\n",
    "from torch.utils.data import DataLoader, TensorDataset, random_split\n",
    "from transformers import AdamW\n",
    "\n",
    "# Create a torch dataset\n",
    "train_dataset = TensorDataset(X_train, torch.tensor(y_train.values, dtype=torch.float32))\n",
    "train_loader = DataLoader(train_dataset, batch_size=16, shuffle=True)\n",
    "\n",
    "# Prepare the optimizer\n",
    "optimizer = AdamW(model.parameters(), lr=1e-5)\n",
    "\n",
    "# Move the model to the GPU if available\n",
    "device = torch.device(\"cuda\" if torch.cuda.is_available() else \"cpu\")\n",
    "model.to(device)\n",
    "\n",
    "# Training loop\n",
    "model.train()\n",
    "for epoch in range(3):  # loop over the dataset multiple times\n",
    "    for i, data in enumerate(train_loader, 0):\n",
    "        inputs, labels = data\n",
    "        inputs, labels = inputs.to(device), labels.to(device)\n",
    "\n",
    "        # zero the parameter gradients\n",
    "        optimizer.zero_grad()\n",
    "\n",
    "        # forward + backward + optimize\n",
    "        outputs = model(inputs, labels=labels)\n",
    "        loss = outputs.loss\n",
    "        loss.backward()\n",
    "        optimizer.step()\n",
    "\n",
    "        #print(f'Epoch {epoch + 1}, Batch {i + 1}, Loss: {loss.item()}')\n"
   ]
  },
  {
   "cell_type": "code",
   "execution_count": 24,
   "metadata": {
    "id": "seFEZb6_6EU1"
   },
   "outputs": [],
   "source": [
    "test_dataset = TensorDataset(X_test, torch.tensor(y_test.values, dtype=torch.float32))\n",
    "test_loader = DataLoader(test_dataset, batch_size=16, shuffle=False)  # Typically, no need to shuffle the test set\n"
   ]
  },
  {
   "cell_type": "code",
   "execution_count": 30,
   "metadata": {
    "colab": {
     "base_uri": "https://localhost:8080/"
    },
    "id": "0JSRXRr85lGw",
    "outputId": "05c54955-3102-49ab-c435-6153bc9ec567"
   },
   "outputs": [
    {
     "name": "stdout",
     "output_type": "stream",
     "text": [
      "Average Test Loss: 0.4198081992257575\n"
     ]
    }
   ],
   "source": [
    "model.eval()  # Set the model to evaluation mode\n",
    "test_loss = 0\n",
    "predictions = []\n",
    "actuals = []\n",
    "\n",
    "with torch.no_grad():  # Context-manager that disables gradient calculation; useful for inference\n",
    "    for inputs, labels in test_loader:\n",
    "        inputs, labels = inputs.to(device), labels.to(device)\n",
    "        outputs = model(inputs, labels=labels)\n",
    "        loss = outputs.loss\n",
    "        test_loss += loss.item()  # Sum up batch loss\n",
    "        predicted_labels = outputs.logits.squeeze()  # Adjust shape if necessary\n",
    "        predictions.extend(predicted_labels.detach().cpu().numpy())\n",
    "        actuals.extend(labels.detach().cpu().numpy())\n",
    "\n",
    "# Calculate the average loss over all of the batches.\n",
    "average_test_loss = test_loss / len(test_loader)\n",
    "print(f'Average Test Loss: {average_test_loss}')\n"
   ]
  },
  {
   "cell_type": "code",
   "execution_count": 32,
   "metadata": {
    "id": "rkL63xQVDWWl"
   },
   "outputs": [],
   "source": [
    "from sklearn.metrics import precision_score, recall_score, f1_score, classification_report, confusion_matrix\n"
   ]
  },
  {
   "cell_type": "code",
   "execution_count": 35,
   "metadata": {
    "colab": {
     "base_uri": "https://localhost:8080/"
    },
    "id": "ioOeQDcm6z8I",
    "outputId": "f1d8584a-a086-4052-aeab-d9737dac45b5"
   },
   "outputs": [
    {
     "name": "stdout",
     "output_type": "stream",
     "text": [
      "Precision: 0.5301042673422923\n",
      "Recall: 0.4275840864935736\n",
      "F1 Score: 0.4132075758568871\n",
      "              precision    recall  f1-score   support\n",
      "\n",
      "           1       0.96      0.08      0.16       260\n",
      "           2       0.65      0.53      0.59       965\n",
      "           3       0.60      0.68      0.63      1265\n",
      "           4       0.54      0.71      0.61       750\n",
      "           5       0.44      0.57      0.49       183\n",
      "           6       0.00      0.00      0.00        39\n",
      "\n",
      "    accuracy                           0.58      3462\n",
      "   macro avg       0.53      0.43      0.41      3462\n",
      "weighted avg       0.61      0.58      0.57      3462\n",
      "\n"
     ]
    },
    {
     "name": "stderr",
     "output_type": "stream",
     "text": [
      "/usr/local/lib/python3.10/dist-packages/sklearn/metrics/_classification.py:1344: UndefinedMetricWarning: Precision is ill-defined and being set to 0.0 in labels with no predicted samples. Use `zero_division` parameter to control this behavior.\n",
      "  _warn_prf(average, modifier, msg_start, len(result))\n",
      "/usr/local/lib/python3.10/dist-packages/sklearn/metrics/_classification.py:1344: UndefinedMetricWarning: Precision and F-score are ill-defined and being set to 0.0 in labels with no predicted samples. Use `zero_division` parameter to control this behavior.\n",
      "  _warn_prf(average, modifier, msg_start, len(result))\n",
      "/usr/local/lib/python3.10/dist-packages/sklearn/metrics/_classification.py:1344: UndefinedMetricWarning: Precision and F-score are ill-defined and being set to 0.0 in labels with no predicted samples. Use `zero_division` parameter to control this behavior.\n",
      "  _warn_prf(average, modifier, msg_start, len(result))\n",
      "/usr/local/lib/python3.10/dist-packages/sklearn/metrics/_classification.py:1344: UndefinedMetricWarning: Precision and F-score are ill-defined and being set to 0.0 in labels with no predicted samples. Use `zero_division` parameter to control this behavior.\n",
      "  _warn_prf(average, modifier, msg_start, len(result))\n"
     ]
    }
   ],
   "source": [
    "from sklearn.metrics import confusion_matrix\n",
    "\n",
    "import numpy as np\n",
    "\n",
    "\n",
    "predictions_categorical = np.round(predictions).astype(int)\n",
    "actuals_categorical = np.round(actuals).astype(int)\n",
    "\n",
    "precision = precision_score(actuals_categorical, predictions_categorical, average='macro')  # Change average as needed\n",
    "recall = recall_score(actuals_categorical, predictions_categorical, average='macro')\n",
    "f1 = f1_score(actuals_categorical, predictions_categorical, average='macro')\n",
    "\n",
    "print(f'Precision: {precision}')\n",
    "print(f'Recall: {recall}')\n",
    "print(f'F1 Score: {f1}')\n",
    "\n",
    "\n",
    "print(classification_report(actuals_categorical, predictions_categorical))\n",
    "\n",
    "cm = confusion_matrix(actuals_categorical, predictions_categorical)\n"
   ]
  },
  {
   "cell_type": "markdown",
   "metadata": {
    "id": "3UdJ6GZ-Gwyz"
   },
   "source": [
    "avec le modele BERT, la fonction de Loss dimiunue, ce qui est bien"
   ]
  },
  {
   "cell_type": "markdown",
   "metadata": {
    "id": "FkDgZUKoPVyb"
   },
   "source": [
    "**Prise en considération des thèmes des essaies**"
   ]
  },
  {
   "cell_type": "markdown",
   "metadata": {
    "id": "J6Dgy0vtspt3"
   },
   "source": [
    "**MLP-Regression**"
   ]
  },
  {
   "cell_type": "markdown",
   "metadata": {
    "id": "6aAl6aFIH0BV"
   },
   "source": [
    "Le modèle MLP (Multilayer Perceptron) pour la régression est un type de réseau de neurones utilisé pour les tâches de régression"
   ]
  },
  {
   "cell_type": "code",
   "execution_count": 111,
   "metadata": {
    "colab": {
     "base_uri": "https://localhost:8080/",
     "height": 424
    },
    "id": "P0xf-tNKCK57",
    "outputId": "67060799-30dd-451f-a7af-a565f53ed40b"
   },
   "outputs": [
    {
     "data": {
      "application/vnd.google.colaboratory.intrinsic+json": {
       "summary": "{\n  \"name\": \"df1\",\n  \"rows\": 17307,\n  \"fields\": [\n    {\n      \"column\": \"essay_id\",\n      \"properties\": {\n        \"dtype\": \"string\",\n        \"num_unique_values\": 17307,\n        \"samples\": [\n          \"bb4c434\",\n          \"44e88b0\",\n          \"0ba78ec\"\n        ],\n        \"semantic_type\": \"\",\n        \"description\": \"\"\n      }\n    },\n    {\n      \"column\": \"full_text\",\n      \"properties\": {\n        \"dtype\": \"string\",\n        \"num_unique_values\": 17307,\n        \"samples\": [\n          \"people tend use cars much basically live get day car use car go every rather grocery store work go hang friends family traveling general well imagine limited usage cars community strongly believe would many advantages community many reasons like make people less stressful time would less accidents would definitly better environment omg ran gas oh take car shop get fixed usually two main things hear people stay word car comes car comes alot stress expenses take every need usually someone stressed best person wan na conversation think limit usage cars lot people community alot happier according article car free cities elisabeth rosenthal source lady name heidrun walter says car always tense much happier way think perfect example limited car usauage make person happier addition feel limit car usage community make community much safer environment hear see many car accidents country community cars dangerous people often get injuried die car recks limitting car usage communitry keep people safe importantly alive kids able run aroumd neighborhood play friends also cross street safely without disruption car coming stopping wants get hurt car coming know driving car last least limiting use car usage community would definitly better environment science class often talk cars polute air mess waehter car self also feel car changing see cars cars streets think makes days hotter also think makes winters come around earlier makes alot colder live sunshine florida south year round usually hot extremly hot realize people driving around winers seem alot cold usually cold last longer periods time conclusion belive limit car usuage community make better place many reasons like make people less stressful happier less accidents road also help environment lot\",\n          \"imagine top scientist nasa viking spacecraft spotted shadowy likeness human face lot people thought alien life possibility others thought natural landform would thoughts image face mars natural landform similar landforms earth high pixel photos taken enough reliable information support alien life theory begin similar landforms earth one mars stated text picture actually shows martian equivalent butte mesa landforms common around american west also stated text garvin giving opinion reminds middle butte snake river plain idaho another issue alien life theory fact nasa high quality cameras quoting text pixel image spans meters compared meters per pixel best viking photo result high quality pictures could see small details clearly stated article garvin said objects picture like airplanes ground egyptian style pyramids even small shacks could see concluding statement nothing landform resembled face seen mars finally enough evidence support claim alien life mars first pictures blurry haze cloud coverage theory popular online world science world stated text face mars since become pop icon starred hollywood film appeared books magazines radio talk shows even haunted grocery store checkout lines years proves might publicity attention many conspiracy theorists ultimately face mars natural landform similar landforms earth high pixel photos taken enough reliable information support alien life theory\",\n          \"face mars could created aliens land form created conditions mars looks like face coincidence mesa common area mars many others like one without shadows makes appearance human face many different land forms cydonia different second paragrapgh article stated cydonia region known buttes mesas face mars another mesa different one except unique shadows strange see formation supposedly uninhabited planet depicts human face espescially human ever set foot planet mars time reason believe nothing weird coincidence since person ever conspiracy theorists dismay strange landform nothing martian butte mesa weird coincidence interesting formation stumped puzzled scientests world know formation anything reveal alien lifeforms alien activity\"\n        ],\n        \"semantic_type\": \"\",\n        \"description\": \"\"\n      }\n    },\n    {\n      \"column\": \"score\",\n      \"properties\": {\n        \"dtype\": \"number\",\n        \"std\": 1,\n        \"min\": 1,\n        \"max\": 6,\n        \"num_unique_values\": 6,\n        \"samples\": [\n          3,\n          4,\n          6\n        ],\n        \"semantic_type\": \"\",\n        \"description\": \"\"\n      }\n    },\n    {\n      \"column\": \"theme\",\n      \"properties\": {\n        \"dtype\": \"int32\",\n        \"num_unique_values\": 4,\n        \"samples\": [\n          3,\n          4,\n          2\n        ],\n        \"semantic_type\": \"\",\n        \"description\": \"\"\n      }\n    }\n  ]\n}",
       "type": "dataframe",
       "variable_name": "df1"
      },
      "text/html": [
       "\n",
       "  <div id=\"df-7eea8a09-8703-4e3a-9e2b-77811cb569ff\" class=\"colab-df-container\">\n",
       "    <div>\n",
       "<style scoped>\n",
       "    .dataframe tbody tr th:only-of-type {\n",
       "        vertical-align: middle;\n",
       "    }\n",
       "\n",
       "    .dataframe tbody tr th {\n",
       "        vertical-align: top;\n",
       "    }\n",
       "\n",
       "    .dataframe thead th {\n",
       "        text-align: right;\n",
       "    }\n",
       "</style>\n",
       "<table border=\"1\" class=\"dataframe\">\n",
       "  <thead>\n",
       "    <tr style=\"text-align: right;\">\n",
       "      <th></th>\n",
       "      <th>essay_id</th>\n",
       "      <th>full_text</th>\n",
       "      <th>score</th>\n",
       "      <th>theme</th>\n",
       "    </tr>\n",
       "  </thead>\n",
       "  <tbody>\n",
       "    <tr>\n",
       "      <th>0</th>\n",
       "      <td>000d118</td>\n",
       "      <td>many people car live thing know use car alot t...</td>\n",
       "      <td>3</td>\n",
       "      <td>2</td>\n",
       "    </tr>\n",
       "    <tr>\n",
       "      <th>1</th>\n",
       "      <td>000fe60</td>\n",
       "      <td>scientist nasa discussing face mars explaining...</td>\n",
       "      <td>3</td>\n",
       "      <td>3</td>\n",
       "    </tr>\n",
       "    <tr>\n",
       "      <th>2</th>\n",
       "      <td>001ab80</td>\n",
       "      <td>people always wish technology seen movies best...</td>\n",
       "      <td>4</td>\n",
       "      <td>2</td>\n",
       "    </tr>\n",
       "    <tr>\n",
       "      <th>3</th>\n",
       "      <td>001bdc0</td>\n",
       "      <td>heard venus planet without almost oxygen earth...</td>\n",
       "      <td>4</td>\n",
       "      <td>1</td>\n",
       "    </tr>\n",
       "    <tr>\n",
       "      <th>4</th>\n",
       "      <td>002ba53</td>\n",
       "      <td>dear state senator letter argue favor keeping ...</td>\n",
       "      <td>3</td>\n",
       "      <td>4</td>\n",
       "    </tr>\n",
       "    <tr>\n",
       "      <th>...</th>\n",
       "      <td>...</td>\n",
       "      <td>...</td>\n",
       "      <td>...</td>\n",
       "      <td>...</td>\n",
       "    </tr>\n",
       "    <tr>\n",
       "      <th>17302</th>\n",
       "      <td>ffd378d</td>\n",
       "      <td>story challenge exploing venus informative pie...</td>\n",
       "      <td>2</td>\n",
       "      <td>1</td>\n",
       "    </tr>\n",
       "    <tr>\n",
       "      <th>17303</th>\n",
       "      <td>ffddf1f</td>\n",
       "      <td>technology changed lot ways live today nowaday...</td>\n",
       "      <td>4</td>\n",
       "      <td>3</td>\n",
       "    </tr>\n",
       "    <tr>\n",
       "      <th>17304</th>\n",
       "      <td>fff016d</td>\n",
       "      <td>like sitting around day great opportunity part...</td>\n",
       "      <td>2</td>\n",
       "      <td>3</td>\n",
       "    </tr>\n",
       "    <tr>\n",
       "      <th>17305</th>\n",
       "      <td>fffb49b</td>\n",
       "      <td>challenge exporing venus author suggests study...</td>\n",
       "      <td>1</td>\n",
       "      <td>1</td>\n",
       "    </tr>\n",
       "    <tr>\n",
       "      <th>17306</th>\n",
       "      <td>fffed3e</td>\n",
       "      <td>venus worthy place study dangerous reaosn thei...</td>\n",
       "      <td>2</td>\n",
       "      <td>3</td>\n",
       "    </tr>\n",
       "  </tbody>\n",
       "</table>\n",
       "<p>17307 rows × 4 columns</p>\n",
       "</div>\n",
       "    <div class=\"colab-df-buttons\">\n",
       "\n",
       "  <div class=\"colab-df-container\">\n",
       "    <button class=\"colab-df-convert\" onclick=\"convertToInteractive('df-7eea8a09-8703-4e3a-9e2b-77811cb569ff')\"\n",
       "            title=\"Convert this dataframe to an interactive table.\"\n",
       "            style=\"display:none;\">\n",
       "\n",
       "  <svg xmlns=\"http://www.w3.org/2000/svg\" height=\"24px\" viewBox=\"0 -960 960 960\">\n",
       "    <path d=\"M120-120v-720h720v720H120Zm60-500h600v-160H180v160Zm220 220h160v-160H400v160Zm0 220h160v-160H400v160ZM180-400h160v-160H180v160Zm440 0h160v-160H620v160ZM180-180h160v-160H180v160Zm440 0h160v-160H620v160Z\"/>\n",
       "  </svg>\n",
       "    </button>\n",
       "\n",
       "  <style>\n",
       "    .colab-df-container {\n",
       "      display:flex;\n",
       "      gap: 12px;\n",
       "    }\n",
       "\n",
       "    .colab-df-convert {\n",
       "      background-color: #E8F0FE;\n",
       "      border: none;\n",
       "      border-radius: 50%;\n",
       "      cursor: pointer;\n",
       "      display: none;\n",
       "      fill: #1967D2;\n",
       "      height: 32px;\n",
       "      padding: 0 0 0 0;\n",
       "      width: 32px;\n",
       "    }\n",
       "\n",
       "    .colab-df-convert:hover {\n",
       "      background-color: #E2EBFA;\n",
       "      box-shadow: 0px 1px 2px rgba(60, 64, 67, 0.3), 0px 1px 3px 1px rgba(60, 64, 67, 0.15);\n",
       "      fill: #174EA6;\n",
       "    }\n",
       "\n",
       "    .colab-df-buttons div {\n",
       "      margin-bottom: 4px;\n",
       "    }\n",
       "\n",
       "    [theme=dark] .colab-df-convert {\n",
       "      background-color: #3B4455;\n",
       "      fill: #D2E3FC;\n",
       "    }\n",
       "\n",
       "    [theme=dark] .colab-df-convert:hover {\n",
       "      background-color: #434B5C;\n",
       "      box-shadow: 0px 1px 3px 1px rgba(0, 0, 0, 0.15);\n",
       "      filter: drop-shadow(0px 1px 2px rgba(0, 0, 0, 0.3));\n",
       "      fill: #FFFFFF;\n",
       "    }\n",
       "  </style>\n",
       "\n",
       "    <script>\n",
       "      const buttonEl =\n",
       "        document.querySelector('#df-7eea8a09-8703-4e3a-9e2b-77811cb569ff button.colab-df-convert');\n",
       "      buttonEl.style.display =\n",
       "        google.colab.kernel.accessAllowed ? 'block' : 'none';\n",
       "\n",
       "      async function convertToInteractive(key) {\n",
       "        const element = document.querySelector('#df-7eea8a09-8703-4e3a-9e2b-77811cb569ff');\n",
       "        const dataTable =\n",
       "          await google.colab.kernel.invokeFunction('convertToInteractive',\n",
       "                                                    [key], {});\n",
       "        if (!dataTable) return;\n",
       "\n",
       "        const docLinkHtml = 'Like what you see? Visit the ' +\n",
       "          '<a target=\"_blank\" href=https://colab.research.google.com/notebooks/data_table.ipynb>data table notebook</a>'\n",
       "          + ' to learn more about interactive tables.';\n",
       "        element.innerHTML = '';\n",
       "        dataTable['output_type'] = 'display_data';\n",
       "        await google.colab.output.renderOutput(dataTable, element);\n",
       "        const docLink = document.createElement('div');\n",
       "        docLink.innerHTML = docLinkHtml;\n",
       "        element.appendChild(docLink);\n",
       "      }\n",
       "    </script>\n",
       "  </div>\n",
       "\n",
       "\n",
       "<div id=\"df-d55d2267-e01d-4e0f-9983-0d8713c4c29b\">\n",
       "  <button class=\"colab-df-quickchart\" onclick=\"quickchart('df-d55d2267-e01d-4e0f-9983-0d8713c4c29b')\"\n",
       "            title=\"Suggest charts\"\n",
       "            style=\"display:none;\">\n",
       "\n",
       "<svg xmlns=\"http://www.w3.org/2000/svg\" height=\"24px\"viewBox=\"0 0 24 24\"\n",
       "     width=\"24px\">\n",
       "    <g>\n",
       "        <path d=\"M19 3H5c-1.1 0-2 .9-2 2v14c0 1.1.9 2 2 2h14c1.1 0 2-.9 2-2V5c0-1.1-.9-2-2-2zM9 17H7v-7h2v7zm4 0h-2V7h2v10zm4 0h-2v-4h2v4z\"/>\n",
       "    </g>\n",
       "</svg>\n",
       "  </button>\n",
       "\n",
       "<style>\n",
       "  .colab-df-quickchart {\n",
       "      --bg-color: #E8F0FE;\n",
       "      --fill-color: #1967D2;\n",
       "      --hover-bg-color: #E2EBFA;\n",
       "      --hover-fill-color: #174EA6;\n",
       "      --disabled-fill-color: #AAA;\n",
       "      --disabled-bg-color: #DDD;\n",
       "  }\n",
       "\n",
       "  [theme=dark] .colab-df-quickchart {\n",
       "      --bg-color: #3B4455;\n",
       "      --fill-color: #D2E3FC;\n",
       "      --hover-bg-color: #434B5C;\n",
       "      --hover-fill-color: #FFFFFF;\n",
       "      --disabled-bg-color: #3B4455;\n",
       "      --disabled-fill-color: #666;\n",
       "  }\n",
       "\n",
       "  .colab-df-quickchart {\n",
       "    background-color: var(--bg-color);\n",
       "    border: none;\n",
       "    border-radius: 50%;\n",
       "    cursor: pointer;\n",
       "    display: none;\n",
       "    fill: var(--fill-color);\n",
       "    height: 32px;\n",
       "    padding: 0;\n",
       "    width: 32px;\n",
       "  }\n",
       "\n",
       "  .colab-df-quickchart:hover {\n",
       "    background-color: var(--hover-bg-color);\n",
       "    box-shadow: 0 1px 2px rgba(60, 64, 67, 0.3), 0 1px 3px 1px rgba(60, 64, 67, 0.15);\n",
       "    fill: var(--button-hover-fill-color);\n",
       "  }\n",
       "\n",
       "  .colab-df-quickchart-complete:disabled,\n",
       "  .colab-df-quickchart-complete:disabled:hover {\n",
       "    background-color: var(--disabled-bg-color);\n",
       "    fill: var(--disabled-fill-color);\n",
       "    box-shadow: none;\n",
       "  }\n",
       "\n",
       "  .colab-df-spinner {\n",
       "    border: 2px solid var(--fill-color);\n",
       "    border-color: transparent;\n",
       "    border-bottom-color: var(--fill-color);\n",
       "    animation:\n",
       "      spin 1s steps(1) infinite;\n",
       "  }\n",
       "\n",
       "  @keyframes spin {\n",
       "    0% {\n",
       "      border-color: transparent;\n",
       "      border-bottom-color: var(--fill-color);\n",
       "      border-left-color: var(--fill-color);\n",
       "    }\n",
       "    20% {\n",
       "      border-color: transparent;\n",
       "      border-left-color: var(--fill-color);\n",
       "      border-top-color: var(--fill-color);\n",
       "    }\n",
       "    30% {\n",
       "      border-color: transparent;\n",
       "      border-left-color: var(--fill-color);\n",
       "      border-top-color: var(--fill-color);\n",
       "      border-right-color: var(--fill-color);\n",
       "    }\n",
       "    40% {\n",
       "      border-color: transparent;\n",
       "      border-right-color: var(--fill-color);\n",
       "      border-top-color: var(--fill-color);\n",
       "    }\n",
       "    60% {\n",
       "      border-color: transparent;\n",
       "      border-right-color: var(--fill-color);\n",
       "    }\n",
       "    80% {\n",
       "      border-color: transparent;\n",
       "      border-right-color: var(--fill-color);\n",
       "      border-bottom-color: var(--fill-color);\n",
       "    }\n",
       "    90% {\n",
       "      border-color: transparent;\n",
       "      border-bottom-color: var(--fill-color);\n",
       "    }\n",
       "  }\n",
       "</style>\n",
       "\n",
       "  <script>\n",
       "    async function quickchart(key) {\n",
       "      const quickchartButtonEl =\n",
       "        document.querySelector('#' + key + ' button');\n",
       "      quickchartButtonEl.disabled = true;  // To prevent multiple clicks.\n",
       "      quickchartButtonEl.classList.add('colab-df-spinner');\n",
       "      try {\n",
       "        const charts = await google.colab.kernel.invokeFunction(\n",
       "            'suggestCharts', [key], {});\n",
       "      } catch (error) {\n",
       "        console.error('Error during call to suggestCharts:', error);\n",
       "      }\n",
       "      quickchartButtonEl.classList.remove('colab-df-spinner');\n",
       "      quickchartButtonEl.classList.add('colab-df-quickchart-complete');\n",
       "    }\n",
       "    (() => {\n",
       "      let quickchartButtonEl =\n",
       "        document.querySelector('#df-d55d2267-e01d-4e0f-9983-0d8713c4c29b button');\n",
       "      quickchartButtonEl.style.display =\n",
       "        google.colab.kernel.accessAllowed ? 'block' : 'none';\n",
       "    })();\n",
       "  </script>\n",
       "</div>\n",
       "    </div>\n",
       "  </div>\n"
      ],
      "text/plain": [
       "      essay_id                                          full_text  score  \\\n",
       "0      000d118  many people car live thing know use car alot t...      3   \n",
       "1      000fe60  scientist nasa discussing face mars explaining...      3   \n",
       "2      001ab80  people always wish technology seen movies best...      4   \n",
       "3      001bdc0  heard venus planet without almost oxygen earth...      4   \n",
       "4      002ba53  dear state senator letter argue favor keeping ...      3   \n",
       "...        ...                                                ...    ...   \n",
       "17302  ffd378d  story challenge exploing venus informative pie...      2   \n",
       "17303  ffddf1f  technology changed lot ways live today nowaday...      4   \n",
       "17304  fff016d  like sitting around day great opportunity part...      2   \n",
       "17305  fffb49b  challenge exporing venus author suggests study...      1   \n",
       "17306  fffed3e  venus worthy place study dangerous reaosn thei...      2   \n",
       "\n",
       "       theme  \n",
       "0          2  \n",
       "1          3  \n",
       "2          2  \n",
       "3          1  \n",
       "4          4  \n",
       "...      ...  \n",
       "17302      1  \n",
       "17303      3  \n",
       "17304      3  \n",
       "17305      1  \n",
       "17306      3  \n",
       "\n",
       "[17307 rows x 4 columns]"
      ]
     },
     "execution_count": 111,
     "metadata": {},
     "output_type": "execute_result"
    }
   ],
   "source": [
    "df1"
   ]
  },
  {
   "cell_type": "code",
   "execution_count": 112,
   "metadata": {
    "id": "ADteTfxbQzR5"
   },
   "outputs": [],
   "source": [
    "X=df1.drop([\"essay_id\",\"theme\",\"score\",],axis=1)\n",
    "y=df1[\"score\"]"
   ]
  },
  {
   "cell_type": "code",
   "execution_count": 115,
   "metadata": {
    "colab": {
     "base_uri": "https://localhost:8080/",
     "height": 424
    },
    "id": "DVe6ocplPdF4",
    "outputId": "165fa53c-8621-4a08-868e-cd409a8238bc"
   },
   "outputs": [
    {
     "data": {
      "application/vnd.google.colaboratory.intrinsic+json": {
       "summary": "{\n  \"name\": \"X\",\n  \"rows\": 17307,\n  \"fields\": [\n    {\n      \"column\": \"full_text\",\n      \"properties\": {\n        \"dtype\": \"string\",\n        \"num_unique_values\": 17307,\n        \"samples\": [\n          \"people tend use cars much basically live get day car use car go every rather grocery store work go hang friends family traveling general well imagine limited usage cars community strongly believe would many advantages community many reasons like make people less stressful time would less accidents would definitly better environment omg ran gas oh take car shop get fixed usually two main things hear people stay word car comes car comes alot stress expenses take every need usually someone stressed best person wan na conversation think limit usage cars lot people community alot happier according article car free cities elisabeth rosenthal source lady name heidrun walter says car always tense much happier way think perfect example limited car usauage make person happier addition feel limit car usage community make community much safer environment hear see many car accidents country community cars dangerous people often get injuried die car recks limitting car usage communitry keep people safe importantly alive kids able run aroumd neighborhood play friends also cross street safely without disruption car coming stopping wants get hurt car coming know driving car last least limiting use car usage community would definitly better environment science class often talk cars polute air mess waehter car self also feel car changing see cars cars streets think makes days hotter also think makes winters come around earlier makes alot colder live sunshine florida south year round usually hot extremly hot realize people driving around winers seem alot cold usually cold last longer periods time conclusion belive limit car usuage community make better place many reasons like make people less stressful happier less accidents road also help environment lot\",\n          \"imagine top scientist nasa viking spacecraft spotted shadowy likeness human face lot people thought alien life possibility others thought natural landform would thoughts image face mars natural landform similar landforms earth high pixel photos taken enough reliable information support alien life theory begin similar landforms earth one mars stated text picture actually shows martian equivalent butte mesa landforms common around american west also stated text garvin giving opinion reminds middle butte snake river plain idaho another issue alien life theory fact nasa high quality cameras quoting text pixel image spans meters compared meters per pixel best viking photo result high quality pictures could see small details clearly stated article garvin said objects picture like airplanes ground egyptian style pyramids even small shacks could see concluding statement nothing landform resembled face seen mars finally enough evidence support claim alien life mars first pictures blurry haze cloud coverage theory popular online world science world stated text face mars since become pop icon starred hollywood film appeared books magazines radio talk shows even haunted grocery store checkout lines years proves might publicity attention many conspiracy theorists ultimately face mars natural landform similar landforms earth high pixel photos taken enough reliable information support alien life theory\",\n          \"face mars could created aliens land form created conditions mars looks like face coincidence mesa common area mars many others like one without shadows makes appearance human face many different land forms cydonia different second paragrapgh article stated cydonia region known buttes mesas face mars another mesa different one except unique shadows strange see formation supposedly uninhabited planet depicts human face espescially human ever set foot planet mars time reason believe nothing weird coincidence since person ever conspiracy theorists dismay strange landform nothing martian butte mesa weird coincidence interesting formation stumped puzzled scientests world know formation anything reveal alien lifeforms alien activity\"\n        ],\n        \"semantic_type\": \"\",\n        \"description\": \"\"\n      }\n    }\n  ]\n}",
       "type": "dataframe",
       "variable_name": "X"
      },
      "text/html": [
       "\n",
       "  <div id=\"df-625571cd-61b1-4a5a-9382-cdc1c2dc7db5\" class=\"colab-df-container\">\n",
       "    <div>\n",
       "<style scoped>\n",
       "    .dataframe tbody tr th:only-of-type {\n",
       "        vertical-align: middle;\n",
       "    }\n",
       "\n",
       "    .dataframe tbody tr th {\n",
       "        vertical-align: top;\n",
       "    }\n",
       "\n",
       "    .dataframe thead th {\n",
       "        text-align: right;\n",
       "    }\n",
       "</style>\n",
       "<table border=\"1\" class=\"dataframe\">\n",
       "  <thead>\n",
       "    <tr style=\"text-align: right;\">\n",
       "      <th></th>\n",
       "      <th>full_text</th>\n",
       "    </tr>\n",
       "  </thead>\n",
       "  <tbody>\n",
       "    <tr>\n",
       "      <th>0</th>\n",
       "      <td>many people car live thing know use car alot t...</td>\n",
       "    </tr>\n",
       "    <tr>\n",
       "      <th>1</th>\n",
       "      <td>scientist nasa discussing face mars explaining...</td>\n",
       "    </tr>\n",
       "    <tr>\n",
       "      <th>2</th>\n",
       "      <td>people always wish technology seen movies best...</td>\n",
       "    </tr>\n",
       "    <tr>\n",
       "      <th>3</th>\n",
       "      <td>heard venus planet without almost oxygen earth...</td>\n",
       "    </tr>\n",
       "    <tr>\n",
       "      <th>4</th>\n",
       "      <td>dear state senator letter argue favor keeping ...</td>\n",
       "    </tr>\n",
       "    <tr>\n",
       "      <th>...</th>\n",
       "      <td>...</td>\n",
       "    </tr>\n",
       "    <tr>\n",
       "      <th>17302</th>\n",
       "      <td>story challenge exploing venus informative pie...</td>\n",
       "    </tr>\n",
       "    <tr>\n",
       "      <th>17303</th>\n",
       "      <td>technology changed lot ways live today nowaday...</td>\n",
       "    </tr>\n",
       "    <tr>\n",
       "      <th>17304</th>\n",
       "      <td>like sitting around day great opportunity part...</td>\n",
       "    </tr>\n",
       "    <tr>\n",
       "      <th>17305</th>\n",
       "      <td>challenge exporing venus author suggests study...</td>\n",
       "    </tr>\n",
       "    <tr>\n",
       "      <th>17306</th>\n",
       "      <td>venus worthy place study dangerous reaosn thei...</td>\n",
       "    </tr>\n",
       "  </tbody>\n",
       "</table>\n",
       "<p>17307 rows × 1 columns</p>\n",
       "</div>\n",
       "    <div class=\"colab-df-buttons\">\n",
       "\n",
       "  <div class=\"colab-df-container\">\n",
       "    <button class=\"colab-df-convert\" onclick=\"convertToInteractive('df-625571cd-61b1-4a5a-9382-cdc1c2dc7db5')\"\n",
       "            title=\"Convert this dataframe to an interactive table.\"\n",
       "            style=\"display:none;\">\n",
       "\n",
       "  <svg xmlns=\"http://www.w3.org/2000/svg\" height=\"24px\" viewBox=\"0 -960 960 960\">\n",
       "    <path d=\"M120-120v-720h720v720H120Zm60-500h600v-160H180v160Zm220 220h160v-160H400v160Zm0 220h160v-160H400v160ZM180-400h160v-160H180v160Zm440 0h160v-160H620v160ZM180-180h160v-160H180v160Zm440 0h160v-160H620v160Z\"/>\n",
       "  </svg>\n",
       "    </button>\n",
       "\n",
       "  <style>\n",
       "    .colab-df-container {\n",
       "      display:flex;\n",
       "      gap: 12px;\n",
       "    }\n",
       "\n",
       "    .colab-df-convert {\n",
       "      background-color: #E8F0FE;\n",
       "      border: none;\n",
       "      border-radius: 50%;\n",
       "      cursor: pointer;\n",
       "      display: none;\n",
       "      fill: #1967D2;\n",
       "      height: 32px;\n",
       "      padding: 0 0 0 0;\n",
       "      width: 32px;\n",
       "    }\n",
       "\n",
       "    .colab-df-convert:hover {\n",
       "      background-color: #E2EBFA;\n",
       "      box-shadow: 0px 1px 2px rgba(60, 64, 67, 0.3), 0px 1px 3px 1px rgba(60, 64, 67, 0.15);\n",
       "      fill: #174EA6;\n",
       "    }\n",
       "\n",
       "    .colab-df-buttons div {\n",
       "      margin-bottom: 4px;\n",
       "    }\n",
       "\n",
       "    [theme=dark] .colab-df-convert {\n",
       "      background-color: #3B4455;\n",
       "      fill: #D2E3FC;\n",
       "    }\n",
       "\n",
       "    [theme=dark] .colab-df-convert:hover {\n",
       "      background-color: #434B5C;\n",
       "      box-shadow: 0px 1px 3px 1px rgba(0, 0, 0, 0.15);\n",
       "      filter: drop-shadow(0px 1px 2px rgba(0, 0, 0, 0.3));\n",
       "      fill: #FFFFFF;\n",
       "    }\n",
       "  </style>\n",
       "\n",
       "    <script>\n",
       "      const buttonEl =\n",
       "        document.querySelector('#df-625571cd-61b1-4a5a-9382-cdc1c2dc7db5 button.colab-df-convert');\n",
       "      buttonEl.style.display =\n",
       "        google.colab.kernel.accessAllowed ? 'block' : 'none';\n",
       "\n",
       "      async function convertToInteractive(key) {\n",
       "        const element = document.querySelector('#df-625571cd-61b1-4a5a-9382-cdc1c2dc7db5');\n",
       "        const dataTable =\n",
       "          await google.colab.kernel.invokeFunction('convertToInteractive',\n",
       "                                                    [key], {});\n",
       "        if (!dataTable) return;\n",
       "\n",
       "        const docLinkHtml = 'Like what you see? Visit the ' +\n",
       "          '<a target=\"_blank\" href=https://colab.research.google.com/notebooks/data_table.ipynb>data table notebook</a>'\n",
       "          + ' to learn more about interactive tables.';\n",
       "        element.innerHTML = '';\n",
       "        dataTable['output_type'] = 'display_data';\n",
       "        await google.colab.output.renderOutput(dataTable, element);\n",
       "        const docLink = document.createElement('div');\n",
       "        docLink.innerHTML = docLinkHtml;\n",
       "        element.appendChild(docLink);\n",
       "      }\n",
       "    </script>\n",
       "  </div>\n",
       "\n",
       "\n",
       "<div id=\"df-99b724cd-c040-4556-af8f-a48acdcfa229\">\n",
       "  <button class=\"colab-df-quickchart\" onclick=\"quickchart('df-99b724cd-c040-4556-af8f-a48acdcfa229')\"\n",
       "            title=\"Suggest charts\"\n",
       "            style=\"display:none;\">\n",
       "\n",
       "<svg xmlns=\"http://www.w3.org/2000/svg\" height=\"24px\"viewBox=\"0 0 24 24\"\n",
       "     width=\"24px\">\n",
       "    <g>\n",
       "        <path d=\"M19 3H5c-1.1 0-2 .9-2 2v14c0 1.1.9 2 2 2h14c1.1 0 2-.9 2-2V5c0-1.1-.9-2-2-2zM9 17H7v-7h2v7zm4 0h-2V7h2v10zm4 0h-2v-4h2v4z\"/>\n",
       "    </g>\n",
       "</svg>\n",
       "  </button>\n",
       "\n",
       "<style>\n",
       "  .colab-df-quickchart {\n",
       "      --bg-color: #E8F0FE;\n",
       "      --fill-color: #1967D2;\n",
       "      --hover-bg-color: #E2EBFA;\n",
       "      --hover-fill-color: #174EA6;\n",
       "      --disabled-fill-color: #AAA;\n",
       "      --disabled-bg-color: #DDD;\n",
       "  }\n",
       "\n",
       "  [theme=dark] .colab-df-quickchart {\n",
       "      --bg-color: #3B4455;\n",
       "      --fill-color: #D2E3FC;\n",
       "      --hover-bg-color: #434B5C;\n",
       "      --hover-fill-color: #FFFFFF;\n",
       "      --disabled-bg-color: #3B4455;\n",
       "      --disabled-fill-color: #666;\n",
       "  }\n",
       "\n",
       "  .colab-df-quickchart {\n",
       "    background-color: var(--bg-color);\n",
       "    border: none;\n",
       "    border-radius: 50%;\n",
       "    cursor: pointer;\n",
       "    display: none;\n",
       "    fill: var(--fill-color);\n",
       "    height: 32px;\n",
       "    padding: 0;\n",
       "    width: 32px;\n",
       "  }\n",
       "\n",
       "  .colab-df-quickchart:hover {\n",
       "    background-color: var(--hover-bg-color);\n",
       "    box-shadow: 0 1px 2px rgba(60, 64, 67, 0.3), 0 1px 3px 1px rgba(60, 64, 67, 0.15);\n",
       "    fill: var(--button-hover-fill-color);\n",
       "  }\n",
       "\n",
       "  .colab-df-quickchart-complete:disabled,\n",
       "  .colab-df-quickchart-complete:disabled:hover {\n",
       "    background-color: var(--disabled-bg-color);\n",
       "    fill: var(--disabled-fill-color);\n",
       "    box-shadow: none;\n",
       "  }\n",
       "\n",
       "  .colab-df-spinner {\n",
       "    border: 2px solid var(--fill-color);\n",
       "    border-color: transparent;\n",
       "    border-bottom-color: var(--fill-color);\n",
       "    animation:\n",
       "      spin 1s steps(1) infinite;\n",
       "  }\n",
       "\n",
       "  @keyframes spin {\n",
       "    0% {\n",
       "      border-color: transparent;\n",
       "      border-bottom-color: var(--fill-color);\n",
       "      border-left-color: var(--fill-color);\n",
       "    }\n",
       "    20% {\n",
       "      border-color: transparent;\n",
       "      border-left-color: var(--fill-color);\n",
       "      border-top-color: var(--fill-color);\n",
       "    }\n",
       "    30% {\n",
       "      border-color: transparent;\n",
       "      border-left-color: var(--fill-color);\n",
       "      border-top-color: var(--fill-color);\n",
       "      border-right-color: var(--fill-color);\n",
       "    }\n",
       "    40% {\n",
       "      border-color: transparent;\n",
       "      border-right-color: var(--fill-color);\n",
       "      border-top-color: var(--fill-color);\n",
       "    }\n",
       "    60% {\n",
       "      border-color: transparent;\n",
       "      border-right-color: var(--fill-color);\n",
       "    }\n",
       "    80% {\n",
       "      border-color: transparent;\n",
       "      border-right-color: var(--fill-color);\n",
       "      border-bottom-color: var(--fill-color);\n",
       "    }\n",
       "    90% {\n",
       "      border-color: transparent;\n",
       "      border-bottom-color: var(--fill-color);\n",
       "    }\n",
       "  }\n",
       "</style>\n",
       "\n",
       "  <script>\n",
       "    async function quickchart(key) {\n",
       "      const quickchartButtonEl =\n",
       "        document.querySelector('#' + key + ' button');\n",
       "      quickchartButtonEl.disabled = true;  // To prevent multiple clicks.\n",
       "      quickchartButtonEl.classList.add('colab-df-spinner');\n",
       "      try {\n",
       "        const charts = await google.colab.kernel.invokeFunction(\n",
       "            'suggestCharts', [key], {});\n",
       "      } catch (error) {\n",
       "        console.error('Error during call to suggestCharts:', error);\n",
       "      }\n",
       "      quickchartButtonEl.classList.remove('colab-df-spinner');\n",
       "      quickchartButtonEl.classList.add('colab-df-quickchart-complete');\n",
       "    }\n",
       "    (() => {\n",
       "      let quickchartButtonEl =\n",
       "        document.querySelector('#df-99b724cd-c040-4556-af8f-a48acdcfa229 button');\n",
       "      quickchartButtonEl.style.display =\n",
       "        google.colab.kernel.accessAllowed ? 'block' : 'none';\n",
       "    })();\n",
       "  </script>\n",
       "</div>\n",
       "    </div>\n",
       "  </div>\n"
      ],
      "text/plain": [
       "                                               full_text\n",
       "0      many people car live thing know use car alot t...\n",
       "1      scientist nasa discussing face mars explaining...\n",
       "2      people always wish technology seen movies best...\n",
       "3      heard venus planet without almost oxygen earth...\n",
       "4      dear state senator letter argue favor keeping ...\n",
       "...                                                  ...\n",
       "17302  story challenge exploing venus informative pie...\n",
       "17303  technology changed lot ways live today nowaday...\n",
       "17304  like sitting around day great opportunity part...\n",
       "17305  challenge exporing venus author suggests study...\n",
       "17306  venus worthy place study dangerous reaosn thei...\n",
       "\n",
       "[17307 rows x 1 columns]"
      ]
     },
     "execution_count": 115,
     "metadata": {},
     "output_type": "execute_result"
    }
   ],
   "source": [
    "X\n"
   ]
  },
  {
   "cell_type": "code",
   "execution_count": 116,
   "metadata": {
    "colab": {
     "base_uri": "https://localhost:8080/"
    },
    "id": "S_53sWdMQuwF",
    "outputId": "635afd7b-5578-413f-f43b-8ba0fa1ee008"
   },
   "outputs": [
    {
     "data": {
      "text/plain": [
       "0        3\n",
       "1        3\n",
       "2        4\n",
       "3        4\n",
       "4        3\n",
       "        ..\n",
       "17302    2\n",
       "17303    4\n",
       "17304    2\n",
       "17305    1\n",
       "17306    2\n",
       "Name: score, Length: 17307, dtype: int64"
      ]
     },
     "execution_count": 116,
     "metadata": {},
     "output_type": "execute_result"
    }
   ],
   "source": [
    "y"
   ]
  },
  {
   "cell_type": "markdown",
   "metadata": {
    "id": "ioaipcRlJI7h"
   },
   "source": [
    "    **Nettoyage du texte : **\n",
    "    re.sub(r'[^a-zA-Z\\s.,\\']', '', text) supprime tous les caractères qui ne sont pas des lettres, des espaces, des points, des virgules, ou des apostrophes.\n",
    "\n",
    "    **Tokenisation** : word_tokenize(text) divise le texte nettoyé en mots ou \"tokens\".\n",
    "\n",
    "    **Filtrage des stop words et racinisation :** Les mots sont ensuite filtrés pour éliminer les stop words (mots très courants en anglais qui sont souvent retirés avant l'analyse du texte). Les mots restants sont racinisés (réduits à leur racine) à l'aide d’un stemmer, simplifiant les mots à leur forme de base ou racine."
   ]
  },
  {
   "cell_type": "code",
   "execution_count": 117,
   "metadata": {
    "colab": {
     "base_uri": "https://localhost:8080/"
    },
    "id": "T0F09GFVRQEA",
    "outputId": "1b6cd80c-e00f-43c1-f7f6-8d1afd76a028"
   },
   "outputs": [
    {
     "name": "stderr",
     "output_type": "stream",
     "text": [
      "[nltk_data] Downloading package stopwords to /root/nltk_data...\n",
      "[nltk_data]   Package stopwords is already up-to-date!\n",
      "[nltk_data] Downloading package punkt to /root/nltk_data...\n",
      "[nltk_data]   Package punkt is already up-to-date!\n"
     ]
    }
   ],
   "source": [
    "import nltk\n",
    "from nltk.corpus import stopwords\n",
    "from nltk.tokenize import word_tokenize\n",
    "from nltk.stem import PorterStemmer\n",
    "nltk.download('stopwords')\n",
    "nltk.download('punkt')\n",
    "stemmer = PorterStemmer()\n",
    "\n",
    "def preprocess_text2(text):\n",
    "    text = re.sub(r'[^a-zA-Z\\s.,\\']', '', text)\n",
    "    tokens = word_tokenize(text)\n",
    "    stopwords_set = set(stopwords.words('english'))\n",
    "    tokens = [stemmer.stem(word) for word in tokens if word not in stopwords_set]\n",
    "    return tokens"
   ]
  },
  {
   "cell_type": "code",
   "execution_count": 118,
   "metadata": {
    "id": "1W0jles3RnEW"
   },
   "outputs": [],
   "source": [
    "\n",
    "tokenized_documents=[preprocess_text2(doc) for doc in X[\"full_text\"]]"
   ]
  },
  {
   "cell_type": "code",
   "execution_count": 36,
   "metadata": {
    "colab": {
     "base_uri": "https://localhost:8080/"
    },
    "id": "ZlH85HbWTdJ_",
    "outputId": "34717e52-311c-4dfb-c8af-2562b212104d"
   },
   "outputs": [
    {
     "data": {
      "text/plain": [
       "17307"
      ]
     },
     "execution_count": 36,
     "metadata": {},
     "output_type": "execute_result"
    }
   ],
   "source": [
    "len(tokenized_documents)"
   ]
  },
  {
   "cell_type": "code",
   "execution_count": 37,
   "metadata": {
    "colab": {
     "base_uri": "https://localhost:8080/"
    },
    "id": "ibNh8anyTkF7",
    "outputId": "963cf175-03d3-4586-fb95-5ae8c910ee10"
   },
   "outputs": [
    {
     "data": {
      "text/plain": [
       "['mani',\n",
       " 'peopl',\n",
       " 'car',\n",
       " 'live',\n",
       " 'thing',\n",
       " 'know',\n",
       " 'use',\n",
       " 'car',\n",
       " 'alot',\n",
       " 'thing',\n",
       " 'happen',\n",
       " 'like',\n",
       " 'get',\n",
       " 'accidet',\n",
       " 'smoke',\n",
       " 'car',\n",
       " 'bad',\n",
       " 'breath',\n",
       " 'someon',\n",
       " 'walk',\n",
       " 'vauban',\n",
       " 'germani',\n",
       " 'dont',\n",
       " 'probl',\n",
       " 'percent',\n",
       " 'vauban',\n",
       " 'famili',\n",
       " 'car',\n",
       " 'percent',\n",
       " 'sold',\n",
       " 'car',\n",
       " 'move',\n",
       " 'street',\n",
       " 'parkig',\n",
       " 'driveway',\n",
       " 'home',\n",
       " 'garag',\n",
       " 'forbidden',\n",
       " 'outskirt',\n",
       " 'freiburd',\n",
       " 'near',\n",
       " 'french',\n",
       " 'swiss',\n",
       " 'border',\n",
       " 'probali',\n",
       " 'see',\n",
       " 'car',\n",
       " 'vauban',\n",
       " 'street',\n",
       " 'complet',\n",
       " 'car',\n",
       " 'free',\n",
       " 'live',\n",
       " 'vauban',\n",
       " 'own',\n",
       " 'car',\n",
       " 'ownership',\n",
       " 'allow',\n",
       " 'two',\n",
       " 'place',\n",
       " 'park',\n",
       " 'larg',\n",
       " 'garag',\n",
       " 'edg',\n",
       " 'develop',\n",
       " 'car',\n",
       " 'owner',\n",
       " 'buy',\n",
       " 'space',\n",
       " 'cheap',\n",
       " 'buy',\n",
       " 'one',\n",
       " 'sell',\n",
       " 'space',\n",
       " 'car',\n",
       " 'along',\n",
       " 'home',\n",
       " 'vauban',\n",
       " 'peopl',\n",
       " 'complet',\n",
       " 'said',\n",
       " 'exampl',\n",
       " 'grow',\n",
       " 'trend',\n",
       " 'europ',\n",
       " 'until',\n",
       " 'state',\n",
       " 'els',\n",
       " 'suburban',\n",
       " 'life',\n",
       " 'auto',\n",
       " 'use',\n",
       " 'call',\n",
       " 'smart',\n",
       " 'plan',\n",
       " 'current',\n",
       " 'effort',\n",
       " 'drastic',\n",
       " 'reduc',\n",
       " 'greenhous',\n",
       " 'ga',\n",
       " 'emiss',\n",
       " 'tail',\n",
       " 'passenge',\n",
       " 'car',\n",
       " 'respons',\n",
       " 'percent',\n",
       " 'greenhous',\n",
       " 'ga',\n",
       " 'emiss',\n",
       " 'europ',\n",
       " 'percent',\n",
       " 'car',\n",
       " 'intens',\n",
       " 'unit',\n",
       " 'state',\n",
       " 'honeslti',\n",
       " 'think',\n",
       " 'good',\n",
       " 'idea',\n",
       " 'vaudan',\n",
       " 'make',\n",
       " 'citi',\n",
       " 'denser',\n",
       " 'better',\n",
       " 'walk',\n",
       " 'vauban',\n",
       " 'resid',\n",
       " 'within',\n",
       " 'rectangular',\n",
       " 'squar',\n",
       " 'mile',\n",
       " 'artic',\n",
       " 'david',\n",
       " 'gold',\n",
       " 'berg',\n",
       " 'said',\n",
       " 'develop',\n",
       " 'sinc',\n",
       " 'world',\n",
       " 'war',\n",
       " 'center',\n",
       " 'car',\n",
       " 'chang',\n",
       " 'think',\n",
       " 'true',\n",
       " 'david',\n",
       " 'gold',\n",
       " 'said',\n",
       " 'alot',\n",
       " 'thing',\n",
       " 'need',\n",
       " 'car',\n",
       " 'go',\n",
       " 'anyway',\n",
       " 'car',\n",
       " 'beacus',\n",
       " 'peopl',\n",
       " 'lazi',\n",
       " 'walk',\n",
       " 'place',\n",
       " 'that',\n",
       " 'alot',\n",
       " 'peopl',\n",
       " 'use',\n",
       " 'car',\n",
       " 'think',\n",
       " 'good',\n",
       " 'idea',\n",
       " 'vauban',\n",
       " 'peopl',\n",
       " 'see',\n",
       " 'realli',\n",
       " 'need',\n",
       " 'car',\n",
       " 'go',\n",
       " 'place',\n",
       " 'place',\n",
       " 'walk',\n",
       " 'need',\n",
       " 'go',\n",
       " 'ride',\n",
       " 'bycl',\n",
       " 'use',\n",
       " 'car',\n",
       " 'good',\n",
       " 'thik',\n",
       " 'help',\n",
       " 'earth',\n",
       " 'way',\n",
       " 'that',\n",
       " 'good',\n",
       " 'thing',\n",
       " 'unit',\n",
       " 'state',\n",
       " 'environment',\n",
       " 'protect',\n",
       " 'agenc',\n",
       " 'promot',\n",
       " 'call',\n",
       " 'car',\n",
       " 'reduc',\n",
       " 'communtunti',\n",
       " 'legisl',\n",
       " 'start',\n",
       " 'act',\n",
       " 'cautious',\n",
       " 'maani',\n",
       " 'expert',\n",
       " 'expect',\n",
       " 'pubic',\n",
       " 'transport',\n",
       " 'serv',\n",
       " 'suburb',\n",
       " 'play',\n",
       " 'much',\n",
       " 'larger',\n",
       " 'role',\n",
       " 'new',\n",
       " 'six',\n",
       " 'year',\n",
       " 'feder',\n",
       " 'transport',\n",
       " 'bill',\n",
       " 'approv',\n",
       " 'year',\n",
       " 'previou',\n",
       " 'bill',\n",
       " 'percent',\n",
       " 'appropri',\n",
       " 'law',\n",
       " 'gone',\n",
       " 'highway',\n",
       " 'percent',\n",
       " 'transport',\n",
       " 'mani',\n",
       " 'good',\n",
       " 'reason']"
      ]
     },
     "execution_count": 37,
     "metadata": {},
     "output_type": "execute_result"
    }
   ],
   "source": [
    "tokenized_documents[0]"
   ]
  },
  {
   "cell_type": "code",
   "execution_count": 38,
   "metadata": {
    "id": "mQwy3qrUUeQh"
   },
   "outputs": [],
   "source": [
    "from gensim.models import Word2Vec\n",
    "ukuran_vektor=100\n",
    "word2vec_model = Word2Vec(sentences=tokenized_documents,\n",
    "                          min_count=1, vector_size=ukuran_vektor,sg=1)"
   ]
  },
  {
   "cell_type": "code",
   "execution_count": 39,
   "metadata": {
    "colab": {
     "base_uri": "https://localhost:8080/"
    },
    "id": "zFsHj7nXVKvf",
    "outputId": "2d211e79-be6e-4374-92a9-4843f721389a"
   },
   "outputs": [
    {
     "name": "stdout",
     "output_type": "stream",
     "text": [
      "Word2Vec<vocab=45381, vector_size=100, alpha=0.025>\n"
     ]
    }
   ],
   "source": [
    "print(word2vec_model)"
   ]
  },
  {
   "cell_type": "code",
   "execution_count": 40,
   "metadata": {
    "colab": {
     "base_uri": "https://localhost:8080/"
    },
    "id": "KjTIEMw_VXnN",
    "outputId": "fd843ebf-875d-4702-9a97-b417b4420f30"
   },
   "outputs": [
    {
     "name": "stdout",
     "output_type": "stream",
     "text": [
      "50 kata pertama dalam model Word2Vec:\n",
      "car : 0\n",
      "would : 1\n",
      "peopl : 2\n",
      "venu : 3\n",
      "could : 4\n",
      "like : 5\n",
      "vote : 6\n",
      "elector : 7\n",
      "state : 8\n",
      "get : 9\n",
      "use : 10\n",
      "also : 11\n",
      "help : 12\n",
      "face : 13\n",
      "driverless : 14\n",
      "make : 15\n",
      "drive : 16\n",
      "go : 17\n",
      "one : 18\n",
      "mani : 19\n",
      "think : 20\n",
      "human : 21\n",
      "even : 22\n",
      "student : 23\n",
      "time : 24\n",
      "technolog : 25\n",
      "planet : 26\n",
      "way : 27\n",
      "thing : 28\n",
      "say : 29\n",
      "know : 30\n",
      "need : 31\n",
      "colleg : 32\n",
      "take : 33\n",
      "earth : 34\n",
      "emot : 35\n",
      "system : 36\n",
      "driver : 37\n",
      "see : 38\n",
      "comput : 39\n",
      "author : 40\n",
      "want : 41\n",
      "mar : 42\n",
      "reason : 43\n",
      "presid : 44\n",
      "new : 45\n",
      "work : 46\n",
      "us : 47\n",
      "good : 48\n",
      "feel : 49\n"
     ]
    }
   ],
   "source": [
    "all_words =word2vec_model.wv.index_to_key\n",
    "print(\"50 kata pertama dalam model Word2Vec:\")\n",
    "for index, word in enumerate(all_words):\n",
    "    if index < 50:\n",
    "        print(f\"{word} : {index}\")\n",
    "    else:\n",
    "        break"
   ]
  },
  {
   "cell_type": "code",
   "execution_count": 41,
   "metadata": {
    "id": "IhnXZWDVVXp9"
   },
   "outputs": [],
   "source": [
    "y=np.asarray(y)"
   ]
  },
  {
   "cell_type": "code",
   "execution_count": 42,
   "metadata": {
    "id": "Co0cpN8XVcj_"
   },
   "outputs": [],
   "source": [
    "from sklearn.model_selection import train_test_split\n",
    "X_train,X_test,y_train,y_test=train_test_split(X,y,\n",
    "                    test_size=0.2,random_state=42)"
   ]
  },
  {
   "cell_type": "code",
   "execution_count": 43,
   "metadata": {
    "id": "CSlgf3dzVvmR"
   },
   "outputs": [],
   "source": [
    "def document_vector(word2vec_model, doc_tokens):\n",
    "    doc_vector = np.zeros(word2vec_model.vector_size)\n",
    "    num_words = 0\n",
    "    for word in doc_tokens:\n",
    "        try:\n",
    "            doc_vector += word2vec_model.wv[word]\n",
    "            num_words += 1\n",
    "        except KeyError:\n",
    "            continue\n",
    "    if num_words != 0:\n",
    "        doc_vector /= num_words\n",
    "    return doc_vector"
   ]
  },
  {
   "cell_type": "code",
   "execution_count": 44,
   "metadata": {
    "id": "lTN-NHhfWCMS"
   },
   "outputs": [],
   "source": [
    "X_train_vec = np.array([document_vector(word2vec_model, doc.split())\n",
    "                        for doc in X_train[\"full_text\"]])\n",
    "X_test_vec = np.array([document_vector(word2vec_model, doc.split())\n",
    "                      for doc in X_test[\"full_text\"]])"
   ]
  },
  {
   "cell_type": "code",
   "execution_count": 45,
   "metadata": {
    "colab": {
     "base_uri": "https://localhost:8080/"
    },
    "id": "CshXNXNdWNiB",
    "outputId": "19595977-f631-4b9c-facf-0f49093edc6f"
   },
   "outputs": [
    {
     "data": {
      "text/plain": [
       "(13845, 100)"
      ]
     },
     "execution_count": 45,
     "metadata": {},
     "output_type": "execute_result"
    }
   ],
   "source": [
    "X_train_vec.shape"
   ]
  },
  {
   "cell_type": "code",
   "execution_count": 46,
   "metadata": {
    "colab": {
     "base_uri": "https://localhost:8080/"
    },
    "id": "os2NoSTzWdp7",
    "outputId": "ce5c31fd-9ad1-4c9c-aa79-7328e21045ba"
   },
   "outputs": [
    {
     "data": {
      "text/plain": [
       "array([[-0.05767971,  0.18300416,  0.03327988, ..., -0.05000983,\n",
       "        -0.03899862, -0.1526518 ],\n",
       "       [-0.27225469,  0.12071559,  0.00846543, ...,  0.03253126,\n",
       "         0.22888666, -0.1700439 ],\n",
       "       [-0.06490024,  0.17741784,  0.13562146, ..., -0.02523145,\n",
       "        -0.01000685, -0.10162776],\n",
       "       ...,\n",
       "       [-0.09654174,  0.21305336,  0.19051592, ..., -0.03165961,\n",
       "        -0.00781286, -0.07173574],\n",
       "       [-0.29049223, -0.09868772, -0.02009412, ..., -0.00732313,\n",
       "        -0.18421278, -0.33887634],\n",
       "       [-0.09614316,  0.17072888,  0.1097183 , ...,  0.00832503,\n",
       "         0.087701  , -0.18674447]])"
      ]
     },
     "execution_count": 46,
     "metadata": {},
     "output_type": "execute_result"
    }
   ],
   "source": [
    "X_train_vec"
   ]
  },
  {
   "cell_type": "markdown",
   "metadata": {
    "id": "qQ4EZeAQJXFQ"
   },
   "source": [
    "Encodage de la colonne theme"
   ]
  },
  {
   "cell_type": "code",
   "execution_count": 47,
   "metadata": {
    "id": "ZLUOFcBBWmi8"
   },
   "outputs": [],
   "source": [
    "from sklearn.preprocessing import OneHotEncoder\n",
    "encoder = OneHotEncoder()\n",
    "essay_set_train_encoded = encoder.fit_transform(df1.loc[X_train.index, 'theme'].values.reshape(-1, 1)).toarray()\n",
    "essay_set_test_encoded = encoder.transform(df1.loc[X_test.index, 'theme'].values.reshape(-1, 1)).toarray()"
   ]
  },
  {
   "cell_type": "code",
   "execution_count": 48,
   "metadata": {
    "colab": {
     "base_uri": "https://localhost:8080/"
    },
    "id": "LnZonhpDWxC5",
    "outputId": "79cd084e-d870-438d-fdd7-54668716686a"
   },
   "outputs": [
    {
     "data": {
      "text/plain": [
       "(13845, 4)"
      ]
     },
     "execution_count": 48,
     "metadata": {},
     "output_type": "execute_result"
    }
   ],
   "source": [
    "essay_set_train_encoded.shape"
   ]
  },
  {
   "cell_type": "code",
   "execution_count": 49,
   "metadata": {
    "id": "nKEkZj17W5ys"
   },
   "outputs": [],
   "source": [
    "X_train_combined = np.concatenate((X_train_vec, essay_set_train_encoded), axis=1)\n",
    "X_test_combined = np.concatenate((X_test_vec, essay_set_test_encoded), axis=1)"
   ]
  },
  {
   "cell_type": "code",
   "execution_count": 50,
   "metadata": {
    "colab": {
     "base_uri": "https://localhost:8080/"
    },
    "id": "PHHHmrFjXBwN",
    "outputId": "3425032c-3ea9-4f30-ba94-967baccbf128"
   },
   "outputs": [
    {
     "data": {
      "text/plain": [
       "(13845, 104)"
      ]
     },
     "execution_count": 50,
     "metadata": {},
     "output_type": "execute_result"
    }
   ],
   "source": [
    "X_train_combined.shape\n"
   ]
  },
  {
   "cell_type": "code",
   "execution_count": 51,
   "metadata": {
    "id": "J5iCOLf2XFVG"
   },
   "outputs": [],
   "source": [
    "from tensorflow.keras.models import Sequential\n",
    "from tensorflow.keras.layers import Dense,Input,Dropout\n",
    "model = Sequential()\n",
    "model.add(Input(shape=(ukuran_vektor+4,)))\n",
    "model.add(Dense(128, activation='relu'))\n",
    "model.add(Dropout(0.2))\n",
    "model.add(Dense(64, activation='relu'))\n",
    "model.add(Dropout(0.2))\n",
    "model.add(Dense(1))"
   ]
  },
  {
   "cell_type": "code",
   "execution_count": 52,
   "metadata": {
    "id": "oeMRS0yVXKCR"
   },
   "outputs": [],
   "source": [
    "from keras.optimizers import Adam\n",
    "optimizer = Adam(learning_rate=0.001)\n",
    "model.compile(optimizer=optimizer, loss='mean_squared_error', metrics=['mse'])"
   ]
  },
  {
   "cell_type": "code",
   "execution_count": 53,
   "metadata": {
    "id": "V-XosyhtXQsM"
   },
   "outputs": [],
   "source": [
    "from keras.callbacks import EarlyStopping\n",
    "early_stopping = EarlyStopping(monitor='val_loss', patience=15,\n",
    "                                     restore_best_weights=True)"
   ]
  },
  {
   "cell_type": "code",
   "execution_count": null,
   "metadata": {},
   "outputs": [],
   "source": [
    "history = model.fit(X_train_combined, y_train, epochs=500, batch_size=128,\n",
    "                    validation_data=(X_test_combined, y_test), callbacks=[early_stopping])"
   ]
  },
  {
   "cell_type": "code",
   "execution_count": 55,
   "metadata": {
    "colab": {
     "base_uri": "https://localhost:8080/"
    },
    "id": "OWhq6TRqXc0n",
    "outputId": "2bff2cda-f27d-4bab-ae16-3108eeb0e711"
   },
   "outputs": [
    {
     "name": "stdout",
     "output_type": "stream",
     "text": [
      "109/109 [==============================] - 0s 2ms/step\n",
      "Mean Squared Error: 0.6595731313703121\n"
     ]
    }
   ],
   "source": [
    "from sklearn.metrics import mean_squared_error\n",
    "y_pred = model.predict(X_test_combined)\n",
    "mse = mean_squared_error(y_test, y_pred)\n",
    "print(\"Mean Squared Error:\", mse)"
   ]
  },
  {
   "cell_type": "code",
   "execution_count": 56,
   "metadata": {
    "colab": {
     "base_uri": "https://localhost:8080/",
     "height": 472
    },
    "id": "kZIlaj_ZY-qm",
    "outputId": "25a071bc-8654-4ee1-a718-bd8435d8af79"
   },
   "outputs": [
    {
     "data": {
      "image/png": "[encoded data removed]",
      "text/plain": [
       "<Figure size 640x480 with 1 Axes>"
      ]
     },
     "metadata": {},
     "output_type": "display_data"
    }
   ],
   "source": [
    "import matplotlib.pyplot as plt\n",
    "plt.plot(history.history['loss'], label='train')\n",
    "plt.plot(history.history['val_loss'], label='val')\n",
    "plt.title('Model Loss')\n",
    "plt.xlabel('Epoch')\n",
    "plt.ylabel('Loss')\n",
    "plt.legend()\n",
    "plt.show()"
   ]
  },
  {
   "cell_type": "code",
   "execution_count": 57,
   "metadata": {
    "colab": {
     "base_uri": "https://localhost:8080/",
     "height": 472
    },
    "id": "5mOk4OI8ZKHi",
    "outputId": "b879a66d-2ea2-4130-df14-7c883e540aeb"
   },
   "outputs": [
    {
     "data": {
      "image/png": "[encoded data removed]",
      "text/plain": [
       "<Figure size 640x480 with 1 Axes>"
      ]
     },
     "metadata": {},
     "output_type": "display_data"
    }
   ],
   "source": [
    "mse = history.history['mse']\n",
    "val_mse = history.history['val_mse']\n",
    "plt.plot(mse, label='Training MSE')\n",
    "plt.plot(val_mse, label='Validation MSE')\n",
    "plt.xlabel('Epoch')\n",
    "plt.ylabel('MSE')\n",
    "plt.title('Training and Validation MSE')\n",
    "plt.legend()\n",
    "plt.show()"
   ]
  },
  {
   "cell_type": "code",
   "execution_count": 63,
   "metadata": {
    "id": "RwDgYW5zlZt-"
   },
   "outputs": [],
   "source": [
    "y_pred_rounded = np.round(y_pred)\n",
    "y_test_rounded = np.round(y_test)"
   ]
  },
  {
   "cell_type": "code",
   "execution_count": 64,
   "metadata": {
    "colab": {
     "base_uri": "https://localhost:8080/"
    },
    "id": "PBL8_r7yZsX5",
    "outputId": "2ea2c20a-092b-4d02-aa79-729352fbd1e8"
   },
   "outputs": [
    {
     "name": "stdout",
     "output_type": "stream",
     "text": [
      "Precision: 0.3927245871257514\n",
      "Recall: 0.26667782354145037\n",
      "F1 Score: 0.271901199794404\n",
      "              precision    recall  f1-score   support\n",
      "\n",
      "           1       0.79      0.12      0.20       260\n",
      "           2       0.48      0.42      0.45       965\n",
      "           3       0.45      0.66      0.53      1265\n",
      "           4       0.39      0.37      0.38       750\n",
      "           5       0.24      0.04      0.07       183\n",
      "           6       0.00      0.00      0.00        39\n",
      "\n",
      "    accuracy                           0.45      3462\n",
      "   macro avg       0.39      0.27      0.27      3462\n",
      "weighted avg       0.46      0.45      0.42      3462\n",
      "\n"
     ]
    },
    {
     "name": "stderr",
     "output_type": "stream",
     "text": [
      "/usr/local/lib/python3.10/dist-packages/sklearn/metrics/_classification.py:1344: UndefinedMetricWarning: Precision is ill-defined and being set to 0.0 in labels with no predicted samples. Use `zero_division` parameter to control this behavior.\n",
      "  _warn_prf(average, modifier, msg_start, len(result))\n",
      "/usr/local/lib/python3.10/dist-packages/sklearn/metrics/_classification.py:1344: UndefinedMetricWarning: Precision and F-score are ill-defined and being set to 0.0 in labels with no predicted samples. Use `zero_division` parameter to control this behavior.\n",
      "  _warn_prf(average, modifier, msg_start, len(result))\n",
      "/usr/local/lib/python3.10/dist-packages/sklearn/metrics/_classification.py:1344: UndefinedMetricWarning: Precision and F-score are ill-defined and being set to 0.0 in labels with no predicted samples. Use `zero_division` parameter to control this behavior.\n",
      "  _warn_prf(average, modifier, msg_start, len(result))\n",
      "/usr/local/lib/python3.10/dist-packages/sklearn/metrics/_classification.py:1344: UndefinedMetricWarning: Precision and F-score are ill-defined and being set to 0.0 in labels with no predicted samples. Use `zero_division` parameter to control this behavior.\n",
      "  _warn_prf(average, modifier, msg_start, len(result))\n"
     ]
    }
   ],
   "source": [
    "from sklearn.metrics import confusion_matrix\n",
    "from sklearn.metrics import precision_score, recall_score, f1_score, classification_report\n",
    "\n",
    "import numpy as np\n",
    "\n",
    "\n",
    "y_predict = np.round(y_pred).astype(int)\n",
    "y_tests = np.round(y_test).astype(int)\n",
    "\n",
    "precision = precision_score(y_tests, y_predict, average='macro')\n",
    "recall = recall_score(y_tests, y_predict, average='macro')\n",
    "f1 = f1_score(y_tests, y_predict, average='macro')\n",
    "\n",
    "print(f'Precision: {precision}')\n",
    "print(f'Recall: {recall}')\n",
    "print(f'F1 Score: {f1}')\n",
    "\n",
    "\n",
    "print(classification_report(y_tests, y_predict))\n",
    "\n",
    "cm = confusion_matrix(y_tests, y_predict)"
   ]
  },
  {
   "cell_type": "code",
   "execution_count": 65,
   "metadata": {
    "colab": {
     "base_uri": "https://localhost:8080/",
     "height": 564
    },
    "id": "DGWUHJwCaAkB",
    "outputId": "f18e2899-409c-4507-c7e3-e762312e583d"
   },
   "outputs": [
    {
     "data": {
      "image/png": "[encoded data removed]",
      "text/plain": [
       "<Figure size 800x600 with 2 Axes>"
      ]
     },
     "metadata": {},
     "output_type": "display_data"
    }
   ],
   "source": [
    "\n",
    "num_classes = len(np.unique(y_test))\n",
    "\n",
    "\n",
    "class_labels = list(range(num_classes))\n",
    "\n",
    "\n",
    "plt.figure(figsize=(8, 6))\n",
    "sns.heatmap(cm, annot=True, fmt='g', cmap='Blues', xticklabels=class_labels, yticklabels=class_labels)\n",
    "plt.xlabel('Predicted Labels')\n",
    "plt.ylabel('True Labels')\n",
    "plt.title('Confusion Matrix')\n",
    "plt.show()"
   ]
  },
  {
   "cell_type": "markdown",
   "metadata": {
    "id": "kQBCG9x3KUt-"
   },
   "source": [
    "En analysant la matrice de confusion , on voit que il y a beacuoup de scores qui ont été mal prédis mais il restent très proche du vrai score"
   ]
  },
  {
   "cell_type": "code",
   "execution_count": null,
   "metadata": {
    "id": "CmG2HP9PKix5"
   },
   "outputs": [],
   "source": [
    "from sklearn.metrics import cohen_kappa_score\n",
    "kappa = cohen_kappa_score(y_test_rounded, y_pred_rounded, weights='quadratic')"
   ]
  },
  {
   "cell_type": "code",
   "execution_count": 38,
   "metadata": {
    "colab": {
     "base_uri": "https://localhost:8080/"
    },
    "id": "BqMDQzZzJukH",
    "outputId": "a3cca6d7-8782-4ab0-8fde-1a2da9b5bbc6"
   },
   "outputs": [
    {
     "name": "stdout",
     "output_type": "stream",
     "text": [
      "Quadratic Weighted Kappa: 0.733569880678268\n"
     ]
    }
   ],
   "source": [
    "print('Quadratic Weighted Kappa:', kappa)"
   ]
  },
  {
   "cell_type": "markdown",
   "metadata": {
    "id": "H85uZ549J0ML"
   },
   "source": [
    "Le kappa score s'est nettement amélioré"
   ]
  },
  {
   "cell_type": "markdown",
   "metadata": {
    "id": "KuvFaYUxs-l5"
   },
   "source": [
    "SVR avec nouvelle feature"
   ]
  },
  {
   "cell_type": "code",
   "execution_count": 47,
   "metadata": {
    "colab": {
     "base_uri": "https://localhost:8080/",
     "height": 424
    },
    "id": "icdNwD8OlxVq",
    "outputId": "6ac68135-97c9-406a-d554-c719511552c6"
   },
   "outputs": [
    {
     "data": {
      "application/vnd.google.colaboratory.intrinsic+json": {
       "summary": "{\n  \"name\": \"df1\",\n  \"rows\": 17307,\n  \"fields\": [\n    {\n      \"column\": \"essay_id\",\n      \"properties\": {\n        \"dtype\": \"string\",\n        \"num_unique_values\": 17307,\n        \"samples\": [\n          \"bb4c434\",\n          \"44e88b0\",\n          \"0ba78ec\"\n        ],\n        \"semantic_type\": \"\",\n        \"description\": \"\"\n      }\n    },\n    {\n      \"column\": \"full_text\",\n      \"properties\": {\n        \"dtype\": \"string\",\n        \"num_unique_values\": 17307,\n        \"samples\": [\n          \"people tend use cars much basically live get day car use car go every rather grocery store work go hang friends family traveling general well imagine limited usage cars community strongly believe would many advantages community many reasons like make people less stressful time would less accidents would definitly better environment omg ran gas oh take car shop get fixed usually two main things hear people stay word car comes car comes alot stress expenses take every need usually someone stressed best person wan na conversation think limit usage cars lot people community alot happier according article car free cities elisabeth rosenthal source lady name heidrun walter says car always tense much happier way think perfect example limited car usauage make person happier addition feel limit car usage community make community much safer environment hear see many car accidents country community cars dangerous people often get injuried die car recks limitting car usage communitry keep people safe importantly alive kids able run aroumd neighborhood play friends also cross street safely without disruption car coming stopping wants get hurt car coming know driving car last least limiting use car usage community would definitly better environment science class often talk cars polute air mess waehter car self also feel car changing see cars cars streets think makes days hotter also think makes winters come around earlier makes alot colder live sunshine florida south year round usually hot extremly hot realize people driving around winers seem alot cold usually cold last longer periods time conclusion belive limit car usuage community make better place many reasons like make people less stressful happier less accidents road also help environment lot\",\n          \"imagine top scientist nasa viking spacecraft spotted shadowy likeness human face lot people thought alien life possibility others thought natural landform would thoughts image face mars natural landform similar landforms earth high pixel photos taken enough reliable information support alien life theory begin similar landforms earth one mars stated text picture actually shows martian equivalent butte mesa landforms common around american west also stated text garvin giving opinion reminds middle butte snake river plain idaho another issue alien life theory fact nasa high quality cameras quoting text pixel image spans meters compared meters per pixel best viking photo result high quality pictures could see small details clearly stated article garvin said objects picture like airplanes ground egyptian style pyramids even small shacks could see concluding statement nothing landform resembled face seen mars finally enough evidence support claim alien life mars first pictures blurry haze cloud coverage theory popular online world science world stated text face mars since become pop icon starred hollywood film appeared books magazines radio talk shows even haunted grocery store checkout lines years proves might publicity attention many conspiracy theorists ultimately face mars natural landform similar landforms earth high pixel photos taken enough reliable information support alien life theory\",\n          \"face mars could created aliens land form created conditions mars looks like face coincidence mesa common area mars many others like one without shadows makes appearance human face many different land forms cydonia different second paragrapgh article stated cydonia region known buttes mesas face mars another mesa different one except unique shadows strange see formation supposedly uninhabited planet depicts human face espescially human ever set foot planet mars time reason believe nothing weird coincidence since person ever conspiracy theorists dismay strange landform nothing martian butte mesa weird coincidence interesting formation stumped puzzled scientests world know formation anything reveal alien lifeforms alien activity\"\n        ],\n        \"semantic_type\": \"\",\n        \"description\": \"\"\n      }\n    },\n    {\n      \"column\": \"score\",\n      \"properties\": {\n        \"dtype\": \"number\",\n        \"std\": 1,\n        \"min\": 1,\n        \"max\": 6,\n        \"num_unique_values\": 6,\n        \"samples\": [\n          3,\n          4,\n          6\n        ],\n        \"semantic_type\": \"\",\n        \"description\": \"\"\n      }\n    },\n    {\n      \"column\": \"theme\",\n      \"properties\": {\n        \"dtype\": \"int32\",\n        \"num_unique_values\": 4,\n        \"samples\": [\n          3,\n          4,\n          2\n        ],\n        \"semantic_type\": \"\",\n        \"description\": \"\"\n      }\n    }\n  ]\n}",
       "type": "dataframe",
       "variable_name": "df1"
      },
      "text/html": [
       "\n",
       "  <div id=\"df-d7fb43fe-622c-4b9c-947f-c4f8016fb688\" class=\"colab-df-container\">\n",
       "    <div>\n",
       "<style scoped>\n",
       "    .dataframe tbody tr th:only-of-type {\n",
       "        vertical-align: middle;\n",
       "    }\n",
       "\n",
       "    .dataframe tbody tr th {\n",
       "        vertical-align: top;\n",
       "    }\n",
       "\n",
       "    .dataframe thead th {\n",
       "        text-align: right;\n",
       "    }\n",
       "</style>\n",
       "<table border=\"1\" class=\"dataframe\">\n",
       "  <thead>\n",
       "    <tr style=\"text-align: right;\">\n",
       "      <th></th>\n",
       "      <th>essay_id</th>\n",
       "      <th>full_text</th>\n",
       "      <th>score</th>\n",
       "      <th>theme</th>\n",
       "    </tr>\n",
       "  </thead>\n",
       "  <tbody>\n",
       "    <tr>\n",
       "      <th>0</th>\n",
       "      <td>000d118</td>\n",
       "      <td>many people car live thing know use car alot t...</td>\n",
       "      <td>3</td>\n",
       "      <td>2</td>\n",
       "    </tr>\n",
       "    <tr>\n",
       "      <th>1</th>\n",
       "      <td>000fe60</td>\n",
       "      <td>scientist nasa discussing face mars explaining...</td>\n",
       "      <td>3</td>\n",
       "      <td>3</td>\n",
       "    </tr>\n",
       "    <tr>\n",
       "      <th>2</th>\n",
       "      <td>001ab80</td>\n",
       "      <td>people always wish technology seen movies best...</td>\n",
       "      <td>4</td>\n",
       "      <td>2</td>\n",
       "    </tr>\n",
       "    <tr>\n",
       "      <th>3</th>\n",
       "      <td>001bdc0</td>\n",
       "      <td>heard venus planet without almost oxygen earth...</td>\n",
       "      <td>4</td>\n",
       "      <td>1</td>\n",
       "    </tr>\n",
       "    <tr>\n",
       "      <th>4</th>\n",
       "      <td>002ba53</td>\n",
       "      <td>dear state senator letter argue favor keeping ...</td>\n",
       "      <td>3</td>\n",
       "      <td>4</td>\n",
       "    </tr>\n",
       "    <tr>\n",
       "      <th>...</th>\n",
       "      <td>...</td>\n",
       "      <td>...</td>\n",
       "      <td>...</td>\n",
       "      <td>...</td>\n",
       "    </tr>\n",
       "    <tr>\n",
       "      <th>17302</th>\n",
       "      <td>ffd378d</td>\n",
       "      <td>story challenge exploing venus informative pie...</td>\n",
       "      <td>2</td>\n",
       "      <td>1</td>\n",
       "    </tr>\n",
       "    <tr>\n",
       "      <th>17303</th>\n",
       "      <td>ffddf1f</td>\n",
       "      <td>technology changed lot ways live today nowaday...</td>\n",
       "      <td>4</td>\n",
       "      <td>3</td>\n",
       "    </tr>\n",
       "    <tr>\n",
       "      <th>17304</th>\n",
       "      <td>fff016d</td>\n",
       "      <td>like sitting around day great opportunity part...</td>\n",
       "      <td>2</td>\n",
       "      <td>3</td>\n",
       "    </tr>\n",
       "    <tr>\n",
       "      <th>17305</th>\n",
       "      <td>fffb49b</td>\n",
       "      <td>challenge exporing venus author suggests study...</td>\n",
       "      <td>1</td>\n",
       "      <td>1</td>\n",
       "    </tr>\n",
       "    <tr>\n",
       "      <th>17306</th>\n",
       "      <td>fffed3e</td>\n",
       "      <td>venus worthy place study dangerous reaosn thei...</td>\n",
       "      <td>2</td>\n",
       "      <td>3</td>\n",
       "    </tr>\n",
       "  </tbody>\n",
       "</table>\n",
       "<p>17307 rows × 4 columns</p>\n",
       "</div>\n",
       "    <div class=\"colab-df-buttons\">\n",
       "\n",
       "  <div class=\"colab-df-container\">\n",
       "    <button class=\"colab-df-convert\" onclick=\"convertToInteractive('df-d7fb43fe-622c-4b9c-947f-c4f8016fb688')\"\n",
       "            title=\"Convert this dataframe to an interactive table.\"\n",
       "            style=\"display:none;\">\n",
       "\n",
       "  <svg xmlns=\"http://www.w3.org/2000/svg\" height=\"24px\" viewBox=\"0 -960 960 960\">\n",
       "    <path d=\"M120-120v-720h720v720H120Zm60-500h600v-160H180v160Zm220 220h160v-160H400v160Zm0 220h160v-160H400v160ZM180-400h160v-160H180v160Zm440 0h160v-160H620v160ZM180-180h160v-160H180v160Zm440 0h160v-160H620v160Z\"/>\n",
       "  </svg>\n",
       "    </button>\n",
       "\n",
       "  <style>\n",
       "    .colab-df-container {\n",
       "      display:flex;\n",
       "      gap: 12px;\n",
       "    }\n",
       "\n",
       "    .colab-df-convert {\n",
       "      background-color: #E8F0FE;\n",
       "      border: none;\n",
       "      border-radius: 50%;\n",
       "      cursor: pointer;\n",
       "      display: none;\n",
       "      fill: #1967D2;\n",
       "      height: 32px;\n",
       "      padding: 0 0 0 0;\n",
       "      width: 32px;\n",
       "    }\n",
       "\n",
       "    .colab-df-convert:hover {\n",
       "      background-color: #E2EBFA;\n",
       "      box-shadow: 0px 1px 2px rgba(60, 64, 67, 0.3), 0px 1px 3px 1px rgba(60, 64, 67, 0.15);\n",
       "      fill: #174EA6;\n",
       "    }\n",
       "\n",
       "    .colab-df-buttons div {\n",
       "      margin-bottom: 4px;\n",
       "    }\n",
       "\n",
       "    [theme=dark] .colab-df-convert {\n",
       "      background-color: #3B4455;\n",
       "      fill: #D2E3FC;\n",
       "    }\n",
       "\n",
       "    [theme=dark] .colab-df-convert:hover {\n",
       "      background-color: #434B5C;\n",
       "      box-shadow: 0px 1px 3px 1px rgba(0, 0, 0, 0.15);\n",
       "      filter: drop-shadow(0px 1px 2px rgba(0, 0, 0, 0.3));\n",
       "      fill: #FFFFFF;\n",
       "    }\n",
       "  </style>\n",
       "\n",
       "    <script>\n",
       "      const buttonEl =\n",
       "        document.querySelector('#df-d7fb43fe-622c-4b9c-947f-c4f8016fb688 button.colab-df-convert');\n",
       "      buttonEl.style.display =\n",
       "        google.colab.kernel.accessAllowed ? 'block' : 'none';\n",
       "\n",
       "      async function convertToInteractive(key) {\n",
       "        const element = document.querySelector('#df-d7fb43fe-622c-4b9c-947f-c4f8016fb688');\n",
       "        const dataTable =\n",
       "          await google.colab.kernel.invokeFunction('convertToInteractive',\n",
       "                                                    [key], {});\n",
       "        if (!dataTable) return;\n",
       "\n",
       "        const docLinkHtml = 'Like what you see? Visit the ' +\n",
       "          '<a target=\"_blank\" href=https://colab.research.google.com/notebooks/data_table.ipynb>data table notebook</a>'\n",
       "          + ' to learn more about interactive tables.';\n",
       "        element.innerHTML = '';\n",
       "        dataTable['output_type'] = 'display_data';\n",
       "        await google.colab.output.renderOutput(dataTable, element);\n",
       "        const docLink = document.createElement('div');\n",
       "        docLink.innerHTML = docLinkHtml;\n",
       "        element.appendChild(docLink);\n",
       "      }\n",
       "    </script>\n",
       "  </div>\n",
       "\n",
       "\n",
       "<div id=\"df-5833e6d1-e1bf-47c9-aed7-415fd09aaaef\">\n",
       "  <button class=\"colab-df-quickchart\" onclick=\"quickchart('df-5833e6d1-e1bf-47c9-aed7-415fd09aaaef')\"\n",
       "            title=\"Suggest charts\"\n",
       "            style=\"display:none;\">\n",
       "\n",
       "<svg xmlns=\"http://www.w3.org/2000/svg\" height=\"24px\"viewBox=\"0 0 24 24\"\n",
       "     width=\"24px\">\n",
       "    <g>\n",
       "        <path d=\"M19 3H5c-1.1 0-2 .9-2 2v14c0 1.1.9 2 2 2h14c1.1 0 2-.9 2-2V5c0-1.1-.9-2-2-2zM9 17H7v-7h2v7zm4 0h-2V7h2v10zm4 0h-2v-4h2v4z\"/>\n",
       "    </g>\n",
       "</svg>\n",
       "  </button>\n",
       "\n",
       "<style>\n",
       "  .colab-df-quickchart {\n",
       "      --bg-color: #E8F0FE;\n",
       "      --fill-color: #1967D2;\n",
       "      --hover-bg-color: #E2EBFA;\n",
       "      --hover-fill-color: #174EA6;\n",
       "      --disabled-fill-color: #AAA;\n",
       "      --disabled-bg-color: #DDD;\n",
       "  }\n",
       "\n",
       "  [theme=dark] .colab-df-quickchart {\n",
       "      --bg-color: #3B4455;\n",
       "      --fill-color: #D2E3FC;\n",
       "      --hover-bg-color: #434B5C;\n",
       "      --hover-fill-color: #FFFFFF;\n",
       "      --disabled-bg-color: #3B4455;\n",
       "      --disabled-fill-color: #666;\n",
       "  }\n",
       "\n",
       "  .colab-df-quickchart {\n",
       "    background-color: var(--bg-color);\n",
       "    border: none;\n",
       "    border-radius: 50%;\n",
       "    cursor: pointer;\n",
       "    display: none;\n",
       "    fill: var(--fill-color);\n",
       "    height: 32px;\n",
       "    padding: 0;\n",
       "    width: 32px;\n",
       "  }\n",
       "\n",
       "  .colab-df-quickchart:hover {\n",
       "    background-color: var(--hover-bg-color);\n",
       "    box-shadow: 0 1px 2px rgba(60, 64, 67, 0.3), 0 1px 3px 1px rgba(60, 64, 67, 0.15);\n",
       "    fill: var(--button-hover-fill-color);\n",
       "  }\n",
       "\n",
       "  .colab-df-quickchart-complete:disabled,\n",
       "  .colab-df-quickchart-complete:disabled:hover {\n",
       "    background-color: var(--disabled-bg-color);\n",
       "    fill: var(--disabled-fill-color);\n",
       "    box-shadow: none;\n",
       "  }\n",
       "\n",
       "  .colab-df-spinner {\n",
       "    border: 2px solid var(--fill-color);\n",
       "    border-color: transparent;\n",
       "    border-bottom-color: var(--fill-color);\n",
       "    animation:\n",
       "      spin 1s steps(1) infinite;\n",
       "  }\n",
       "\n",
       "  @keyframes spin {\n",
       "    0% {\n",
       "      border-color: transparent;\n",
       "      border-bottom-color: var(--fill-color);\n",
       "      border-left-color: var(--fill-color);\n",
       "    }\n",
       "    20% {\n",
       "      border-color: transparent;\n",
       "      border-left-color: var(--fill-color);\n",
       "      border-top-color: var(--fill-color);\n",
       "    }\n",
       "    30% {\n",
       "      border-color: transparent;\n",
       "      border-left-color: var(--fill-color);\n",
       "      border-top-color: var(--fill-color);\n",
       "      border-right-color: var(--fill-color);\n",
       "    }\n",
       "    40% {\n",
       "      border-color: transparent;\n",
       "      border-right-color: var(--fill-color);\n",
       "      border-top-color: var(--fill-color);\n",
       "    }\n",
       "    60% {\n",
       "      border-color: transparent;\n",
       "      border-right-color: var(--fill-color);\n",
       "    }\n",
       "    80% {\n",
       "      border-color: transparent;\n",
       "      border-right-color: var(--fill-color);\n",
       "      border-bottom-color: var(--fill-color);\n",
       "    }\n",
       "    90% {\n",
       "      border-color: transparent;\n",
       "      border-bottom-color: var(--fill-color);\n",
       "    }\n",
       "  }\n",
       "</style>\n",
       "\n",
       "  <script>\n",
       "    async function quickchart(key) {\n",
       "      const quickchartButtonEl =\n",
       "        document.querySelector('#' + key + ' button');\n",
       "      quickchartButtonEl.disabled = true;  // To prevent multiple clicks.\n",
       "      quickchartButtonEl.classList.add('colab-df-spinner');\n",
       "      try {\n",
       "        const charts = await google.colab.kernel.invokeFunction(\n",
       "            'suggestCharts', [key], {});\n",
       "      } catch (error) {\n",
       "        console.error('Error during call to suggestCharts:', error);\n",
       "      }\n",
       "      quickchartButtonEl.classList.remove('colab-df-spinner');\n",
       "      quickchartButtonEl.classList.add('colab-df-quickchart-complete');\n",
       "    }\n",
       "    (() => {\n",
       "      let quickchartButtonEl =\n",
       "        document.querySelector('#df-5833e6d1-e1bf-47c9-aed7-415fd09aaaef button');\n",
       "      quickchartButtonEl.style.display =\n",
       "        google.colab.kernel.accessAllowed ? 'block' : 'none';\n",
       "    })();\n",
       "  </script>\n",
       "</div>\n",
       "    </div>\n",
       "  </div>\n"
      ],
      "text/plain": [
       "      essay_id                                          full_text  score  \\\n",
       "0      000d118  many people car live thing know use car alot t...      3   \n",
       "1      000fe60  scientist nasa discussing face mars explaining...      3   \n",
       "2      001ab80  people always wish technology seen movies best...      4   \n",
       "3      001bdc0  heard venus planet without almost oxygen earth...      4   \n",
       "4      002ba53  dear state senator letter argue favor keeping ...      3   \n",
       "...        ...                                                ...    ...   \n",
       "17302  ffd378d  story challenge exploing venus informative pie...      2   \n",
       "17303  ffddf1f  technology changed lot ways live today nowaday...      4   \n",
       "17304  fff016d  like sitting around day great opportunity part...      2   \n",
       "17305  fffb49b  challenge exporing venus author suggests study...      1   \n",
       "17306  fffed3e  venus worthy place study dangerous reaosn thei...      2   \n",
       "\n",
       "       theme  \n",
       "0          2  \n",
       "1          3  \n",
       "2          2  \n",
       "3          1  \n",
       "4          4  \n",
       "...      ...  \n",
       "17302      1  \n",
       "17303      3  \n",
       "17304      3  \n",
       "17305      1  \n",
       "17306      3  \n",
       "\n",
       "[17307 rows x 4 columns]"
      ]
     },
     "execution_count": 47,
     "metadata": {},
     "output_type": "execute_result"
    }
   ],
   "source": [
    "df1"
   ]
  },
  {
   "cell_type": "markdown",
   "metadata": {
    "id": "bVGC6loRl6Mw"
   },
   "source": [
    "**Ajout d'une autre feature : le nombre de mots par texte**"
   ]
  },
  {
   "cell_type": "code",
   "execution_count": 48,
   "metadata": {
    "id": "dFiXp6GamFNq"
   },
   "outputs": [],
   "source": [
    "def count_words(text):\n",
    "    return len(text.split())\n"
   ]
  },
  {
   "cell_type": "code",
   "execution_count": 49,
   "metadata": {
    "id": "HxWZPU5Jmo2h"
   },
   "outputs": [],
   "source": [
    "\n",
    "df1['number_of_words'] = df1['full_text'].apply(count_words)\n"
   ]
  },
  {
   "cell_type": "code",
   "execution_count": 22,
   "metadata": {
    "colab": {
     "base_uri": "https://localhost:8080/",
     "height": 424
    },
    "id": "y5EZ1x8qmzqq",
    "outputId": "cfe45218-6458-45cd-bbc2-1d50d06d3499"
   },
   "outputs": [
    {
     "data": {
      "application/vnd.google.colaboratory.intrinsic+json": {
       "summary": "{\n  \"name\": \"df1\",\n  \"rows\": 17307,\n  \"fields\": [\n    {\n      \"column\": \"essay_id\",\n      \"properties\": {\n        \"dtype\": \"string\",\n        \"num_unique_values\": 17307,\n        \"samples\": [\n          \"bb4c434\",\n          \"44e88b0\",\n          \"0ba78ec\"\n        ],\n        \"semantic_type\": \"\",\n        \"description\": \"\"\n      }\n    },\n    {\n      \"column\": \"full_text\",\n      \"properties\": {\n        \"dtype\": \"string\",\n        \"num_unique_values\": 17307,\n        \"samples\": [\n          \"people tend use cars much basically live get day car use car go every rather grocery store work go hang friends family traveling general well imagine limited usage cars community strongly believe would many advantages community many reasons like make people less stressful time would less accidents would definitly better environment omg ran gas oh take car shop get fixed usually two main things hear people stay word car comes car comes alot stress expenses take every need usually someone stressed best person wan na conversation think limit usage cars lot people community alot happier according article car free cities elisabeth rosenthal source lady name heidrun walter says car always tense much happier way think perfect example limited car usauage make person happier addition feel limit car usage community make community much safer environment hear see many car accidents country community cars dangerous people often get injuried die car recks limitting car usage communitry keep people safe importantly alive kids able run aroumd neighborhood play friends also cross street safely without disruption car coming stopping wants get hurt car coming know driving car last least limiting use car usage community would definitly better environment science class often talk cars polute air mess waehter car self also feel car changing see cars cars streets think makes days hotter also think makes winters come around earlier makes alot colder live sunshine florida south year round usually hot extremly hot realize people driving around winers seem alot cold usually cold last longer periods time conclusion belive limit car usuage community make better place many reasons like make people less stressful happier less accidents road also help environment lot\",\n          \"imagine top scientist nasa viking spacecraft spotted shadowy likeness human face lot people thought alien life possibility others thought natural landform would thoughts image face mars natural landform similar landforms earth high pixel photos taken enough reliable information support alien life theory begin similar landforms earth one mars stated text picture actually shows martian equivalent butte mesa landforms common around american west also stated text garvin giving opinion reminds middle butte snake river plain idaho another issue alien life theory fact nasa high quality cameras quoting text pixel image spans meters compared meters per pixel best viking photo result high quality pictures could see small details clearly stated article garvin said objects picture like airplanes ground egyptian style pyramids even small shacks could see concluding statement nothing landform resembled face seen mars finally enough evidence support claim alien life mars first pictures blurry haze cloud coverage theory popular online world science world stated text face mars since become pop icon starred hollywood film appeared books magazines radio talk shows even haunted grocery store checkout lines years proves might publicity attention many conspiracy theorists ultimately face mars natural landform similar landforms earth high pixel photos taken enough reliable information support alien life theory\",\n          \"face mars could created aliens land form created conditions mars looks like face coincidence mesa common area mars many others like one without shadows makes appearance human face many different land forms cydonia different second paragrapgh article stated cydonia region known buttes mesas face mars another mesa different one except unique shadows strange see formation supposedly uninhabited planet depicts human face espescially human ever set foot planet mars time reason believe nothing weird coincidence since person ever conspiracy theorists dismay strange landform nothing martian butte mesa weird coincidence interesting formation stumped puzzled scientests world know formation anything reveal alien lifeforms alien activity\"\n        ],\n        \"semantic_type\": \"\",\n        \"description\": \"\"\n      }\n    },\n    {\n      \"column\": \"score\",\n      \"properties\": {\n        \"dtype\": \"number\",\n        \"std\": 1,\n        \"min\": 1,\n        \"max\": 6,\n        \"num_unique_values\": 6,\n        \"samples\": [\n          3,\n          4,\n          6\n        ],\n        \"semantic_type\": \"\",\n        \"description\": \"\"\n      }\n    },\n    {\n      \"column\": \"theme\",\n      \"properties\": {\n        \"dtype\": \"int32\",\n        \"num_unique_values\": 4,\n        \"samples\": [\n          3,\n          4,\n          2\n        ],\n        \"semantic_type\": \"\",\n        \"description\": \"\"\n      }\n    },\n    {\n      \"column\": \"number_of_words\",\n      \"properties\": {\n        \"dtype\": \"number\",\n        \"std\": 78,\n        \"min\": 57,\n        \"max\": 840,\n        \"num_unique_values\": 472,\n        \"samples\": [\n          107,\n          417,\n          98\n        ],\n        \"semantic_type\": \"\",\n        \"description\": \"\"\n      }\n    }\n  ]\n}",
       "type": "dataframe",
       "variable_name": "df1"
      },
      "text/html": [
       "\n",
       "  <div id=\"df-d3f15dbe-52e1-4a63-af99-a688726b5866\" class=\"colab-df-container\">\n",
       "    <div>\n",
       "<style scoped>\n",
       "    .dataframe tbody tr th:only-of-type {\n",
       "        vertical-align: middle;\n",
       "    }\n",
       "\n",
       "    .dataframe tbody tr th {\n",
       "        vertical-align: top;\n",
       "    }\n",
       "\n",
       "    .dataframe thead th {\n",
       "        text-align: right;\n",
       "    }\n",
       "</style>\n",
       "<table border=\"1\" class=\"dataframe\">\n",
       "  <thead>\n",
       "    <tr style=\"text-align: right;\">\n",
       "      <th></th>\n",
       "      <th>essay_id</th>\n",
       "      <th>full_text</th>\n",
       "      <th>score</th>\n",
       "      <th>theme</th>\n",
       "      <th>number_of_words</th>\n",
       "    </tr>\n",
       "  </thead>\n",
       "  <tbody>\n",
       "    <tr>\n",
       "      <th>0</th>\n",
       "      <td>000d118</td>\n",
       "      <td>many people car live thing know use car alot t...</td>\n",
       "      <td>3</td>\n",
       "      <td>2</td>\n",
       "      <td>238</td>\n",
       "    </tr>\n",
       "    <tr>\n",
       "      <th>1</th>\n",
       "      <td>000fe60</td>\n",
       "      <td>scientist nasa discussing face mars explaining...</td>\n",
       "      <td>3</td>\n",
       "      <td>3</td>\n",
       "      <td>135</td>\n",
       "    </tr>\n",
       "    <tr>\n",
       "      <th>2</th>\n",
       "      <td>001ab80</td>\n",
       "      <td>people always wish technology seen movies best...</td>\n",
       "      <td>4</td>\n",
       "      <td>2</td>\n",
       "      <td>274</td>\n",
       "    </tr>\n",
       "    <tr>\n",
       "      <th>3</th>\n",
       "      <td>001bdc0</td>\n",
       "      <td>heard venus planet without almost oxygen earth...</td>\n",
       "      <td>4</td>\n",
       "      <td>1</td>\n",
       "      <td>246</td>\n",
       "    </tr>\n",
       "    <tr>\n",
       "      <th>4</th>\n",
       "      <td>002ba53</td>\n",
       "      <td>dear state senator letter argue favor keeping ...</td>\n",
       "      <td>3</td>\n",
       "      <td>4</td>\n",
       "      <td>182</td>\n",
       "    </tr>\n",
       "    <tr>\n",
       "      <th>...</th>\n",
       "      <td>...</td>\n",
       "      <td>...</td>\n",
       "      <td>...</td>\n",
       "      <td>...</td>\n",
       "      <td>...</td>\n",
       "    </tr>\n",
       "    <tr>\n",
       "      <th>17302</th>\n",
       "      <td>ffd378d</td>\n",
       "      <td>story challenge exploing venus informative pie...</td>\n",
       "      <td>2</td>\n",
       "      <td>1</td>\n",
       "      <td>76</td>\n",
       "    </tr>\n",
       "    <tr>\n",
       "      <th>17303</th>\n",
       "      <td>ffddf1f</td>\n",
       "      <td>technology changed lot ways live today nowaday...</td>\n",
       "      <td>4</td>\n",
       "      <td>3</td>\n",
       "      <td>299</td>\n",
       "    </tr>\n",
       "    <tr>\n",
       "      <th>17304</th>\n",
       "      <td>fff016d</td>\n",
       "      <td>like sitting around day great opportunity part...</td>\n",
       "      <td>2</td>\n",
       "      <td>3</td>\n",
       "      <td>90</td>\n",
       "    </tr>\n",
       "    <tr>\n",
       "      <th>17305</th>\n",
       "      <td>fffb49b</td>\n",
       "      <td>challenge exporing venus author suggests study...</td>\n",
       "      <td>1</td>\n",
       "      <td>1</td>\n",
       "      <td>130</td>\n",
       "    </tr>\n",
       "    <tr>\n",
       "      <th>17306</th>\n",
       "      <td>fffed3e</td>\n",
       "      <td>venus worthy place study dangerous reaosn thei...</td>\n",
       "      <td>2</td>\n",
       "      <td>3</td>\n",
       "      <td>65</td>\n",
       "    </tr>\n",
       "  </tbody>\n",
       "</table>\n",
       "<p>17307 rows × 5 columns</p>\n",
       "</div>\n",
       "    <div class=\"colab-df-buttons\">\n",
       "\n",
       "  <div class=\"colab-df-container\">\n",
       "    <button class=\"colab-df-convert\" onclick=\"convertToInteractive('df-d3f15dbe-52e1-4a63-af99-a688726b5866')\"\n",
       "            title=\"Convert this dataframe to an interactive table.\"\n",
       "            style=\"display:none;\">\n",
       "\n",
       "  <svg xmlns=\"http://www.w3.org/2000/svg\" height=\"24px\" viewBox=\"0 -960 960 960\">\n",
       "    <path d=\"M120-120v-720h720v720H120Zm60-500h600v-160H180v160Zm220 220h160v-160H400v160Zm0 220h160v-160H400v160ZM180-400h160v-160H180v160Zm440 0h160v-160H620v160ZM180-180h160v-160H180v160Zm440 0h160v-160H620v160Z\"/>\n",
       "  </svg>\n",
       "    </button>\n",
       "\n",
       "  <style>\n",
       "    .colab-df-container {\n",
       "      display:flex;\n",
       "      gap: 12px;\n",
       "    }\n",
       "\n",
       "    .colab-df-convert {\n",
       "      background-color: #E8F0FE;\n",
       "      border: none;\n",
       "      border-radius: 50%;\n",
       "      cursor: pointer;\n",
       "      display: none;\n",
       "      fill: #1967D2;\n",
       "      height: 32px;\n",
       "      padding: 0 0 0 0;\n",
       "      width: 32px;\n",
       "    }\n",
       "\n",
       "    .colab-df-convert:hover {\n",
       "      background-color: #E2EBFA;\n",
       "      box-shadow: 0px 1px 2px rgba(60, 64, 67, 0.3), 0px 1px 3px 1px rgba(60, 64, 67, 0.15);\n",
       "      fill: #174EA6;\n",
       "    }\n",
       "\n",
       "    .colab-df-buttons div {\n",
       "      margin-bottom: 4px;\n",
       "    }\n",
       "\n",
       "    [theme=dark] .colab-df-convert {\n",
       "      background-color: #3B4455;\n",
       "      fill: #D2E3FC;\n",
       "    }\n",
       "\n",
       "    [theme=dark] .colab-df-convert:hover {\n",
       "      background-color: #434B5C;\n",
       "      box-shadow: 0px 1px 3px 1px rgba(0, 0, 0, 0.15);\n",
       "      filter: drop-shadow(0px 1px 2px rgba(0, 0, 0, 0.3));\n",
       "      fill: #FFFFFF;\n",
       "    }\n",
       "  </style>\n",
       "\n",
       "    <script>\n",
       "      const buttonEl =\n",
       "        document.querySelector('#df-d3f15dbe-52e1-4a63-af99-a688726b5866 button.colab-df-convert');\n",
       "      buttonEl.style.display =\n",
       "        google.colab.kernel.accessAllowed ? 'block' : 'none';\n",
       "\n",
       "      async function convertToInteractive(key) {\n",
       "        const element = document.querySelector('#df-d3f15dbe-52e1-4a63-af99-a688726b5866');\n",
       "        const dataTable =\n",
       "          await google.colab.kernel.invokeFunction('convertToInteractive',\n",
       "                                                    [key], {});\n",
       "        if (!dataTable) return;\n",
       "\n",
       "        const docLinkHtml = 'Like what you see? Visit the ' +\n",
       "          '<a target=\"_blank\" href=https://colab.research.google.com/notebooks/data_table.ipynb>data table notebook</a>'\n",
       "          + ' to learn more about interactive tables.';\n",
       "        element.innerHTML = '';\n",
       "        dataTable['output_type'] = 'display_data';\n",
       "        await google.colab.output.renderOutput(dataTable, element);\n",
       "        const docLink = document.createElement('div');\n",
       "        docLink.innerHTML = docLinkHtml;\n",
       "        element.appendChild(docLink);\n",
       "      }\n",
       "    </script>\n",
       "  </div>\n",
       "\n",
       "\n",
       "<div id=\"df-ee90ff79-d755-467b-b842-aedeff045731\">\n",
       "  <button class=\"colab-df-quickchart\" onclick=\"quickchart('df-ee90ff79-d755-467b-b842-aedeff045731')\"\n",
       "            title=\"Suggest charts\"\n",
       "            style=\"display:none;\">\n",
       "\n",
       "<svg xmlns=\"http://www.w3.org/2000/svg\" height=\"24px\"viewBox=\"0 0 24 24\"\n",
       "     width=\"24px\">\n",
       "    <g>\n",
       "        <path d=\"M19 3H5c-1.1 0-2 .9-2 2v14c0 1.1.9 2 2 2h14c1.1 0 2-.9 2-2V5c0-1.1-.9-2-2-2zM9 17H7v-7h2v7zm4 0h-2V7h2v10zm4 0h-2v-4h2v4z\"/>\n",
       "    </g>\n",
       "</svg>\n",
       "  </button>\n",
       "\n",
       "<style>\n",
       "  .colab-df-quickchart {\n",
       "      --bg-color: #E8F0FE;\n",
       "      --fill-color: #1967D2;\n",
       "      --hover-bg-color: #E2EBFA;\n",
       "      --hover-fill-color: #174EA6;\n",
       "      --disabled-fill-color: #AAA;\n",
       "      --disabled-bg-color: #DDD;\n",
       "  }\n",
       "\n",
       "  [theme=dark] .colab-df-quickchart {\n",
       "      --bg-color: #3B4455;\n",
       "      --fill-color: #D2E3FC;\n",
       "      --hover-bg-color: #434B5C;\n",
       "      --hover-fill-color: #FFFFFF;\n",
       "      --disabled-bg-color: #3B4455;\n",
       "      --disabled-fill-color: #666;\n",
       "  }\n",
       "\n",
       "  .colab-df-quickchart {\n",
       "    background-color: var(--bg-color);\n",
       "    border: none;\n",
       "    border-radius: 50%;\n",
       "    cursor: pointer;\n",
       "    display: none;\n",
       "    fill: var(--fill-color);\n",
       "    height: 32px;\n",
       "    padding: 0;\n",
       "    width: 32px;\n",
       "  }\n",
       "\n",
       "  .colab-df-quickchart:hover {\n",
       "    background-color: var(--hover-bg-color);\n",
       "    box-shadow: 0 1px 2px rgba(60, 64, 67, 0.3), 0 1px 3px 1px rgba(60, 64, 67, 0.15);\n",
       "    fill: var(--button-hover-fill-color);\n",
       "  }\n",
       "\n",
       "  .colab-df-quickchart-complete:disabled,\n",
       "  .colab-df-quickchart-complete:disabled:hover {\n",
       "    background-color: var(--disabled-bg-color);\n",
       "    fill: var(--disabled-fill-color);\n",
       "    box-shadow: none;\n",
       "  }\n",
       "\n",
       "  .colab-df-spinner {\n",
       "    border: 2px solid var(--fill-color);\n",
       "    border-color: transparent;\n",
       "    border-bottom-color: var(--fill-color);\n",
       "    animation:\n",
       "      spin 1s steps(1) infinite;\n",
       "  }\n",
       "\n",
       "  @keyframes spin {\n",
       "    0% {\n",
       "      border-color: transparent;\n",
       "      border-bottom-color: var(--fill-color);\n",
       "      border-left-color: var(--fill-color);\n",
       "    }\n",
       "    20% {\n",
       "      border-color: transparent;\n",
       "      border-left-color: var(--fill-color);\n",
       "      border-top-color: var(--fill-color);\n",
       "    }\n",
       "    30% {\n",
       "      border-color: transparent;\n",
       "      border-left-color: var(--fill-color);\n",
       "      border-top-color: var(--fill-color);\n",
       "      border-right-color: var(--fill-color);\n",
       "    }\n",
       "    40% {\n",
       "      border-color: transparent;\n",
       "      border-right-color: var(--fill-color);\n",
       "      border-top-color: var(--fill-color);\n",
       "    }\n",
       "    60% {\n",
       "      border-color: transparent;\n",
       "      border-right-color: var(--fill-color);\n",
       "    }\n",
       "    80% {\n",
       "      border-color: transparent;\n",
       "      border-right-color: var(--fill-color);\n",
       "      border-bottom-color: var(--fill-color);\n",
       "    }\n",
       "    90% {\n",
       "      border-color: transparent;\n",
       "      border-bottom-color: var(--fill-color);\n",
       "    }\n",
       "  }\n",
       "</style>\n",
       "\n",
       "  <script>\n",
       "    async function quickchart(key) {\n",
       "      const quickchartButtonEl =\n",
       "        document.querySelector('#' + key + ' button');\n",
       "      quickchartButtonEl.disabled = true;  // To prevent multiple clicks.\n",
       "      quickchartButtonEl.classList.add('colab-df-spinner');\n",
       "      try {\n",
       "        const charts = await google.colab.kernel.invokeFunction(\n",
       "            'suggestCharts', [key], {});\n",
       "      } catch (error) {\n",
       "        console.error('Error during call to suggestCharts:', error);\n",
       "      }\n",
       "      quickchartButtonEl.classList.remove('colab-df-spinner');\n",
       "      quickchartButtonEl.classList.add('colab-df-quickchart-complete');\n",
       "    }\n",
       "    (() => {\n",
       "      let quickchartButtonEl =\n",
       "        document.querySelector('#df-ee90ff79-d755-467b-b842-aedeff045731 button');\n",
       "      quickchartButtonEl.style.display =\n",
       "        google.colab.kernel.accessAllowed ? 'block' : 'none';\n",
       "    })();\n",
       "  </script>\n",
       "</div>\n",
       "    </div>\n",
       "  </div>\n"
      ],
      "text/plain": [
       "      essay_id                                          full_text  score  \\\n",
       "0      000d118  many people car live thing know use car alot t...      3   \n",
       "1      000fe60  scientist nasa discussing face mars explaining...      3   \n",
       "2      001ab80  people always wish technology seen movies best...      4   \n",
       "3      001bdc0  heard venus planet without almost oxygen earth...      4   \n",
       "4      002ba53  dear state senator letter argue favor keeping ...      3   \n",
       "...        ...                                                ...    ...   \n",
       "17302  ffd378d  story challenge exploing venus informative pie...      2   \n",
       "17303  ffddf1f  technology changed lot ways live today nowaday...      4   \n",
       "17304  fff016d  like sitting around day great opportunity part...      2   \n",
       "17305  fffb49b  challenge exporing venus author suggests study...      1   \n",
       "17306  fffed3e  venus worthy place study dangerous reaosn thei...      2   \n",
       "\n",
       "       theme  number_of_words  \n",
       "0          2              238  \n",
       "1          3              135  \n",
       "2          2              274  \n",
       "3          1              246  \n",
       "4          4              182  \n",
       "...      ...              ...  \n",
       "17302      1               76  \n",
       "17303      3              299  \n",
       "17304      3               90  \n",
       "17305      1              130  \n",
       "17306      3               65  \n",
       "\n",
       "[17307 rows x 5 columns]"
      ]
     },
     "execution_count": 22,
     "metadata": {},
     "output_type": "execute_result"
    }
   ],
   "source": [
    "df1\n"
   ]
  },
  {
   "cell_type": "code",
   "execution_count": 23,
   "metadata": {
    "id": "hKokGRO7tbQL"
   },
   "outputs": [],
   "source": [
    "from sklearn.feature_extraction.text import TfidfVectorizer\n",
    "\n",
    "tfidf_vectorizer = TfidfVectorizer()\n",
    "X = tfidf_vectorizer.fit_transform(df1['full_text'])"
   ]
  },
  {
   "cell_type": "markdown",
   "metadata": {
    "id": "IoAScPC0LMiM"
   },
   "source": [
    "tranformation en array numpy pour que toutes données soient au meme format"
   ]
  },
  {
   "cell_type": "code",
   "execution_count": 24,
   "metadata": {
    "id": "O98Tw-76thon"
   },
   "outputs": [],
   "source": [
    "X_dense = X.toarray()\n"
   ]
  },
  {
   "cell_type": "code",
   "execution_count": 25,
   "metadata": {
    "id": "WVxElV0tu1xF"
   },
   "outputs": [],
   "source": [
    "theme_array = df1['theme'].to_numpy()\n",
    "word_count_array = df1['number_of_words'].to_numpy()\n"
   ]
  },
  {
   "cell_type": "code",
   "execution_count": null,
   "metadata": {
    "id": "w5v1VdsavNQ2"
   },
   "outputs": [],
   "source": [
    "import numpy as np\n",
    "X_combined = np.column_stack((X_dense, theme_array, word_count_array))"
   ]
  },
  {
   "cell_type": "code",
   "execution_count": null,
   "metadata": {
    "id": "ScHeHcJxLYxp"
   },
   "outputs": [],
   "source": [
    "from sklearn.model_selection import train_test_split\n",
    "\n",
    "X_train, X_test, y_train, y_test = train_test_split(X_combined, y, test_size=0.2, random_state=42)"
   ]
  },
  {
   "cell_type": "code",
   "execution_count": null,
   "metadata": {
    "id": "vG3EaGLHLfs8"
   },
   "outputs": [],
   "source": [
    "from sklearn.svm import SVR\n",
    "\n",
    "svr_model = SVR(kernel='linear')\n",
    "\n",
    "svr_model.fit(X_train, y_train)\n",
    "\n",
    "y_pred_svr = svr_model.predict(X_test)\n"
   ]
  },
  {
   "cell_type": "code",
   "execution_count": null,
   "metadata": {
    "id": "P8zMR6pKnRBq"
   },
   "outputs": [],
   "source": [
    "y_pred_rounded = np.round(y_pred_svr)\n",
    "y_test_rounded = np.round(y_test)\n",
    "\n",
    "Accuracy = accuracy_score(y_test_rounded, y_pred_rounded)\n",
    "Precision = precision_score(y_test_rounded, y_pred_rounded, average='macro')\n",
    "Recall = recall_score(y_test_rounded, y_pred_rounded, average='macro')from sklearn.metrics import cohen_kappa_score\n",
    "kappa = cohen_kappa_score(y_test_rounded, y_pred_rounded, weights='quadratic')"
   ]
  },
  {
   "cell_type": "code",
   "execution_count": 6,
   "metadata": {
    "colab": {
     "base_uri": "https://localhost:8080/"
    },
    "id": "LAyIzj9ZNLh2",
    "outputId": "13470ab1-936a-48e6-f325-fe3295c16ee0"
   },
   "outputs": [
    {
     "name": "stdout",
     "output_type": "stream",
     "text": [
      "Accuracy: 0.621265064646714\n",
      "Precision: 0.5273736375049118\n",
      "Recall: 0.40461700534185147\n",
      "Quadratic Weighted Kappa: 0.8141851455617225\n"
     ]
    }
   ],
   "source": [
    "print(\"Accuracy:\", Accuracy)\n",
    "print(\"Precision:\", Precision)\n",
    "print(\"Recall:\", Recall)\n",
    "print('Quadratic Weighted Kappa:', kappa)"
   ]
  },
  {
   "cell_type": "markdown",
   "metadata": {
    "id": "OJmhZpi9OXzy"
   },
   "source": [
    "En ajoutant les deux clonnes, nombre de mots et theme, le score s'est nettement améliorer"
   ]
  },
  {
   "cell_type": "code",
   "execution_count": null,
   "metadata": {
    "id": "xLeC52FSNy2i"
   },
   "outputs": [],
   "source": []
  }
 ],
 "metadata": {
  "colab": {
   "provenance": []
  },
  "kernelspec": {
   "display_name": "Python 3 (ipykernel)",
   "language": "python",
   "name": "python3"
  },
  "language_info": {
   "codemirror_mode": {
    "name": "ipython",
    "version": 3
   },
   "file_extension": ".py",
   "mimetype": "text/x-python",
   "name": "python",
   "nbconvert_exporter": "python",
   "pygments_lexer": "ipython3",
   "version": "3.10.8"
  },
  "widgets": {
   "application/vnd.jupyter.widget-state+json": {
    "014612a41b544d6e8efc4e4abb61a8d8": {
     "model_module": "@jupyter-widgets/base",
     "model_module_version": "1.2.0",
     "model_name": "LayoutModel",
     "state": {
      "_model_module": "@jupyter-widgets/base",
      "_model_module_version": "1.2.0",
      "_model_name": "LayoutModel",
      "_view_count": null,
      "_view_module": "@jupyter-widgets/base",
      "_view_module_version": "1.2.0",
      "_view_name": "LayoutView",
      "align_content": null,
      "align_items": null,
      "align_self": null,
      "border": null,
      "bottom": null,
      "display": null,
      "flex": null,
      "flex_flow": null,
      "grid_area": null,
      "grid_auto_columns": null,
      "grid_auto_flow": null,
      "grid_auto_rows": null,
      "grid_column": null,
      "grid_gap": null,
      "grid_row": null,
      "grid_template_areas": null,
      "grid_template_columns": null,
      "grid_template_rows": null,
      "height": null,
      "justify_content": null,
      "justify_items": null,
      "left": null,
      "margin": null,
      "max_height": null,
      "max_width": null,
      "min_height": null,
      "min_width": null,
      "object_fit": null,
      "object_position": null,
      "order": null,
      "overflow": null,
      "overflow_x": null,
      "overflow_y": null,
      "padding": null,
      "right": null,
      "top": null,
      "visibility": null,
      "width": null
     }
    },
    "025bf2182347431c8d3470d6d93d09ff": {
     "model_module": "@jupyter-widgets/base",
     "model_module_version": "1.2.0",
     "model_name": "LayoutModel",
     "state": {
      "_model_module": "@jupyter-widgets/base",
      "_model_module_version": "1.2.0",
      "_model_name": "LayoutModel",
      "_view_count": null,
      "_view_module": "@jupyter-widgets/base",
      "_view_module_version": "1.2.0",
      "_view_name": "LayoutView",
      "align_content": null,
      "align_items": null,
      "align_self": null,
      "border": null,
      "bottom": null,
      "display": null,
      "flex": null,
      "flex_flow": null,
      "grid_area": null,
      "grid_auto_columns": null,
      "grid_auto_flow": null,
      "grid_auto_rows": null,
      "grid_column": null,
      "grid_gap": null,
      "grid_row": null,
      "grid_template_areas": null,
      "grid_template_columns": null,
      "grid_template_rows": null,
      "height": null,
      "justify_content": null,
      "justify_items": null,
      "left": null,
      "margin": null,
      "max_height": null,
      "max_width": null,
      "min_height": null,
      "min_width": null,
      "object_fit": null,
      "object_position": null,
      "order": null,
      "overflow": null,
      "overflow_x": null,
      "overflow_y": null,
      "padding": null,
      "right": null,
      "top": null,
      "visibility": null,
      "width": null
     }
    },
    "03b2dfb2b7c045079e6ffe36cfe20236": {
     "model_module": "@jupyter-widgets/controls",
     "model_module_version": "1.5.0",
     "model_name": "HTMLModel",
     "state": {
      "_dom_classes": [],
      "_model_module": "@jupyter-widgets/controls",
      "_model_module_version": "1.5.0",
      "_model_name": "HTMLModel",
      "_view_count": null,
      "_view_module": "@jupyter-widgets/controls",
      "_view_module_version": "1.5.0",
      "_view_name": "HTMLView",
      "description": "",
      "description_tooltip": null,
      "layout": "IPY_MODEL_3e6f47b1c25c4b2ead7c2de6e312e777",
      "placeholder": "​",
      "style": "IPY_MODEL_d65be6ab7c504f028d618496d855f56c",
      "value": " 440M/440M [00:05&lt;00:00, 121MB/s]"
     }
    },
    "03c40c7054ae4917906cd90d36b5c705": {
     "model_module": "@jupyter-widgets/controls",
     "model_module_version": "1.5.0",
     "model_name": "FloatProgressModel",
     "state": {
      "_dom_classes": [],
      "_model_module": "@jupyter-widgets/controls",
      "_model_module_version": "1.5.0",
      "_model_name": "FloatProgressModel",
      "_view_count": null,
      "_view_module": "@jupyter-widgets/controls",
      "_view_module_version": "1.5.0",
      "_view_name": "ProgressView",
      "bar_style": "success",
      "description": "",
      "description_tooltip": null,
      "layout": "IPY_MODEL_6330ed8bd01e4a3992464931491d04f6",
      "max": 231508,
      "min": 0,
      "orientation": "horizontal",
      "style": "IPY_MODEL_ae0d15b93f544d8d88ff233a397a2718",
      "value": 231508
     }
    },
    "201870c31b7b485eb602343c4d2a173b": {
     "model_module": "@jupyter-widgets/controls",
     "model_module_version": "1.5.0",
     "model_name": "HBoxModel",
     "state": {
      "_dom_classes": [],
      "_model_module": "@jupyter-widgets/controls",
      "_model_module_version": "1.5.0",
      "_model_name": "HBoxModel",
      "_view_count": null,
      "_view_module": "@jupyter-widgets/controls",
      "_view_module_version": "1.5.0",
      "_view_name": "HBoxView",
      "box_style": "",
      "children": [
       "IPY_MODEL_31103f9bc92d4056a9e0ea8767a32e6c",
       "IPY_MODEL_637a0e73364743e095f27a149a16eb7d",
       "IPY_MODEL_7cea2a5f7b4c4d95944f5c0c320a18a2"
      ],
      "layout": "IPY_MODEL_b67f0acffc48428cb664d665d001dda6"
     }
    },
    "2d3b3ee1639c457bb12b1d96e53dfedc": {
     "model_module": "@jupyter-widgets/base",
     "model_module_version": "1.2.0",
     "model_name": "LayoutModel",
     "state": {
      "_model_module": "@jupyter-widgets/base",
      "_model_module_version": "1.2.0",
      "_model_name": "LayoutModel",
      "_view_count": null,
      "_view_module": "@jupyter-widgets/base",
      "_view_module_version": "1.2.0",
      "_view_name": "LayoutView",
      "align_content": null,
      "align_items": null,
      "align_self": null,
      "border": null,
      "bottom": null,
      "display": null,
      "flex": null,
      "flex_flow": null,
      "grid_area": null,
      "grid_auto_columns": null,
      "grid_auto_flow": null,
      "grid_auto_rows": null,
      "grid_column": null,
      "grid_gap": null,
      "grid_row": null,
      "grid_template_areas": null,
      "grid_template_columns": null,
      "grid_template_rows": null,
      "height": null,
      "justify_content": null,
      "justify_items": null,
      "left": null,
      "margin": null,
      "max_height": null,
      "max_width": null,
      "min_height": null,
      "min_width": null,
      "object_fit": null,
      "object_position": null,
      "order": null,
      "overflow": null,
      "overflow_x": null,
      "overflow_y": null,
      "padding": null,
      "right": null,
      "top": null,
      "visibility": null,
      "width": null
     }
    },
    "31103f9bc92d4056a9e0ea8767a32e6c": {
     "model_module": "@jupyter-widgets/controls",
     "model_module_version": "1.5.0",
     "model_name": "HTMLModel",
     "state": {
      "_dom_classes": [],
      "_model_module": "@jupyter-widgets/controls",
      "_model_module_version": "1.5.0",
      "_model_name": "HTMLModel",
      "_view_count": null,
      "_view_module": "@jupyter-widgets/controls",
      "_view_module_version": "1.5.0",
      "_view_name": "HTMLView",
      "description": "",
      "description_tooltip": null,
      "layout": "IPY_MODEL_9b20943d19794216b5328934b6dad351",
      "placeholder": "​",
      "style": "IPY_MODEL_cff03d61d7c74c98a50735c2f3165c0c",
      "value": "tokenizer_config.json: 100%"
     }
    },
    "33e6e512fad74d78b88dfad61ed96470": {
     "model_module": "@jupyter-widgets/controls",
     "model_module_version": "1.5.0",
     "model_name": "HTMLModel",
     "state": {
      "_dom_classes": [],
      "_model_module": "@jupyter-widgets/controls",
      "_model_module_version": "1.5.0",
      "_model_name": "HTMLModel",
      "_view_count": null,
      "_view_module": "@jupyter-widgets/controls",
      "_view_module_version": "1.5.0",
      "_view_name": "HTMLView",
      "description": "",
      "description_tooltip": null,
      "layout": "IPY_MODEL_841bb01336264cbe86d54e99874cbba5",
      "placeholder": "​",
      "style": "IPY_MODEL_811e6b51c8ba42f2899c0d67bd7aeb9e",
      "value": "config.json: 100%"
     }
    },
    "3951b32ae7db437abdfb7f798d2377c8": {
     "model_module": "@jupyter-widgets/controls",
     "model_module_version": "1.5.0",
     "model_name": "HTMLModel",
     "state": {
      "_dom_classes": [],
      "_model_module": "@jupyter-widgets/controls",
      "_model_module_version": "1.5.0",
      "_model_name": "HTMLModel",
      "_view_count": null,
      "_view_module": "@jupyter-widgets/controls",
      "_view_module_version": "1.5.0",
      "_view_name": "HTMLView",
      "description": "",
      "description_tooltip": null,
      "layout": "IPY_MODEL_41834d7ef1744f8c83956e83cef0d698",
      "placeholder": "​",
      "style": "IPY_MODEL_d6f9bf958b334ffca295c5b74a50a745",
      "value": "tokenizer.json: 100%"
     }
    },
    "39ab5cdb5a394c419e7360bc46e88fdd": {
     "model_module": "@jupyter-widgets/base",
     "model_module_version": "1.2.0",
     "model_name": "LayoutModel",
     "state": {
      "_model_module": "@jupyter-widgets/base",
      "_model_module_version": "1.2.0",
      "_model_name": "LayoutModel",
      "_view_count": null,
      "_view_module": "@jupyter-widgets/base",
      "_view_module_version": "1.2.0",
      "_view_name": "LayoutView",
      "align_content": null,
      "align_items": null,
      "align_self": null,
      "border": null,
      "bottom": null,
      "display": null,
      "flex": null,
      "flex_flow": null,
      "grid_area": null,
      "grid_auto_columns": null,
      "grid_auto_flow": null,
      "grid_auto_rows": null,
      "grid_column": null,
      "grid_gap": null,
      "grid_row": null,
      "grid_template_areas": null,
      "grid_template_columns": null,
      "grid_template_rows": null,
      "height": null,
      "justify_content": null,
      "justify_items": null,
      "left": null,
      "margin": null,
      "max_height": null,
      "max_width": null,
      "min_height": null,
      "min_width": null,
      "object_fit": null,
      "object_position": null,
      "order": null,
      "overflow": null,
      "overflow_x": null,
      "overflow_y": null,
      "padding": null,
      "right": null,
      "top": null,
      "visibility": null,
      "width": null
     }
    },
    "3beb4d03d43848428023f6c6becbca73": {
     "model_module": "@jupyter-widgets/base",
     "model_module_version": "1.2.0",
     "model_name": "LayoutModel",
     "state": {
      "_model_module": "@jupyter-widgets/base",
      "_model_module_version": "1.2.0",
      "_model_name": "LayoutModel",
      "_view_count": null,
      "_view_module": "@jupyter-widgets/base",
      "_view_module_version": "1.2.0",
      "_view_name": "LayoutView",
      "align_content": null,
      "align_items": null,
      "align_self": null,
      "border": null,
      "bottom": null,
      "display": null,
      "flex": null,
      "flex_flow": null,
      "grid_area": null,
      "grid_auto_columns": null,
      "grid_auto_flow": null,
      "grid_auto_rows": null,
      "grid_column": null,
      "grid_gap": null,
      "grid_row": null,
      "grid_template_areas": null,
      "grid_template_columns": null,
      "grid_template_rows": null,
      "height": null,
      "justify_content": null,
      "justify_items": null,
      "left": null,
      "margin": null,
      "max_height": null,
      "max_width": null,
      "min_height": null,
      "min_width": null,
      "object_fit": null,
      "object_position": null,
      "order": null,
      "overflow": null,
      "overflow_x": null,
      "overflow_y": null,
      "padding": null,
      "right": null,
      "top": null,
      "visibility": null,
      "width": null
     }
    },
    "3e4675a757ab48bf96df015f93f7d276": {
     "model_module": "@jupyter-widgets/controls",
     "model_module_version": "1.5.0",
     "model_name": "HBoxModel",
     "state": {
      "_dom_classes": [],
      "_model_module": "@jupyter-widgets/controls",
      "_model_module_version": "1.5.0",
      "_model_name": "HBoxModel",
      "_view_count": null,
      "_view_module": "@jupyter-widgets/controls",
      "_view_module_version": "1.5.0",
      "_view_name": "HBoxView",
      "box_style": "",
      "children": [
       "IPY_MODEL_3951b32ae7db437abdfb7f798d2377c8",
       "IPY_MODEL_f52d50b062d74be88cb7b95b6c0bf5a9",
       "IPY_MODEL_cd535cd7a3c5418290420d5127293f3e"
      ],
      "layout": "IPY_MODEL_cde19e1fb624491282d32ca074abfa85"
     }
    },
    "3e6f47b1c25c4b2ead7c2de6e312e777": {
     "model_module": "@jupyter-widgets/base",
     "model_module_version": "1.2.0",
     "model_name": "LayoutModel",
     "state": {
      "_model_module": "@jupyter-widgets/base",
      "_model_module_version": "1.2.0",
      "_model_name": "LayoutModel",
      "_view_count": null,
      "_view_module": "@jupyter-widgets/base",
      "_view_module_version": "1.2.0",
      "_view_name": "LayoutView",
      "align_content": null,
      "align_items": null,
      "align_self": null,
      "border": null,
      "bottom": null,
      "display": null,
      "flex": null,
      "flex_flow": null,
      "grid_area": null,
      "grid_auto_columns": null,
      "grid_auto_flow": null,
      "grid_auto_rows": null,
      "grid_column": null,
      "grid_gap": null,
      "grid_row": null,
      "grid_template_areas": null,
      "grid_template_columns": null,
      "grid_template_rows": null,
      "height": null,
      "justify_content": null,
      "justify_items": null,
      "left": null,
      "margin": null,
      "max_height": null,
      "max_width": null,
      "min_height": null,
      "min_width": null,
      "object_fit": null,
      "object_position": null,
      "order": null,
      "overflow": null,
      "overflow_x": null,
      "overflow_y": null,
      "padding": null,
      "right": null,
      "top": null,
      "visibility": null,
      "width": null
     }
    },
    "410e62e5ac944a59bc4868eea09490d1": {
     "model_module": "@jupyter-widgets/controls",
     "model_module_version": "1.5.0",
     "model_name": "HTMLModel",
     "state": {
      "_dom_classes": [],
      "_model_module": "@jupyter-widgets/controls",
      "_model_module_version": "1.5.0",
      "_model_name": "HTMLModel",
      "_view_count": null,
      "_view_module": "@jupyter-widgets/controls",
      "_view_module_version": "1.5.0",
      "_view_name": "HTMLView",
      "description": "",
      "description_tooltip": null,
      "layout": "IPY_MODEL_d1fcfedeceb34007885e1e4489a8894d",
      "placeholder": "​",
      "style": "IPY_MODEL_e5a8a0f4d32b4fde8bc7fa393c72e21a",
      "value": "model.safetensors: 100%"
     }
    },
    "41834d7ef1744f8c83956e83cef0d698": {
     "model_module": "@jupyter-widgets/base",
     "model_module_version": "1.2.0",
     "model_name": "LayoutModel",
     "state": {
      "_model_module": "@jupyter-widgets/base",
      "_model_module_version": "1.2.0",
      "_model_name": "LayoutModel",
      "_view_count": null,
      "_view_module": "@jupyter-widgets/base",
      "_view_module_version": "1.2.0",
      "_view_name": "LayoutView",
      "align_content": null,
      "align_items": null,
      "align_self": null,
      "border": null,
      "bottom": null,
      "display": null,
      "flex": null,
      "flex_flow": null,
      "grid_area": null,
      "grid_auto_columns": null,
      "grid_auto_flow": null,
      "grid_auto_rows": null,
      "grid_column": null,
      "grid_gap": null,
      "grid_row": null,
      "grid_template_areas": null,
      "grid_template_columns": null,
      "grid_template_rows": null,
      "height": null,
      "justify_content": null,
      "justify_items": null,
      "left": null,
      "margin": null,
      "max_height": null,
      "max_width": null,
      "min_height": null,
      "min_width": null,
      "object_fit": null,
      "object_position": null,
      "order": null,
      "overflow": null,
      "overflow_x": null,
      "overflow_y": null,
      "padding": null,
      "right": null,
      "top": null,
      "visibility": null,
      "width": null
     }
    },
    "42f8856b3c27405a84db1a838dd4482d": {
     "model_module": "@jupyter-widgets/controls",
     "model_module_version": "1.5.0",
     "model_name": "DescriptionStyleModel",
     "state": {
      "_model_module": "@jupyter-widgets/controls",
      "_model_module_version": "1.5.0",
      "_model_name": "DescriptionStyleModel",
      "_view_count": null,
      "_view_module": "@jupyter-widgets/base",
      "_view_module_version": "1.2.0",
      "_view_name": "StyleView",
      "description_width": ""
     }
    },
    "4cf4807c464b41f3b4669222fbfede0b": {
     "model_module": "@jupyter-widgets/base",
     "model_module_version": "1.2.0",
     "model_name": "LayoutModel",
     "state": {
      "_model_module": "@jupyter-widgets/base",
      "_model_module_version": "1.2.0",
      "_model_name": "LayoutModel",
      "_view_count": null,
      "_view_module": "@jupyter-widgets/base",
      "_view_module_version": "1.2.0",
      "_view_name": "LayoutView",
      "align_content": null,
      "align_items": null,
      "align_self": null,
      "border": null,
      "bottom": null,
      "display": null,
      "flex": null,
      "flex_flow": null,
      "grid_area": null,
      "grid_auto_columns": null,
      "grid_auto_flow": null,
      "grid_auto_rows": null,
      "grid_column": null,
      "grid_gap": null,
      "grid_row": null,
      "grid_template_areas": null,
      "grid_template_columns": null,
      "grid_template_rows": null,
      "height": null,
      "justify_content": null,
      "justify_items": null,
      "left": null,
      "margin": null,
      "max_height": null,
      "max_width": null,
      "min_height": null,
      "min_width": null,
      "object_fit": null,
      "object_position": null,
      "order": null,
      "overflow": null,
      "overflow_x": null,
      "overflow_y": null,
      "padding": null,
      "right": null,
      "top": null,
      "visibility": null,
      "width": null
     }
    },
    "591d5f131cc948f2a50742772c5fb75d": {
     "model_module": "@jupyter-widgets/controls",
     "model_module_version": "1.5.0",
     "model_name": "DescriptionStyleModel",
     "state": {
      "_model_module": "@jupyter-widgets/controls",
      "_model_module_version": "1.5.0",
      "_model_name": "DescriptionStyleModel",
      "_view_count": null,
      "_view_module": "@jupyter-widgets/base",
      "_view_module_version": "1.2.0",
      "_view_name": "StyleView",
      "description_width": ""
     }
    },
    "5a100f74d98e46c0b302159bad9d152a": {
     "model_module": "@jupyter-widgets/controls",
     "model_module_version": "1.5.0",
     "model_name": "FloatProgressModel",
     "state": {
      "_dom_classes": [],
      "_model_module": "@jupyter-widgets/controls",
      "_model_module_version": "1.5.0",
      "_model_name": "FloatProgressModel",
      "_view_count": null,
      "_view_module": "@jupyter-widgets/controls",
      "_view_module_version": "1.5.0",
      "_view_name": "ProgressView",
      "bar_style": "success",
      "description": "",
      "description_tooltip": null,
      "layout": "IPY_MODEL_39ab5cdb5a394c419e7360bc46e88fdd",
      "max": 440449768,
      "min": 0,
      "orientation": "horizontal",
      "style": "IPY_MODEL_9b4d5f8e89e149f798b56812ef8841fd",
      "value": 440449768
     }
    },
    "5ba20ab4693b406fa465fef3aa4c27c7": {
     "model_module": "@jupyter-widgets/base",
     "model_module_version": "1.2.0",
     "model_name": "LayoutModel",
     "state": {
      "_model_module": "@jupyter-widgets/base",
      "_model_module_version": "1.2.0",
      "_model_name": "LayoutModel",
      "_view_count": null,
      "_view_module": "@jupyter-widgets/base",
      "_view_module_version": "1.2.0",
      "_view_name": "LayoutView",
      "align_content": null,
      "align_items": null,
      "align_self": null,
      "border": null,
      "bottom": null,
      "display": null,
      "flex": null,
      "flex_flow": null,
      "grid_area": null,
      "grid_auto_columns": null,
      "grid_auto_flow": null,
      "grid_auto_rows": null,
      "grid_column": null,
      "grid_gap": null,
      "grid_row": null,
      "grid_template_areas": null,
      "grid_template_columns": null,
      "grid_template_rows": null,
      "height": null,
      "justify_content": null,
      "justify_items": null,
      "left": null,
      "margin": null,
      "max_height": null,
      "max_width": null,
      "min_height": null,
      "min_width": null,
      "object_fit": null,
      "object_position": null,
      "order": null,
      "overflow": null,
      "overflow_x": null,
      "overflow_y": null,
      "padding": null,
      "right": null,
      "top": null,
      "visibility": null,
      "width": null
     }
    },
    "6330ed8bd01e4a3992464931491d04f6": {
     "model_module": "@jupyter-widgets/base",
     "model_module_version": "1.2.0",
     "model_name": "LayoutModel",
     "state": {
      "_model_module": "@jupyter-widgets/base",
      "_model_module_version": "1.2.0",
      "_model_name": "LayoutModel",
      "_view_count": null,
      "_view_module": "@jupyter-widgets/base",
      "_view_module_version": "1.2.0",
      "_view_name": "LayoutView",
      "align_content": null,
      "align_items": null,
      "align_self": null,
      "border": null,
      "bottom": null,
      "display": null,
      "flex": null,
      "flex_flow": null,
      "grid_area": null,
      "grid_auto_columns": null,
      "grid_auto_flow": null,
      "grid_auto_rows": null,
      "grid_column": null,
      "grid_gap": null,
      "grid_row": null,
      "grid_template_areas": null,
      "grid_template_columns": null,
      "grid_template_rows": null,
      "height": null,
      "justify_content": null,
      "justify_items": null,
      "left": null,
      "margin": null,
      "max_height": null,
      "max_width": null,
      "min_height": null,
      "min_width": null,
      "object_fit": null,
      "object_position": null,
      "order": null,
      "overflow": null,
      "overflow_x": null,
      "overflow_y": null,
      "padding": null,
      "right": null,
      "top": null,
      "visibility": null,
      "width": null
     }
    },
    "637a0e73364743e095f27a149a16eb7d": {
     "model_module": "@jupyter-widgets/controls",
     "model_module_version": "1.5.0",
     "model_name": "FloatProgressModel",
     "state": {
      "_dom_classes": [],
      "_model_module": "@jupyter-widgets/controls",
      "_model_module_version": "1.5.0",
      "_model_name": "FloatProgressModel",
      "_view_count": null,
      "_view_module": "@jupyter-widgets/controls",
      "_view_module_version": "1.5.0",
      "_view_name": "ProgressView",
      "bar_style": "success",
      "description": "",
      "description_tooltip": null,
      "layout": "IPY_MODEL_f76a27c04fb74a088019e44456fa2209",
      "max": 48,
      "min": 0,
      "orientation": "horizontal",
      "style": "IPY_MODEL_9ecaa4ee928f4b64be2756beead8d0a5",
      "value": 48
     }
    },
    "6c20ea0dbfbd4ef298ad97bac8ec24b9": {
     "model_module": "@jupyter-widgets/base",
     "model_module_version": "1.2.0",
     "model_name": "LayoutModel",
     "state": {
      "_model_module": "@jupyter-widgets/base",
      "_model_module_version": "1.2.0",
      "_model_name": "LayoutModel",
      "_view_count": null,
      "_view_module": "@jupyter-widgets/base",
      "_view_module_version": "1.2.0",
      "_view_name": "LayoutView",
      "align_content": null,
      "align_items": null,
      "align_self": null,
      "border": null,
      "bottom": null,
      "display": null,
      "flex": null,
      "flex_flow": null,
      "grid_area": null,
      "grid_auto_columns": null,
      "grid_auto_flow": null,
      "grid_auto_rows": null,
      "grid_column": null,
      "grid_gap": null,
      "grid_row": null,
      "grid_template_areas": null,
      "grid_template_columns": null,
      "grid_template_rows": null,
      "height": null,
      "justify_content": null,
      "justify_items": null,
      "left": null,
      "margin": null,
      "max_height": null,
      "max_width": null,
      "min_height": null,
      "min_width": null,
      "object_fit": null,
      "object_position": null,
      "order": null,
      "overflow": null,
      "overflow_x": null,
      "overflow_y": null,
      "padding": null,
      "right": null,
      "top": null,
      "visibility": null,
      "width": null
     }
    },
    "6d3baa6da0504412912f6258d9a4d2a4": {
     "model_module": "@jupyter-widgets/base",
     "model_module_version": "1.2.0",
     "model_name": "LayoutModel",
     "state": {
      "_model_module": "@jupyter-widgets/base",
      "_model_module_version": "1.2.0",
      "_model_name": "LayoutModel",
      "_view_count": null,
      "_view_module": "@jupyter-widgets/base",
      "_view_module_version": "1.2.0",
      "_view_name": "LayoutView",
      "align_content": null,
      "align_items": null,
      "align_self": null,
      "border": null,
      "bottom": null,
      "display": null,
      "flex": null,
      "flex_flow": null,
      "grid_area": null,
      "grid_auto_columns": null,
      "grid_auto_flow": null,
      "grid_auto_rows": null,
      "grid_column": null,
      "grid_gap": null,
      "grid_row": null,
      "grid_template_areas": null,
      "grid_template_columns": null,
      "grid_template_rows": null,
      "height": null,
      "justify_content": null,
      "justify_items": null,
      "left": null,
      "margin": null,
      "max_height": null,
      "max_width": null,
      "min_height": null,
      "min_width": null,
      "object_fit": null,
      "object_position": null,
      "order": null,
      "overflow": null,
      "overflow_x": null,
      "overflow_y": null,
      "padding": null,
      "right": null,
      "top": null,
      "visibility": null,
      "width": null
     }
    },
    "6e8f60bd2a2c414394c19d8991eae2d8": {
     "model_module": "@jupyter-widgets/controls",
     "model_module_version": "1.5.0",
     "model_name": "HBoxModel",
     "state": {
      "_dom_classes": [],
      "_model_module": "@jupyter-widgets/controls",
      "_model_module_version": "1.5.0",
      "_model_name": "HBoxModel",
      "_view_count": null,
      "_view_module": "@jupyter-widgets/controls",
      "_view_module_version": "1.5.0",
      "_view_name": "HBoxView",
      "box_style": "",
      "children": [
       "IPY_MODEL_410e62e5ac944a59bc4868eea09490d1",
       "IPY_MODEL_5a100f74d98e46c0b302159bad9d152a",
       "IPY_MODEL_03b2dfb2b7c045079e6ffe36cfe20236"
      ],
      "layout": "IPY_MODEL_4cf4807c464b41f3b4669222fbfede0b"
     }
    },
    "7cea2a5f7b4c4d95944f5c0c320a18a2": {
     "model_module": "@jupyter-widgets/controls",
     "model_module_version": "1.5.0",
     "model_name": "HTMLModel",
     "state": {
      "_dom_classes": [],
      "_model_module": "@jupyter-widgets/controls",
      "_model_module_version": "1.5.0",
      "_model_name": "HTMLModel",
      "_view_count": null,
      "_view_module": "@jupyter-widgets/controls",
      "_view_module_version": "1.5.0",
      "_view_name": "HTMLView",
      "description": "",
      "description_tooltip": null,
      "layout": "IPY_MODEL_ef72bb05e9e5442ebbae48e2fd8ea28b",
      "placeholder": "​",
      "style": "IPY_MODEL_42f8856b3c27405a84db1a838dd4482d",
      "value": " 48.0/48.0 [00:00&lt;00:00, 3.31kB/s]"
     }
    },
    "7fbcc1216fe74a2aa54a3278df759ee5": {
     "model_module": "@jupyter-widgets/controls",
     "model_module_version": "1.5.0",
     "model_name": "ProgressStyleModel",
     "state": {
      "_model_module": "@jupyter-widgets/controls",
      "_model_module_version": "1.5.0",
      "_model_name": "ProgressStyleModel",
      "_view_count": null,
      "_view_module": "@jupyter-widgets/base",
      "_view_module_version": "1.2.0",
      "_view_name": "StyleView",
      "bar_color": null,
      "description_width": ""
     }
    },
    "7ffffcf545d34bc1bbda8e2ced5825bc": {
     "model_module": "@jupyter-widgets/base",
     "model_module_version": "1.2.0",
     "model_name": "LayoutModel",
     "state": {
      "_model_module": "@jupyter-widgets/base",
      "_model_module_version": "1.2.0",
      "_model_name": "LayoutModel",
      "_view_count": null,
      "_view_module": "@jupyter-widgets/base",
      "_view_module_version": "1.2.0",
      "_view_name": "LayoutView",
      "align_content": null,
      "align_items": null,
      "align_self": null,
      "border": null,
      "bottom": null,
      "display": null,
      "flex": null,
      "flex_flow": null,
      "grid_area": null,
      "grid_auto_columns": null,
      "grid_auto_flow": null,
      "grid_auto_rows": null,
      "grid_column": null,
      "grid_gap": null,
      "grid_row": null,
      "grid_template_areas": null,
      "grid_template_columns": null,
      "grid_template_rows": null,
      "height": null,
      "justify_content": null,
      "justify_items": null,
      "left": null,
      "margin": null,
      "max_height": null,
      "max_width": null,
      "min_height": null,
      "min_width": null,
      "object_fit": null,
      "object_position": null,
      "order": null,
      "overflow": null,
      "overflow_x": null,
      "overflow_y": null,
      "padding": null,
      "right": null,
      "top": null,
      "visibility": null,
      "width": null
     }
    },
    "811e6b51c8ba42f2899c0d67bd7aeb9e": {
     "model_module": "@jupyter-widgets/controls",
     "model_module_version": "1.5.0",
     "model_name": "DescriptionStyleModel",
     "state": {
      "_model_module": "@jupyter-widgets/controls",
      "_model_module_version": "1.5.0",
      "_model_name": "DescriptionStyleModel",
      "_view_count": null,
      "_view_module": "@jupyter-widgets/base",
      "_view_module_version": "1.2.0",
      "_view_name": "StyleView",
      "description_width": ""
     }
    },
    "812a8900677b4c7ba1da7ec9e1be9741": {
     "model_module": "@jupyter-widgets/controls",
     "model_module_version": "1.5.0",
     "model_name": "ProgressStyleModel",
     "state": {
      "_model_module": "@jupyter-widgets/controls",
      "_model_module_version": "1.5.0",
      "_model_name": "ProgressStyleModel",
      "_view_count": null,
      "_view_module": "@jupyter-widgets/base",
      "_view_module_version": "1.2.0",
      "_view_name": "StyleView",
      "bar_color": null,
      "description_width": ""
     }
    },
    "841bb01336264cbe86d54e99874cbba5": {
     "model_module": "@jupyter-widgets/base",
     "model_module_version": "1.2.0",
     "model_name": "LayoutModel",
     "state": {
      "_model_module": "@jupyter-widgets/base",
      "_model_module_version": "1.2.0",
      "_model_name": "LayoutModel",
      "_view_count": null,
      "_view_module": "@jupyter-widgets/base",
      "_view_module_version": "1.2.0",
      "_view_name": "LayoutView",
      "align_content": null,
      "align_items": null,
      "align_self": null,
      "border": null,
      "bottom": null,
      "display": null,
      "flex": null,
      "flex_flow": null,
      "grid_area": null,
      "grid_auto_columns": null,
      "grid_auto_flow": null,
      "grid_auto_rows": null,
      "grid_column": null,
      "grid_gap": null,
      "grid_row": null,
      "grid_template_areas": null,
      "grid_template_columns": null,
      "grid_template_rows": null,
      "height": null,
      "justify_content": null,
      "justify_items": null,
      "left": null,
      "margin": null,
      "max_height": null,
      "max_width": null,
      "min_height": null,
      "min_width": null,
      "object_fit": null,
      "object_position": null,
      "order": null,
      "overflow": null,
      "overflow_x": null,
      "overflow_y": null,
      "padding": null,
      "right": null,
      "top": null,
      "visibility": null,
      "width": null
     }
    },
    "9b20943d19794216b5328934b6dad351": {
     "model_module": "@jupyter-widgets/base",
     "model_module_version": "1.2.0",
     "model_name": "LayoutModel",
     "state": {
      "_model_module": "@jupyter-widgets/base",
      "_model_module_version": "1.2.0",
      "_model_name": "LayoutModel",
      "_view_count": null,
      "_view_module": "@jupyter-widgets/base",
      "_view_module_version": "1.2.0",
      "_view_name": "LayoutView",
      "align_content": null,
      "align_items": null,
      "align_self": null,
      "border": null,
      "bottom": null,
      "display": null,
      "flex": null,
      "flex_flow": null,
      "grid_area": null,
      "grid_auto_columns": null,
      "grid_auto_flow": null,
      "grid_auto_rows": null,
      "grid_column": null,
      "grid_gap": null,
      "grid_row": null,
      "grid_template_areas": null,
      "grid_template_columns": null,
      "grid_template_rows": null,
      "height": null,
      "justify_content": null,
      "justify_items": null,
      "left": null,
      "margin": null,
      "max_height": null,
      "max_width": null,
      "min_height": null,
      "min_width": null,
      "object_fit": null,
      "object_position": null,
      "order": null,
      "overflow": null,
      "overflow_x": null,
      "overflow_y": null,
      "padding": null,
      "right": null,
      "top": null,
      "visibility": null,
      "width": null
     }
    },
    "9b4d5f8e89e149f798b56812ef8841fd": {
     "model_module": "@jupyter-widgets/controls",
     "model_module_version": "1.5.0",
     "model_name": "ProgressStyleModel",
     "state": {
      "_model_module": "@jupyter-widgets/controls",
      "_model_module_version": "1.5.0",
      "_model_name": "ProgressStyleModel",
      "_view_count": null,
      "_view_module": "@jupyter-widgets/base",
      "_view_module_version": "1.2.0",
      "_view_name": "StyleView",
      "bar_color": null,
      "description_width": ""
     }
    },
    "9ecaa4ee928f4b64be2756beead8d0a5": {
     "model_module": "@jupyter-widgets/controls",
     "model_module_version": "1.5.0",
     "model_name": "ProgressStyleModel",
     "state": {
      "_model_module": "@jupyter-widgets/controls",
      "_model_module_version": "1.5.0",
      "_model_name": "ProgressStyleModel",
      "_view_count": null,
      "_view_module": "@jupyter-widgets/base",
      "_view_module_version": "1.2.0",
      "_view_name": "StyleView",
      "bar_color": null,
      "description_width": ""
     }
    },
    "a02d92b97fe942bbab93c784cbd76279": {
     "model_module": "@jupyter-widgets/controls",
     "model_module_version": "1.5.0",
     "model_name": "HTMLModel",
     "state": {
      "_dom_classes": [],
      "_model_module": "@jupyter-widgets/controls",
      "_model_module_version": "1.5.0",
      "_model_name": "HTMLModel",
      "_view_count": null,
      "_view_module": "@jupyter-widgets/controls",
      "_view_module_version": "1.5.0",
      "_view_name": "HTMLView",
      "description": "",
      "description_tooltip": null,
      "layout": "IPY_MODEL_6d3baa6da0504412912f6258d9a4d2a4",
      "placeholder": "​",
      "style": "IPY_MODEL_c53fca8df87d40f4b4019ba269f25806",
      "value": " 232k/232k [00:00&lt;00:00, 1.78MB/s]"
     }
    },
    "ae047c0834474efa95d0c89b91326674": {
     "model_module": "@jupyter-widgets/controls",
     "model_module_version": "1.5.0",
     "model_name": "FloatProgressModel",
     "state": {
      "_dom_classes": [],
      "_model_module": "@jupyter-widgets/controls",
      "_model_module_version": "1.5.0",
      "_model_name": "FloatProgressModel",
      "_view_count": null,
      "_view_module": "@jupyter-widgets/controls",
      "_view_module_version": "1.5.0",
      "_view_name": "ProgressView",
      "bar_style": "success",
      "description": "",
      "description_tooltip": null,
      "layout": "IPY_MODEL_014612a41b544d6e8efc4e4abb61a8d8",
      "max": 570,
      "min": 0,
      "orientation": "horizontal",
      "style": "IPY_MODEL_7fbcc1216fe74a2aa54a3278df759ee5",
      "value": 570
     }
    },
    "ae0d15b93f544d8d88ff233a397a2718": {
     "model_module": "@jupyter-widgets/controls",
     "model_module_version": "1.5.0",
     "model_name": "ProgressStyleModel",
     "state": {
      "_model_module": "@jupyter-widgets/controls",
      "_model_module_version": "1.5.0",
      "_model_name": "ProgressStyleModel",
      "_view_count": null,
      "_view_module": "@jupyter-widgets/base",
      "_view_module_version": "1.2.0",
      "_view_name": "StyleView",
      "bar_color": null,
      "description_width": ""
     }
    },
    "b67f0acffc48428cb664d665d001dda6": {
     "model_module": "@jupyter-widgets/base",
     "model_module_version": "1.2.0",
     "model_name": "LayoutModel",
     "state": {
      "_model_module": "@jupyter-widgets/base",
      "_model_module_version": "1.2.0",
      "_model_name": "LayoutModel",
      "_view_count": null,
      "_view_module": "@jupyter-widgets/base",
      "_view_module_version": "1.2.0",
      "_view_name": "LayoutView",
      "align_content": null,
      "align_items": null,
      "align_self": null,
      "border": null,
      "bottom": null,
      "display": null,
      "flex": null,
      "flex_flow": null,
      "grid_area": null,
      "grid_auto_columns": null,
      "grid_auto_flow": null,
      "grid_auto_rows": null,
      "grid_column": null,
      "grid_gap": null,
      "grid_row": null,
      "grid_template_areas": null,
      "grid_template_columns": null,
      "grid_template_rows": null,
      "height": null,
      "justify_content": null,
      "justify_items": null,
      "left": null,
      "margin": null,
      "max_height": null,
      "max_width": null,
      "min_height": null,
      "min_width": null,
      "object_fit": null,
      "object_position": null,
      "order": null,
      "overflow": null,
      "overflow_x": null,
      "overflow_y": null,
      "padding": null,
      "right": null,
      "top": null,
      "visibility": null,
      "width": null
     }
    },
    "c53fca8df87d40f4b4019ba269f25806": {
     "model_module": "@jupyter-widgets/controls",
     "model_module_version": "1.5.0",
     "model_name": "DescriptionStyleModel",
     "state": {
      "_model_module": "@jupyter-widgets/controls",
      "_model_module_version": "1.5.0",
      "_model_name": "DescriptionStyleModel",
      "_view_count": null,
      "_view_module": "@jupyter-widgets/base",
      "_view_module_version": "1.2.0",
      "_view_name": "StyleView",
      "description_width": ""
     }
    },
    "c7a437105b9846b7bcfaacc6e80a6216": {
     "model_module": "@jupyter-widgets/controls",
     "model_module_version": "1.5.0",
     "model_name": "DescriptionStyleModel",
     "state": {
      "_model_module": "@jupyter-widgets/controls",
      "_model_module_version": "1.5.0",
      "_model_name": "DescriptionStyleModel",
      "_view_count": null,
      "_view_module": "@jupyter-widgets/base",
      "_view_module_version": "1.2.0",
      "_view_name": "StyleView",
      "description_width": ""
     }
    },
    "ccabf33edff24447903b7fb14c2c678a": {
     "model_module": "@jupyter-widgets/controls",
     "model_module_version": "1.5.0",
     "model_name": "HBoxModel",
     "state": {
      "_dom_classes": [],
      "_model_module": "@jupyter-widgets/controls",
      "_model_module_version": "1.5.0",
      "_model_name": "HBoxModel",
      "_view_count": null,
      "_view_module": "@jupyter-widgets/controls",
      "_view_module_version": "1.5.0",
      "_view_name": "HBoxView",
      "box_style": "",
      "children": [
       "IPY_MODEL_33e6e512fad74d78b88dfad61ed96470",
       "IPY_MODEL_ae047c0834474efa95d0c89b91326674",
       "IPY_MODEL_fee61b8a973a46d398ddd5ea47f35a33"
      ],
      "layout": "IPY_MODEL_025bf2182347431c8d3470d6d93d09ff"
     }
    },
    "cd535cd7a3c5418290420d5127293f3e": {
     "model_module": "@jupyter-widgets/controls",
     "model_module_version": "1.5.0",
     "model_name": "HTMLModel",
     "state": {
      "_dom_classes": [],
      "_model_module": "@jupyter-widgets/controls",
      "_model_module_version": "1.5.0",
      "_model_name": "HTMLModel",
      "_view_count": null,
      "_view_module": "@jupyter-widgets/controls",
      "_view_module_version": "1.5.0",
      "_view_name": "HTMLView",
      "description": "",
      "description_tooltip": null,
      "layout": "IPY_MODEL_5ba20ab4693b406fa465fef3aa4c27c7",
      "placeholder": "​",
      "style": "IPY_MODEL_da0b2c9588054c9baafbbbf5375b5ebe",
      "value": " 466k/466k [00:00&lt;00:00, 6.95MB/s]"
     }
    },
    "cde19e1fb624491282d32ca074abfa85": {
     "model_module": "@jupyter-widgets/base",
     "model_module_version": "1.2.0",
     "model_name": "LayoutModel",
     "state": {
      "_model_module": "@jupyter-widgets/base",
      "_model_module_version": "1.2.0",
      "_model_name": "LayoutModel",
      "_view_count": null,
      "_view_module": "@jupyter-widgets/base",
      "_view_module_version": "1.2.0",
      "_view_name": "LayoutView",
      "align_content": null,
      "align_items": null,
      "align_self": null,
      "border": null,
      "bottom": null,
      "display": null,
      "flex": null,
      "flex_flow": null,
      "grid_area": null,
      "grid_auto_columns": null,
      "grid_auto_flow": null,
      "grid_auto_rows": null,
      "grid_column": null,
      "grid_gap": null,
      "grid_row": null,
      "grid_template_areas": null,
      "grid_template_columns": null,
      "grid_template_rows": null,
      "height": null,
      "justify_content": null,
      "justify_items": null,
      "left": null,
      "margin": null,
      "max_height": null,
      "max_width": null,
      "min_height": null,
      "min_width": null,
      "object_fit": null,
      "object_position": null,
      "order": null,
      "overflow": null,
      "overflow_x": null,
      "overflow_y": null,
      "padding": null,
      "right": null,
      "top": null,
      "visibility": null,
      "width": null
     }
    },
    "cff03d61d7c74c98a50735c2f3165c0c": {
     "model_module": "@jupyter-widgets/controls",
     "model_module_version": "1.5.0",
     "model_name": "DescriptionStyleModel",
     "state": {
      "_model_module": "@jupyter-widgets/controls",
      "_model_module_version": "1.5.0",
      "_model_name": "DescriptionStyleModel",
      "_view_count": null,
      "_view_module": "@jupyter-widgets/base",
      "_view_module_version": "1.2.0",
      "_view_name": "StyleView",
      "description_width": ""
     }
    },
    "d1fcfedeceb34007885e1e4489a8894d": {
     "model_module": "@jupyter-widgets/base",
     "model_module_version": "1.2.0",
     "model_name": "LayoutModel",
     "state": {
      "_model_module": "@jupyter-widgets/base",
      "_model_module_version": "1.2.0",
      "_model_name": "LayoutModel",
      "_view_count": null,
      "_view_module": "@jupyter-widgets/base",
      "_view_module_version": "1.2.0",
      "_view_name": "LayoutView",
      "align_content": null,
      "align_items": null,
      "align_self": null,
      "border": null,
      "bottom": null,
      "display": null,
      "flex": null,
      "flex_flow": null,
      "grid_area": null,
      "grid_auto_columns": null,
      "grid_auto_flow": null,
      "grid_auto_rows": null,
      "grid_column": null,
      "grid_gap": null,
      "grid_row": null,
      "grid_template_areas": null,
      "grid_template_columns": null,
      "grid_template_rows": null,
      "height": null,
      "justify_content": null,
      "justify_items": null,
      "left": null,
      "margin": null,
      "max_height": null,
      "max_width": null,
      "min_height": null,
      "min_width": null,
      "object_fit": null,
      "object_position": null,
      "order": null,
      "overflow": null,
      "overflow_x": null,
      "overflow_y": null,
      "padding": null,
      "right": null,
      "top": null,
      "visibility": null,
      "width": null
     }
    },
    "d65be6ab7c504f028d618496d855f56c": {
     "model_module": "@jupyter-widgets/controls",
     "model_module_version": "1.5.0",
     "model_name": "DescriptionStyleModel",
     "state": {
      "_model_module": "@jupyter-widgets/controls",
      "_model_module_version": "1.5.0",
      "_model_name": "DescriptionStyleModel",
      "_view_count": null,
      "_view_module": "@jupyter-widgets/base",
      "_view_module_version": "1.2.0",
      "_view_name": "StyleView",
      "description_width": ""
     }
    },
    "d6f9bf958b334ffca295c5b74a50a745": {
     "model_module": "@jupyter-widgets/controls",
     "model_module_version": "1.5.0",
     "model_name": "DescriptionStyleModel",
     "state": {
      "_model_module": "@jupyter-widgets/controls",
      "_model_module_version": "1.5.0",
      "_model_name": "DescriptionStyleModel",
      "_view_count": null,
      "_view_module": "@jupyter-widgets/base",
      "_view_module_version": "1.2.0",
      "_view_name": "StyleView",
      "description_width": ""
     }
    },
    "da0b2c9588054c9baafbbbf5375b5ebe": {
     "model_module": "@jupyter-widgets/controls",
     "model_module_version": "1.5.0",
     "model_name": "DescriptionStyleModel",
     "state": {
      "_model_module": "@jupyter-widgets/controls",
      "_model_module_version": "1.5.0",
      "_model_name": "DescriptionStyleModel",
      "_view_count": null,
      "_view_module": "@jupyter-widgets/base",
      "_view_module_version": "1.2.0",
      "_view_name": "StyleView",
      "description_width": ""
     }
    },
    "dbf1b6aec6104eb9b977d1d2ec1a0137": {
     "model_module": "@jupyter-widgets/controls",
     "model_module_version": "1.5.0",
     "model_name": "HTMLModel",
     "state": {
      "_dom_classes": [],
      "_model_module": "@jupyter-widgets/controls",
      "_model_module_version": "1.5.0",
      "_model_name": "HTMLModel",
      "_view_count": null,
      "_view_module": "@jupyter-widgets/controls",
      "_view_module_version": "1.5.0",
      "_view_name": "HTMLView",
      "description": "",
      "description_tooltip": null,
      "layout": "IPY_MODEL_2d3b3ee1639c457bb12b1d96e53dfedc",
      "placeholder": "​",
      "style": "IPY_MODEL_591d5f131cc948f2a50742772c5fb75d",
      "value": "vocab.txt: 100%"
     }
    },
    "e279577e328548a6a134c496b4959309": {
     "model_module": "@jupyter-widgets/controls",
     "model_module_version": "1.5.0",
     "model_name": "HBoxModel",
     "state": {
      "_dom_classes": [],
      "_model_module": "@jupyter-widgets/controls",
      "_model_module_version": "1.5.0",
      "_model_name": "HBoxModel",
      "_view_count": null,
      "_view_module": "@jupyter-widgets/controls",
      "_view_module_version": "1.5.0",
      "_view_name": "HBoxView",
      "box_style": "",
      "children": [
       "IPY_MODEL_dbf1b6aec6104eb9b977d1d2ec1a0137",
       "IPY_MODEL_03c40c7054ae4917906cd90d36b5c705",
       "IPY_MODEL_a02d92b97fe942bbab93c784cbd76279"
      ],
      "layout": "IPY_MODEL_6c20ea0dbfbd4ef298ad97bac8ec24b9"
     }
    },
    "e5a8a0f4d32b4fde8bc7fa393c72e21a": {
     "model_module": "@jupyter-widgets/controls",
     "model_module_version": "1.5.0",
     "model_name": "DescriptionStyleModel",
     "state": {
      "_model_module": "@jupyter-widgets/controls",
      "_model_module_version": "1.5.0",
      "_model_name": "DescriptionStyleModel",
      "_view_count": null,
      "_view_module": "@jupyter-widgets/base",
      "_view_module_version": "1.2.0",
      "_view_name": "StyleView",
      "description_width": ""
     }
    },
    "ef72bb05e9e5442ebbae48e2fd8ea28b": {
     "model_module": "@jupyter-widgets/base",
     "model_module_version": "1.2.0",
     "model_name": "LayoutModel",
     "state": {
      "_model_module": "@jupyter-widgets/base",
      "_model_module_version": "1.2.0",
      "_model_name": "LayoutModel",
      "_view_count": null,
      "_view_module": "@jupyter-widgets/base",
      "_view_module_version": "1.2.0",
      "_view_name": "LayoutView",
      "align_content": null,
      "align_items": null,
      "align_self": null,
      "border": null,
      "bottom": null,
      "display": null,
      "flex": null,
      "flex_flow": null,
      "grid_area": null,
      "grid_auto_columns": null,
      "grid_auto_flow": null,
      "grid_auto_rows": null,
      "grid_column": null,
      "grid_gap": null,
      "grid_row": null,
      "grid_template_areas": null,
      "grid_template_columns": null,
      "grid_template_rows": null,
      "height": null,
      "justify_content": null,
      "justify_items": null,
      "left": null,
      "margin": null,
      "max_height": null,
      "max_width": null,
      "min_height": null,
      "min_width": null,
      "object_fit": null,
      "object_position": null,
      "order": null,
      "overflow": null,
      "overflow_x": null,
      "overflow_y": null,
      "padding": null,
      "right": null,
      "top": null,
      "visibility": null,
      "width": null
     }
    },
    "f52d50b062d74be88cb7b95b6c0bf5a9": {
     "model_module": "@jupyter-widgets/controls",
     "model_module_version": "1.5.0",
     "model_name": "FloatProgressModel",
     "state": {
      "_dom_classes": [],
      "_model_module": "@jupyter-widgets/controls",
      "_model_module_version": "1.5.0",
      "_model_name": "FloatProgressModel",
      "_view_count": null,
      "_view_module": "@jupyter-widgets/controls",
      "_view_module_version": "1.5.0",
      "_view_name": "ProgressView",
      "bar_style": "success",
      "description": "",
      "description_tooltip": null,
      "layout": "IPY_MODEL_7ffffcf545d34bc1bbda8e2ced5825bc",
      "max": 466062,
      "min": 0,
      "orientation": "horizontal",
      "style": "IPY_MODEL_812a8900677b4c7ba1da7ec9e1be9741",
      "value": 466062
     }
    },
    "f76a27c04fb74a088019e44456fa2209": {
     "model_module": "@jupyter-widgets/base",
     "model_module_version": "1.2.0",
     "model_name": "LayoutModel",
     "state": {
      "_model_module": "@jupyter-widgets/base",
      "_model_module_version": "1.2.0",
      "_model_name": "LayoutModel",
      "_view_count": null,
      "_view_module": "@jupyter-widgets/base",
      "_view_module_version": "1.2.0",
      "_view_name": "LayoutView",
      "align_content": null,
      "align_items": null,
      "align_self": null,
      "border": null,
      "bottom": null,
      "display": null,
      "flex": null,
      "flex_flow": null,
      "grid_area": null,
      "grid_auto_columns": null,
      "grid_auto_flow": null,
      "grid_auto_rows": null,
      "grid_column": null,
      "grid_gap": null,
      "grid_row": null,
      "grid_template_areas": null,
      "grid_template_columns": null,
      "grid_template_rows": null,
      "height": null,
      "justify_content": null,
      "justify_items": null,
      "left": null,
      "margin": null,
      "max_height": null,
      "max_width": null,
      "min_height": null,
      "min_width": null,
      "object_fit": null,
      "object_position": null,
      "order": null,
      "overflow": null,
      "overflow_x": null,
      "overflow_y": null,
      "padding": null,
      "right": null,
      "top": null,
      "visibility": null,
      "width": null
     }
    },
    "fee61b8a973a46d398ddd5ea47f35a33": {
     "model_module": "@jupyter-widgets/controls",
     "model_module_version": "1.5.0",
     "model_name": "HTMLModel",
     "state": {
      "_dom_classes": [],
      "_model_module": "@jupyter-widgets/controls",
      "_model_module_version": "1.5.0",
      "_model_name": "HTMLModel",
      "_view_count": null,
      "_view_module": "@jupyter-widgets/controls",
      "_view_module_version": "1.5.0",
      "_view_name": "HTMLView",
      "description": "",
      "description_tooltip": null,
      "layout": "IPY_MODEL_3beb4d03d43848428023f6c6becbca73",
      "placeholder": "​",
      "style": "IPY_MODEL_c7a437105b9846b7bcfaacc6e80a6216",
      "value": " 570/570 [00:00&lt;00:00, 24.6kB/s]"
     }
    }
   }
  }
 },
 "nbformat": 4,
 "nbformat_minor": 1
}
